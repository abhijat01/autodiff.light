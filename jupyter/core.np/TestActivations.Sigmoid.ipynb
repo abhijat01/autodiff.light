{
 "cells": [
  {
   "cell_type": "code",
   "execution_count": 11,
   "metadata": {},
   "outputs": [],
   "source": [
    "import torch\n",
    "import torch.nn as nn\n",
    "import numpy as np"
   ]
  },
  {
   "cell_type": "code",
   "execution_count": 2,
   "metadata": {},
   "outputs": [],
   "source": [
    "class Net(nn.Module):\n",
    "    def __init__(self):\n",
    "        super(Net, self).__init__()\n",
    "        self.layer =  nn.Sigmoid()\n",
    "\n",
    "    def forward(self, x):\n",
    "        return self.layer(x) \n",
    "net = Net()  \n",
    "x = torch.tensor([[1, 2, 3, 4], [3, 4, 5, 6], [-1, 0, 1, 3.0]], requires_grad=True )"
   ]
  },
  {
   "cell_type": "code",
   "execution_count": 3,
   "metadata": {},
   "outputs": [
    {
     "name": "stdout",
     "output_type": "stream",
     "text": [
      "tensor([[0.7311, 0.8808, 0.9526, 0.9820],\n",
      "        [0.9526, 0.9820, 0.9933, 0.9975],\n",
      "        [0.2689, 0.5000, 0.7311, 0.9526]])\n"
     ]
    }
   ],
   "source": [
    "x = nn.Parameter(x) \n",
    "y=net(x)\n",
    "print(y.data)"
   ]
  },
  {
   "cell_type": "code",
   "execution_count": 4,
   "metadata": {},
   "outputs": [],
   "source": [
    "target = torch.zeros_like(y) \n",
    "loss_function = nn.MSELoss() \n",
    "loss = loss_function(y, target)\n",
    "optimizer = torch.optim.SGD([x], lr=.001)"
   ]
  },
  {
   "cell_type": "code",
   "execution_count": 5,
   "metadata": {},
   "outputs": [],
   "source": [
    "optimizer.zero_grad()\n",
    "loss.backward()\n",
    "optimizer.step()"
   ]
  },
  {
   "cell_type": "code",
   "execution_count": 6,
   "metadata": {},
   "outputs": [
    {
     "name": "stdout",
     "output_type": "stream",
     "text": [
      "tensor(0.73330349, grad_fn=<MseLossBackward>)\n",
      "tensor([[0.02395581, 0.01541301, 0.00717235, 0.00289084],\n",
      "        [0.00717235, 0.00289084, 0.00110059, 0.00041006],\n",
      "        [0.00881285, 0.02083333, 0.02395581, 0.00717235]])\n"
     ]
    }
   ],
   "source": [
    "torch.set_printoptions(precision=8, sci_mode=False)\n",
    "print(loss)\n",
    "print(x.grad) "
   ]
  },
  {
   "cell_type": "code",
   "execution_count": 13,
   "metadata": {},
   "outputs": [
    {
     "name": "stdout",
     "output_type": "stream",
     "text": [
      "array([[0.73105858, 0.88079708, 0.95257413, 0.98201379],\n",
      "       [0.95257413, 0.98201379, 0.99330715, 0.99752738],\n",
      "       [0.26894142, 0.5       , 0.73105858, 0.95257413]])\n"
     ]
    }
   ],
   "source": [
    "a=np.array([[1, 2, 3, 4], [3, 4, 5, 6], [-1, 0, 1, 3.0]])\n",
    "def sig(matrix):\n",
    "    return 1 / (1 + np.exp(-matrix))\n",
    "\n",
    "def loss(pred, target, use_av):\n",
    "    del_y = pred-target\n",
    "    value = np.sum(np.square(del_y))\n",
    "    if use_av:\n",
    "        value = value/pred.size\n",
    "    return value \n",
    "def loss_grad(pred, target, use_av):\n",
    "    value = 2*(pred-target)\n",
    "    if use_av:\n",
    "        value = \n",
    "    \n",
    "a_sig = sig(a) \n",
    "print(repr(a_sig))"
   ]
  },
  {
   "cell_type": "code",
   "execution_count": 9,
   "metadata": {},
   "outputs": [
    {
     "name": "stdout",
     "output_type": "stream",
     "text": [
      "[[ 9.9997604e-01  1.9999846e+00  2.9999928e+00  3.9999971e+00]\n",
      " [ 2.9999928e+00  3.9999971e+00  4.9999990e+00  5.9999995e+00]\n",
      " [-1.0000088e+00 -2.0833335e-05  9.9997604e-01  2.9999928e+00]]\n"
     ]
    }
   ],
   "source": []
  },
  {
   "cell_type": "code",
   "execution_count": null,
   "metadata": {},
   "outputs": [],
   "source": []
  }
 ],
 "metadata": {
  "kernelspec": {
   "display_name": "Python 3",
   "language": "python",
   "name": "python3"
  },
  "language_info": {
   "codemirror_mode": {
    "name": "ipython",
    "version": 3
   },
   "file_extension": ".py",
   "mimetype": "text/x-python",
   "name": "python",
   "nbconvert_exporter": "python",
   "pygments_lexer": "ipython3",
   "version": "3.7.6"
  }
 },
 "nbformat": 4,
 "nbformat_minor": 4
}
