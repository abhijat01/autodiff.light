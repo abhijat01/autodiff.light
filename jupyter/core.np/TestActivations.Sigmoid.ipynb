{
 "cells": [
  {
   "cell_type": "code",
   "execution_count": 141,
   "metadata": {},
   "outputs": [],
   "source": [
    "import torch\n",
    "import torch.nn as nn"
   ]
  },
  {
   "cell_type": "code",
   "execution_count": 143,
   "metadata": {},
   "outputs": [],
   "source": [
    "class Net(nn.Module):\n",
    "    def __init__(self):\n",
    "        super(Net, self).__init__()\n",
    "        self.layer =  nn.Sigmoid()\n",
    "\n",
    "    def forward(self, x):\n",
    "        return self.layer(x) \n",
    "net = Net()  \n",
    "x = torch.tensor([[1, 2, 3, 4], [3, 4, 5, 6], [-1, 0, 1, 3.0]], requires_grad=True )"
   ]
  },
  {
   "cell_type": "code",
   "execution_count": 144,
   "metadata": {},
   "outputs": [
    {
     "name": "stdout",
     "output_type": "stream",
     "text": [
      "tensor([[0.73105860, 0.88079703, 0.95257413, 0.98201376],\n",
      "        [0.95257413, 0.98201376, 0.99330717, 0.99752742],\n",
      "        [0.26894143, 0.50000000, 0.73105860, 0.95257413]])\n"
     ]
    }
   ],
   "source": [
    "x = nn.Parameter(x) \n",
    "y=net(x)\n",
    "print(y.data)"
   ]
  },
  {
   "cell_type": "code",
   "execution_count": 145,
   "metadata": {},
   "outputs": [],
   "source": [
    "target = torch.zeros_like(y) \n",
    "loss_function = nn.MSELoss() \n",
    "loss = loss_function(y, target)\n",
    "optimizer = torch.optim.SGD([x], lr=.001)"
   ]
  },
  {
   "cell_type": "code",
   "execution_count": 146,
   "metadata": {},
   "outputs": [],
   "source": [
    "optimizer.zero_grad()\n",
    "loss.backward()\n",
    "optimizer.step()"
   ]
  },
  {
   "cell_type": "code",
   "execution_count": 147,
   "metadata": {},
   "outputs": [
    {
     "name": "stdout",
     "output_type": "stream",
     "text": [
      "tensor(0.73330349, grad_fn=<MseLossBackward>)\n",
      "tensor([[0.02395581, 0.01541301, 0.00717235, 0.00289084],\n",
      "        [0.00717235, 0.00289084, 0.00110059, 0.00041006],\n",
      "        [0.00881285, 0.02083333, 0.02395581, 0.00717235]])\n"
     ]
    }
   ],
   "source": [
    "torch.set_printoptions(precision=8, sci_mode=False)\n",
    "print(loss)\n",
    "print(x.grad) "
   ]
  },
  {
   "cell_type": "code",
   "execution_count": null,
   "metadata": {},
   "outputs": [],
   "source": []
  }
 ],
 "metadata": {
  "kernelspec": {
   "display_name": "Python 3",
   "language": "python",
   "name": "python3"
  },
  "language_info": {
   "codemirror_mode": {
    "name": "ipython",
    "version": 3
   },
   "file_extension": ".py",
   "mimetype": "text/x-python",
   "name": "python",
   "nbconvert_exporter": "python",
   "pygments_lexer": "ipython3",
   "version": "3.7.4"
  }
 },
 "nbformat": 4,
 "nbformat_minor": 4
}
