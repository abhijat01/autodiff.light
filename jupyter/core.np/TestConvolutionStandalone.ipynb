{
 "cells": [
  {
   "cell_type": "code",
   "execution_count": 1,
   "metadata": {},
   "outputs": [],
   "source": [
    "import torch\n",
    "import torch.nn as nn\n",
    "import torch.nn.functional as F\n",
    "import numpy as np \n",
    "import torch.optim as optim \n",
    "import sys \n",
    "import os \n",
    "import matplotlib.pyplot as plt"
   ]
  },
  {
   "cell_type": "code",
   "execution_count": 2,
   "metadata": {},
   "outputs": [],
   "source": [
    "class Net(nn.Module):\n",
    "    def __init__(self):\n",
    "        super(Net, self).__init__()\n",
    "        self.conv =  nn.Conv2d(1,1,kernel_size=(2,2))\n",
    "\n",
    "    def forward(self, x):\n",
    "        return self.conv(x) "
   ]
  },
  {
   "cell_type": "code",
   "execution_count": 3,
   "metadata": {},
   "outputs": [
    {
     "name": "stdout",
     "output_type": "stream",
     "text": [
      "torch.Size([1, 1, 2, 2])\n",
      "torch.Size([1])\n"
     ]
    }
   ],
   "source": [
    "net = Net() \n",
    "kernel = nn.Parameter( torch.FloatTensor([[[[1, -1], [0, 2]]]]))\n",
    "print(kernel.data.shape)\n",
    "net.conv.weight = kernel \n",
    "print(net.conv.bias.shape)\n",
    "bias = nn.Parameter(torch.FloatTensor([0]))\n",
    "net.conv.bias = bias "
   ]
  },
  {
   "cell_type": "code",
   "execution_count": 4,
   "metadata": {},
   "outputs": [
    {
     "name": "stdout",
     "output_type": "stream",
     "text": [
      "torch.Size([1, 1, 4, 4])\n"
     ]
    }
   ],
   "source": [
    "img = np.array([[1, 2, 3, 4], [3, 4, 5, 6], [-1, 0, 1, 3], [0, 2, -1, 4]])\n",
    "input = torch.from_numpy(img).view(1,1,4,4).float()\n",
    "print(input.shape)\n",
    "output = net(input)"
   ]
  },
  {
   "cell_type": "code",
   "execution_count": 5,
   "metadata": {},
   "outputs": [
    {
     "name": "stdout",
     "output_type": "stream",
     "text": [
      "Output --- \n",
      "tensor([[[[ 7.,  9., 11.],\n",
      "          [-1.,  1.,  5.],\n",
      "          [ 3., -3.,  6.]]]])\n",
      "\n",
      "Kernel ---\n",
      "tensor([[[[ 1., -1.],\n",
      "          [ 0.,  2.]]]])\n",
      "\n",
      "Bias ---\n",
      "tensor([0.])\n"
     ]
    }
   ],
   "source": [
    "print(\"Output --- \")\n",
    "print(output.data)\n",
    "print(\"\\nKernel ---\")\n",
    "print(net.conv.weight.data)\n",
    "print(\"\\nBias ---\")\n",
    "print(net.conv.bias.data)"
   ]
  },
  {
   "cell_type": "code",
   "execution_count": 6,
   "metadata": {},
   "outputs": [],
   "source": [
    "grad_back = np.ones_like(output.data)\n",
    "target = torch.from_numpy(grad_back) \n",
    "criteria = nn.MSELoss()\n",
    "loss = criteria(output, target)\n",
    "optimizer = torch.optim.SGD(net.parameters(), lr=.001)"
   ]
  },
  {
   "cell_type": "code",
   "execution_count": 7,
   "metadata": {},
   "outputs": [],
   "source": [
    "optimizer.zero_grad()\n",
    "    \n",
    "# perform a backward pass (backpropagation)\n",
    "loss.backward()\n",
    "    \n",
    "# Update the parameters\n",
    "optimizer.step()"
   ]
  },
  {
   "cell_type": "code",
   "execution_count": 20,
   "metadata": {},
   "outputs": [
    {
     "name": "stdout",
     "output_type": "stream",
     "text": [
      "tensor([[[[ 0.9847, -1.0229],\n",
      "          [-0.0207,  1.9636]]]])\n",
      "tensor([[[[15.3333, 22.8889],\n",
      "          [20.6667, 36.4444]]]])\n",
      "Now printing the bias after gradient descent step\n",
      "Parameter containing:\n",
      "tensor([-0.0064], requires_grad=True)\n",
      "tensor([6.4444])\n"
     ]
    }
   ],
   "source": [
    "print(net.conv.weight.data)\n",
    "print(net.conv.weight.grad)\n",
    "print(\"Now printing the bias after gradient descent step\")\n",
    "print(net.conv.bias)\n",
    "print(net.conv.bias.grad)"
   ]
  },
  {
   "cell_type": "code",
   "execution_count": 10,
   "metadata": {},
   "outputs": [
    {
     "name": "stdout",
     "output_type": "stream",
     "text": [
      "[[[[1. 1. 1.]\n",
      "   [1. 1. 1.]\n",
      "   [1. 1. 1.]]]]\n"
     ]
    }
   ],
   "source": [
    "print(grad_back)"
   ]
  },
  {
   "cell_type": "code",
   "execution_count": 14,
   "metadata": {},
   "outputs": [
    {
     "name": "stdout",
     "output_type": "stream",
     "text": [
      "Bias gradient:tensor([6.4444])\n",
      "Bias after update:tensor([-0.0064])\n"
     ]
    }
   ],
   "source": [
    "print(\"Bias gradient:{}\".format(net.conv.bias.grad))\n",
    "print(\"Bias after update:{}\".format(net.conv.bias.data))"
   ]
  },
  {
   "cell_type": "code",
   "execution_count": 12,
   "metadata": {},
   "outputs": [
    {
     "data": {
      "text/plain": [
       "0.7155555555555556"
      ]
     },
     "execution_count": 12,
     "metadata": {},
     "output_type": "execute_result"
    }
   ],
   "source": [
    "6.44/9"
   ]
  },
  {
   "cell_type": "code",
   "execution_count": 13,
   "metadata": {},
   "outputs": [
    {
     "data": {
      "text/plain": [
       "1.3975155279503104"
      ]
     },
     "execution_count": 13,
     "metadata": {},
     "output_type": "execute_result"
    }
   ],
   "source": [
    "9/6.44"
   ]
  },
  {
   "cell_type": "code",
   "execution_count": 18,
   "metadata": {},
   "outputs": [
    {
     "data": {
      "text/plain": [
       "386547056640"
      ]
     },
     "execution_count": 18,
     "metadata": {},
     "output_type": "execute_result"
    }
   ],
   "source": [
    "def key_generator(i, j):\n",
    "    return (i<<)"
   ]
  },
  {
   "cell_type": "code",
   "execution_count": 21,
   "metadata": {},
   "outputs": [
    {
     "data": {
      "text/plain": [
       "6.444444444444445"
      ]
     },
     "execution_count": 21,
     "metadata": {},
     "output_type": "execute_result"
    }
   ],
   "source": [
    "58/9"
   ]
  },
  {
   "cell_type": "code",
   "execution_count": 22,
   "metadata": {},
   "outputs": [
    {
     "data": {
      "text/plain": [
       "36"
      ]
     },
     "execution_count": 22,
     "metadata": {},
     "output_type": "execute_result"
    }
   ],
   "source": [
    "np.sum(img) "
   ]
  },
  {
   "cell_type": "code",
   "execution_count": 23,
   "metadata": {},
   "outputs": [
    {
     "data": {
      "text/plain": [
       "16"
      ]
     },
     "execution_count": 23,
     "metadata": {},
     "output_type": "execute_result"
    }
   ],
   "source": [
    "img.size"
   ]
  },
  {
   "cell_type": "code",
   "execution_count": null,
   "metadata": {},
   "outputs": [],
   "source": []
  }
 ],
 "metadata": {
  "kernelspec": {
   "display_name": "Python 3",
   "language": "python",
   "name": "python3"
  },
  "language_info": {
   "codemirror_mode": {
    "name": "ipython",
    "version": 3
   },
   "file_extension": ".py",
   "mimetype": "text/x-python",
   "name": "python",
   "nbconvert_exporter": "python",
   "pygments_lexer": "ipython3",
   "version": "3.7.4"
  }
 },
 "nbformat": 4,
 "nbformat_minor": 4
}
