{
 "cells": [
  {
   "cell_type": "code",
   "execution_count": 2,
   "metadata": {},
   "outputs": [],
   "source": [
    "from  sympy import * "
   ]
  },
  {
   "cell_type": "code",
   "execution_count": 3,
   "metadata": {},
   "outputs": [],
   "source": [
    "x=MatrixSymbol('x', 3,4)"
   ]
  },
  {
   "cell_type": "code",
   "execution_count": 4,
   "metadata": {},
   "outputs": [],
   "source": [
    "x=Matrix(x) "
   ]
  },
  {
   "cell_type": "code",
   "execution_count": 7,
   "metadata": {},
   "outputs": [
    {
     "data": {
      "text/latex": [
       "$\\displaystyle \\left[\\begin{array}{cccc}x_{0, 0} & x_{0, 1} & x_{0, 2} & x_{0, 3}\\\\x_{1, 0} & x_{1, 1} & x_{1, 2} & x_{1, 3}\\\\x_{2, 0} & x_{2, 1} & x_{2, 2} & x_{2, 3}\\end{array}\\right]$"
      ],
      "text/plain": [
       "Matrix([\n",
       "[x[0, 0], x[0, 1], x[0, 2], x[0, 3]],\n",
       "[x[1, 0], x[1, 1], x[1, 2], x[1, 3]],\n",
       "[x[2, 0], x[2, 1], x[2, 2], x[2, 3]]])"
      ]
     },
     "execution_count": 7,
     "metadata": {},
     "output_type": "execute_result"
    }
   ],
   "source": [
    "x"
   ]
  },
  {
   "cell_type": "code",
   "execution_count": 13,
   "metadata": {},
   "outputs": [],
   "source": [
    "def conv(m1,m2):\n",
    "    y = 0 \n",
    "    for i in range(m1.shape[0]): \n",
    "        for j in range(m1.shape[1]):\n",
    "            y = y + m1[i,j]*m2[i,j]\n",
    "    return y "
   ]
  },
  {
   "cell_type": "code",
   "execution_count": 14,
   "metadata": {},
   "outputs": [],
   "source": [
    "x_11=x[0:2,0:2]\n",
    "w=MatrixSymbol('w',2,2)\n",
    "w=Matrix(w) "
   ]
  },
  {
   "cell_type": "code",
   "execution_count": 15,
   "metadata": {},
   "outputs": [
    {
     "data": {
      "text/latex": [
       "$\\displaystyle w_{0, 0} x_{0, 0} + w_{0, 1} x_{0, 1} + w_{1, 0} x_{1, 0} + w_{1, 1} x_{1, 1}$"
      ],
      "text/plain": [
       "w[0, 0]*x[0, 0] + w[0, 1]*x[0, 1] + w[1, 0]*x[1, 0] + w[1, 1]*x[1, 1]"
      ]
     },
     "execution_count": 15,
     "metadata": {},
     "output_type": "execute_result"
    }
   ],
   "source": [
    "conv(x_11, w)"
   ]
  },
  {
   "cell_type": "code",
   "execution_count": 16,
   "metadata": {},
   "outputs": [],
   "source": [
    "y=MatrixSymbol('y', 2,3)\n",
    "y=Matrix(y) "
   ]
  },
  {
   "cell_type": "code",
   "execution_count": 18,
   "metadata": {},
   "outputs": [],
   "source": [
    "y[0,0]=conv(x_11, w)"
   ]
  },
  {
   "cell_type": "code",
   "execution_count": 30,
   "metadata": {},
   "outputs": [
    {
     "name": "stdout",
     "output_type": "stream",
     "text": [
      "⎡x₀₀  x₀₁⎤\n",
      "⎢        ⎥\n",
      "⎣x₁₀  x₁₁⎦\n",
      "⎡x₀₁  x₀₂⎤\n",
      "⎢        ⎥\n",
      "⎣x₁₁  x₁₂⎦\n",
      "⎡x₀₂  x₀₃⎤\n",
      "⎢        ⎥\n",
      "⎣x₁₂  x₁₃⎦\n",
      "⎡x₁₀  x₁₁⎤\n",
      "⎢        ⎥\n",
      "⎣x₂₀  x₂₁⎦\n",
      "⎡x₁₁  x₁₂⎤\n",
      "⎢        ⎥\n",
      "⎣x₂₁  x₂₂⎦\n",
      "⎡x₁₂  x₁₃⎤\n",
      "⎢        ⎥\n",
      "⎣x₂₂  x₂₃⎦\n"
     ]
    }
   ],
   "source": [
    "for i in range(0,x.shape[0]-w.shape[0]+1):\n",
    "    for j in range(0,x.shape[1]-w.shape[1]+1):\n",
    "        x_part = x[i:i+2,j:j+2]\n",
    "        y[i,j]=conv(x_part, w)\n",
    "        print(pretty(x_part))"
   ]
  },
  {
   "cell_type": "code",
   "execution_count": 31,
   "metadata": {},
   "outputs": [
    {
     "data": {
      "image/png": "[encoded data removed]",
      "text/latex": [
       "$\\displaystyle \\left[\\begin{array}{cccc}x_{0, 0} & x_{0, 1} & x_{0, 2} & x_{0, 3}\\\\x_{1, 0} & x_{1, 1} & x_{1, 2} & x_{1, 3}\\\\x_{2, 0} & x_{2, 1} & x_{2, 2} & x_{2, 3}\\end{array}\\right]$"
      ],
      "text/plain": [
       "⎡x₀₀  x₀₁  x₀₂  x₀₃⎤\n",
       "⎢                  ⎥\n",
       "⎢x₁₀  x₁₁  x₁₂  x₁₃⎥\n",
       "⎢                  ⎥\n",
       "⎣x₂₀  x₂₁  x₂₂  x₂₃⎦"
      ]
     },
     "execution_count": 31,
     "metadata": {},
     "output_type": "execute_result"
    }
   ],
   "source": [
    "x"
   ]
  },
  {
   "cell_type": "code",
   "execution_count": 32,
   "metadata": {},
   "outputs": [
    {
     "data": {
      "image/png": "[encoded data removed]",
      "text/latex": [
       "$\\displaystyle \\left[\\begin{array}{cc}w_{0, 0} & w_{0, 1}\\\\w_{1, 0} & w_{1, 1}\\end{array}\\right]$"
      ],
      "text/plain": [
       "⎡w₀₀  w₀₁⎤\n",
       "⎢        ⎥\n",
       "⎣w₁₀  w₁₁⎦"
      ]
     },
     "execution_count": 32,
     "metadata": {},
     "output_type": "execute_result"
    }
   ],
   "source": [
    "w"
   ]
  },
  {
   "cell_type": "code",
   "execution_count": 33,
   "metadata": {},
   "outputs": [
    {
     "data": {
      "image/png": "[encoded data removed]",
      "text/latex": [
       "$\\displaystyle \\left[\\begin{array}{ccc}w_{0, 0} x_{0, 0} + w_{0, 1} x_{0, 1} + w_{1, 0} x_{1, 0} + w_{1, 1} x_{1, 1} & w_{0, 0} x_{0, 1} + w_{0, 1} x_{0, 2} + w_{1, 0} x_{1, 1} + w_{1, 1} x_{1, 2} & w_{0, 0} x_{0, 2} + w_{0, 1} x_{0, 3} + w_{1, 0} x_{1, 2} + w_{1, 1} x_{1, 3}\\\\w_{0, 0} x_{1, 0} + w_{0, 1} x_{1, 1} + w_{1, 0} x_{2, 0} + w_{1, 1} x_{2, 1} & w_{0, 0} x_{1, 1} + w_{0, 1} x_{1, 2} + w_{1, 0} x_{2, 1} + w_{1, 1} x_{2, 2} & w_{0, 0} x_{1, 2} + w_{0, 1} x_{1, 3} + w_{1, 0} x_{2, 2} + w_{1, 1} x_{2, 3}\\end{array}\\right]$"
      ],
      "text/plain": [
       "⎡w₀₀⋅x₀₀ + w₀₁⋅x₀₁ + w₁₀⋅x₁₀ + w₁₁⋅x₁₁  w₀₀⋅x₀₁ + w₀₁⋅x₀₂ + w₁₀⋅x₁₁ + w₁₁⋅x₁₂ \n",
       "⎢                                                                             \n",
       "⎣w₀₀⋅x₁₀ + w₀₁⋅x₁₁ + w₁₀⋅x₂₀ + w₁₁⋅x₂₁  w₀₀⋅x₁₁ + w₀₁⋅x₁₂ + w₁₀⋅x₂₁ + w₁₁⋅x₂₂ \n",
       "\n",
       " w₀₀⋅x₀₂ + w₀₁⋅x₀₃ + w₁₀⋅x₁₂ + w₁₁⋅x₁₃⎤\n",
       "                                      ⎥\n",
       " w₀₀⋅x₁₂ + w₀₁⋅x₁₃ + w₁₀⋅x₂₂ + w₁₁⋅x₂₃⎦"
      ]
     },
     "execution_count": 33,
     "metadata": {},
     "output_type": "execute_result"
    }
   ],
   "source": [
    "y"
   ]
  },
  {
   "cell_type": "code",
   "execution_count": null,
   "metadata": {},
   "outputs": [],
   "source": []
  }
 ],
 "metadata": {
  "kernelspec": {
   "display_name": "Python 3",
   "language": "python",
   "name": "python3"
  },
  "language_info": {
   "codemirror_mode": {
    "name": "ipython",
    "version": 3
   },
   "file_extension": ".py",
   "mimetype": "text/x-python",
   "name": "python",
   "nbconvert_exporter": "python",
   "pygments_lexer": "ipython3",
   "version": "3.7.4"
  }
 },
 "nbformat": 4,
 "nbformat_minor": 4
}
