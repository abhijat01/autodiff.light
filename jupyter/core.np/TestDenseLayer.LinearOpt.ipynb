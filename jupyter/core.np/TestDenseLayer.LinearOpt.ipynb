{
 "cells": [
  {
   "cell_type": "code",
   "execution_count": 1,
   "metadata": {},
   "outputs": [],
   "source": [
    "import torch\n",
    "import torch.nn as nn\n",
    "import torch.nn.functional as F\n",
    "import numpy as np \n",
    "import torch.optim as optim \n",
    "import sys \n",
    "import os \n",
    "import matplotlib.pyplot as plt"
   ]
  },
  {
   "cell_type": "code",
   "execution_count": 2,
   "metadata": {},
   "outputs": [],
   "source": [
    "project_basedir=os.path.join('..','..')\n",
    "project_basedir = os.path.abspath(project_basedir)\n",
    "sys.path.insert(0,project_basedir)"
   ]
  },
  {
   "cell_type": "code",
   "execution_count": 3,
   "metadata": {},
   "outputs": [],
   "source": [
    "from  tests.core.np import LinearModel \n",
    "model_w = np.array([[1, 3, -1], [0, -4, 2]])\n",
    "model_b = np.array([[-3, 2]]).reshape((model_w.shape[0], 1))\n",
    "model = LinearModel(model_w, model_b)"
   ]
  },
  {
   "cell_type": "code",
   "execution_count": 4,
   "metadata": {},
   "outputs": [],
   "source": [
    "class Net(nn.Module):\n",
    "    def __init__(self):\n",
    "        super(Net, self).__init__()\n",
    "        self.dense = nn.Linear(3,2) \n",
    "\n",
    "    def forward(self, x):\n",
    "        return self.dense(x) "
   ]
  },
  {
   "cell_type": "code",
   "execution_count": 23,
   "metadata": {},
   "outputs": [],
   "source": [
    "net = Net() \n",
    "net_w = np.array([[-1, -3, 1], [0, 4, -2]])\n",
    "net_b = np.array([3, -2])\n",
    "w_tensor = torch.from_numpy(net_w).float()\n",
    "b_tensor = torch.from_numpy(net_b).float() \n",
    "w = nn.Parameter(w_tensor)\n",
    "b = nn.Parameter(b_tensor)\n",
    "net.dense.weight  = w \n",
    "net.dense.bias = b"
   ]
  },
  {
   "cell_type": "code",
   "execution_count": 24,
   "metadata": {},
   "outputs": [],
   "source": [
    "input = torch.FloatTensor([[1, -1, 0]])\n",
    "output = net(input)\n",
    "target = torch.FloatTensor([[.5, .7]])\n",
    "target = target.view(1, -1)\n",
    "criteria = nn.MSELoss()\n",
    "loss = criteria(output, target)\n",
    "optimizer = torch.optim.SGD(net.parameters(), lr=.01)"
   ]
  },
  {
   "cell_type": "code",
   "execution_count": 25,
   "metadata": {},
   "outputs": [
    {
     "name": "stdout",
     "output_type": "stream",
     "text": [
      "epoch:  0  loss:  19.50882911682129\n",
      "epoch:  1000  loss:  1.425842523574829\n",
      "epoch:  2000  loss:  0.3223493993282318\n",
      "epoch:  3000  loss:  0.15377523005008698\n",
      "epoch:  4000  loss:  0.026918988674879074\n",
      "epoch:  5000  loss:  0.013967498205602169\n",
      "epoch:  6000  loss:  0.009595238603651524\n",
      "epoch:  7000  loss:  0.0013685618760064244\n",
      "epoch:  8000  loss:  0.0005662787589244545\n",
      "epoch:  9000  loss:  0.0001542641402920708\n",
      "epoch:  10000  loss:  5.7384495448786765e-05\n",
      "epoch:  11000  loss:  9.689624130260199e-05\n",
      "epoch:  12000  loss:  3.110897887381725e-05\n",
      "epoch:  13000  loss:  9.572576345817652e-06\n",
      "epoch:  14000  loss:  1.207827608595835e-06\n",
      "epoch:  15000  loss:  1.1003752575788894e-07\n",
      "epoch:  16000  loss:  6.292257808127033e-07\n",
      "epoch:  17000  loss:  1.3700341128242144e-07\n",
      "epoch:  18000  loss:  4.614106785538752e-08\n",
      "epoch:  19000  loss:  2.981419910952354e-08\n",
      "epoch:  20000  loss:  9.657536104157316e-09\n",
      "epoch:  21000  loss:  2.481911121066105e-09\n",
      "epoch:  22000  loss:  1.2514409508668223e-09\n",
      "epoch:  23000  loss:  1.6260965907122227e-09\n",
      "epoch:  24000  loss:  4.3216935585732585e-10\n",
      "epoch:  25000  loss:  3.400045800461271e-10\n",
      "epoch:  26000  loss:  1.308111952091906e-10\n",
      "epoch:  27000  loss:  2.1259871640921801e-10\n",
      "epoch:  28000  loss:  2.417367972462614e-10\n",
      "epoch:  29000  loss:  2.0058441019266127e-10\n",
      "epoch:  30000  loss:  1.192304588393256e-10\n",
      "epoch:  31000  loss:  1.2210493727238259e-10\n",
      "epoch:  32000  loss:  1.5827225641196208e-10\n",
      "epoch:  33000  loss:  3.2044497610961287e-10\n",
      "epoch:  34000  loss:  1.5614237680594556e-10\n",
      "epoch:  35000  loss:  1.7101559057763893e-10\n",
      "epoch:  36000  loss:  2.5257596014682804e-10\n",
      "epoch:  37000  loss:  2.4130636377961423e-10\n",
      "epoch:  38000  loss:  1.3787815333898834e-10\n",
      "epoch:  39000  loss:  1.5277545895031608e-10\n",
      "Final loss:1.5709235301475388e-10\n",
      "epoch:  40000  loss:  1.5709235301475388e-10\n"
     ]
    }
   ],
   "source": [
    "epoch = 0 \n",
    "losses = [] \n",
    "av = [] \n",
    "x_axis=[] \n",
    "x_losses = [] \n",
    "for x,y in model.data(40000,8):\n",
    "    # Forward Propagation\n",
    "    pyx = torch.from_numpy(x.T).float() \n",
    "    pyy = torch.from_numpy(y.T).float()\n",
    "    y_pred = net(pyx)\n",
    "    # Compute and print loss\n",
    "    loss = criteria(y_pred, pyy)\n",
    "    losses.append(loss.item()) \n",
    "    \n",
    "    if epoch % 1 == 0 :\n",
    "        x_axis.append(epoch)\n",
    "        x_losses.append(loss.item())\n",
    "        \n",
    "    if epoch %1000 == 0 :\n",
    "        last_100 = losses[-100:]\n",
    "        average_l100 = sum(last_100) / len(last_100)\n",
    "        av.append([epoch, average_l100])\n",
    "        print('epoch: ', epoch,' loss: ', loss.item())\n",
    "    # Zero the gradients\n",
    "    optimizer.zero_grad()\n",
    "    \n",
    "    # perform a backward pass (backpropagation)\n",
    "    loss.backward()\n",
    "    \n",
    "    # Update the parameters\n",
    "    optimizer.step()\n",
    "    epoch+=1\n",
    "    \n",
    "last_100 = losses[-100:]\n",
    "average_l100 = sum(last_100) / len(last_100)\n",
    "av.append([epoch, average_l100])\n",
    "print(\"Final loss:{}\".format(loss))\n",
    "    \n",
    "print('epoch: ', epoch,' loss: ', loss.item())"
   ]
  },
  {
   "cell_type": "code",
   "execution_count": 26,
   "metadata": {},
   "outputs": [
    {
     "data": {
      "image/png": "[encoded data removed]",
      "text/plain": [
       "<Figure size 432x288 with 1 Axes>"
      ]
     },
     "metadata": {
      "needs_background": "light"
     },
     "output_type": "display_data"
    }
   ],
   "source": [
    "plt.scatter(x_axis, x_losses, s=.1)\n",
    "av_np = np.array(av)\n",
    "plt.plot(av_np[:,0], av_np[:,1], linewidth=1, c='r')\n",
    "plt.show()"
   ]
  },
  {
   "cell_type": "code",
   "execution_count": 27,
   "metadata": {},
   "outputs": [
    {
     "name": "stdout",
     "output_type": "stream",
     "text": [
      "tensor([[ 1.0000e+00,  3.0000e+00, -1.0000e+00],\n",
      "        [ 2.0809e-07, -4.0000e+00,  2.0000e+00]])\n",
      "------------\n",
      "tensor([-3.0000,  2.0000])\n"
     ]
    }
   ],
   "source": [
    "print(net.dense.weight.data)\n",
    "print(\"------------\")\n",
    "print(net.dense.bias.data)"
   ]
  },
  {
   "cell_type": "code",
   "execution_count": null,
   "metadata": {},
   "outputs": [],
   "source": []
  }
 ],
 "metadata": {
  "kernelspec": {
   "display_name": "Python 3",
   "language": "python",
   "name": "python3"
  },
  "language_info": {
   "codemirror_mode": {
    "name": "ipython",
    "version": 3
   },
   "file_extension": ".py",
   "mimetype": "text/x-python",
   "name": "python",
   "nbconvert_exporter": "python",
   "pygments_lexer": "ipython3",
   "version": "3.7.6"
  }
 },
 "nbformat": 4,
 "nbformat_minor": 4
}
