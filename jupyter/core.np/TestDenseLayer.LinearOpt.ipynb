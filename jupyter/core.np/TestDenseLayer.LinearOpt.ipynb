{
 "cells": [
  {
   "cell_type": "code",
   "execution_count": 1,
   "metadata": {},
   "outputs": [],
   "source": [
    "import torch\n",
    "import torch.nn as nn\n",
    "import torch.nn.functional as F\n",
    "import numpy as np \n",
    "import torch.optim as optim \n",
    "import sys \n",
    "import os \n",
    "import matplotlib.pyplot as plt"
   ]
  },
  {
   "cell_type": "code",
   "execution_count": 2,
   "metadata": {},
   "outputs": [],
   "source": [
    "project_basedir=os.path.join('..','..')\n",
    "project_basedir = os.path.abspath(project_basedir)\n",
    "sys.path.insert(0,project_basedir)"
   ]
  },
  {
   "cell_type": "code",
   "execution_count": 3,
   "metadata": {},
   "outputs": [],
   "source": [
    "from  tests.core.np import LinearModel \n",
    "model_w = np.array([[1, 3, -1], [0, -4, 2]])\n",
    "model_b = np.array([[-3, 2]]).reshape((model_w.shape[0], 1))\n",
    "model = LinearModel(model_w, model_b)"
   ]
  },
  {
   "cell_type": "code",
   "execution_count": 7,
   "metadata": {},
   "outputs": [],
   "source": [
    "class Net(nn.Module):\n",
    "    def __init__(self):\n",
    "        super(Net, self).__init__()\n",
    "        self.fc1 = nn.Linear(3,2) \n",
    "\n",
    "    def forward(self, x):\n",
    "        return self.fc1(x) "
   ]
  },
  {
   "cell_type": "code",
   "execution_count": 32,
   "metadata": {},
   "outputs": [],
   "source": [
    "net = Net() \n",
    "input = torch.FloatTensor([[1, -1, 0]])\n",
    "output = net(input)\n",
    "target = torch.FloatTensor([[.5, .7]])\n",
    "target = target.view(1, -1)\n",
    "criteria = nn.MSELoss()\n",
    "loss = criteria(output, target)\n",
    "optimizer = torch.optim.SGD(net.parameters(), lr=.001)"
   ]
  },
  {
   "cell_type": "code",
   "execution_count": 33,
   "metadata": {},
   "outputs": [
    {
     "name": "stdout",
     "output_type": "stream",
     "text": [
      "epoch:  0  loss:  2.7888753414154053\n",
      "epoch:  5000  loss:  0.7475804090499878\n",
      "epoch:  10000  loss:  0.3617004156112671\n",
      "epoch:  15000  loss:  0.19344604015350342\n",
      "epoch:  20000  loss:  0.1211494654417038\n",
      "epoch:  25000  loss:  0.06836237758398056\n",
      "epoch:  30000  loss:  0.036950141191482544\n",
      "epoch:  35000  loss:  0.02512972615659237\n",
      "Final loss:0.014452074654400349\n",
      "epoch:  40000  loss:  0.014452074654400349\n"
     ]
    }
   ],
   "source": [
    "epoch = 0 \n",
    "losses = [] \n",
    "av = [] \n",
    "x_axis=[] \n",
    "x_losses = [] \n",
    "for x,y in model.data(40000,400):\n",
    "    # Forward Propagation\n",
    "    pyx = torch.from_numpy(x.T).float() \n",
    "    pyy = torch.from_numpy(y.T).float()\n",
    "    y_pred = net(pyx)\n",
    "    # Compute and print loss\n",
    "    loss = criteria(y_pred, pyy)\n",
    "    losses.append(loss.item()) \n",
    "    \n",
    "    if epoch % 1 == 0 :\n",
    "        x_axis.append(epoch)\n",
    "        x_losses.append(loss.item())\n",
    "        \n",
    "    if epoch %5000 == 0 :\n",
    "        last_100 = losses[-100:]\n",
    "        average_l100 = sum(last_100) / len(last_100)\n",
    "        av.append([epoch, average_l100])\n",
    "        print('epoch: ', epoch,' loss: ', loss.item())\n",
    "    # Zero the gradients\n",
    "    optimizer.zero_grad()\n",
    "    \n",
    "    # perform a backward pass (backpropagation)\n",
    "    loss.backward()\n",
    "    \n",
    "    # Update the parameters\n",
    "    optimizer.step()\n",
    "    epoch+=1\n",
    "    \n",
    "last_100 = losses[-100:]\n",
    "average_l100 = sum(last_100) / len(last_100)\n",
    "av.append([epoch, average_l100])\n",
    "print(\"Final loss:{}\".format(loss))\n",
    "    \n",
    "print('epoch: ', epoch,' loss: ', loss.item())"
   ]
  },
  {
   "cell_type": "code",
   "execution_count": 40,
   "metadata": {},
   "outputs": [
    {
     "data": {
      "image/png": "[encoded data removed]",
      "text/plain": [
       "<Figure size 432x288 with 1 Axes>"
      ]
     },
     "metadata": {
      "needs_background": "light"
     },
     "output_type": "display_data"
    }
   ],
   "source": [
    "plt.scatter(x_axis, x_losses, s=.1)\n",
    "av_np = np.array(av)\n",
    "plt.plot(av_np[:,0], av_np[:,1], linewidth=1, c='r')\n",
    "plt.show()"
   ]
  },
  {
   "cell_type": "code",
   "execution_count": 41,
   "metadata": {},
   "outputs": [
    {
     "name": "stdout",
     "output_type": "stream",
     "text": [
      "tensor([[ 0.7227,  2.6677, -1.2036],\n",
      "        [ 0.1572, -3.7210,  2.0929]])\n",
      "------------\n",
      "tensor([-2.5735,  1.7225])\n"
     ]
    }
   ],
   "source": [
    "print(net.fc1.weight.data)\n",
    "print(\"------------\")\n",
    "print(net.fc1.bias.data)"
   ]
  },
  {
   "cell_type": "code",
   "execution_count": null,
   "metadata": {},
   "outputs": [],
   "source": []
  }
 ],
 "metadata": {
  "kernelspec": {
   "display_name": "Python 3",
   "language": "python",
   "name": "python3"
  },
  "language_info": {
   "codemirror_mode": {
    "name": "ipython",
    "version": 3
   },
   "file_extension": ".py",
   "mimetype": "text/x-python",
   "name": "python",
   "nbconvert_exporter": "python",
   "pygments_lexer": "ipython3",
   "version": "3.7.4"
  }
 },
 "nbformat": 4,
 "nbformat_minor": 4
}
