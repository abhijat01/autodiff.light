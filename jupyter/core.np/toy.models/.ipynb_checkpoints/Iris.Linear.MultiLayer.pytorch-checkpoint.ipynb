{
 "cells": [
  {
   "cell_type": "code",
   "execution_count": null,
   "metadata": {},
   "outputs": [],
   "source": [
    "import sklearn\n",
    "from sklearn import datasets\n",
    "import torch\n",
    "import torch.nn as nn\n",
    "import torch.nn.functional as F\n",
    "import numpy as np \n",
    "import torch.optim as optim \n",
    "import sys \n",
    "import os \n",
    "import matplotlib.pyplot as plt"
   ]
  },
  {
   "cell_type": "code",
   "execution_count": null,
   "metadata": {},
   "outputs": [],
   "source": [
    "project_basedir=os.path.join('..','..','..')\n",
    "project_basedir = os.path.abspath(project_basedir)\n",
    "sys.path.insert(0,project_basedir)"
   ]
  },
  {
   "cell_type": "code",
   "execution_count": null,
   "metadata": {},
   "outputs": [],
   "source": [
    "from core.np.datasets.IrisDataset import Iris \n",
    "import core.np.Nodes as node \n",
    "from core import debug, info, log_at_info\n",
    "import core.np.Nodes as node\n",
    "import core.np.Loss as loss\n",
    "import core.np.Activations as act\n",
    "from  core.np.utils import to_one_hot, FilePersistenceHelper"
   ]
  },
  {
   "cell_type": "code",
   "execution_count": null,
   "metadata": {},
   "outputs": [],
   "source": [
    "iris = Iris()"
   ]
  },
  {
   "cell_type": "markdown",
   "metadata": {},
   "source": [
    "# Multilayer "
   ]
  },
  {
   "cell_type": "code",
   "execution_count": null,
   "metadata": {},
   "outputs": [],
   "source": [
    "class Net(nn.Module):\n",
    "    def __init__(self):\n",
    "        super(Net, self).__init__()\n",
    "        self.dense1 = nn.Linear(4,16)\n",
    "        self.dense2 = nn.Linear(16,10)\n",
    "        self.dense3 = nn.Linear(10,3)\n",
    "        self.softmax = nn.Softmax(dim=1)\n",
    "\n",
    "    def forward(self, x):\n",
    "        x = torch.tanh( self.dense1(x)) \n",
    "        x = F.relu(self.dense2(x))\n",
    "        x = self.dense3(x) \n",
    "        x = self.softmax(x) \n",
    "        return x \n",
    "    \n",
    "    def _set_weights(self, layer, w, b):\n",
    "        if w is None:\n",
    "            print(\"Null w\")\n",
    "        wt = torch.from_numpy(w).float() \n",
    "        wp = nn.Parameter(wt)\n",
    "        bt = torch.from_numpy(b).float() \n",
    "        bp = nn.Parameter(bt)\n",
    "        layer.weight = wp \n",
    "        layer.bias = bp \n",
    "        \n",
    "    def read_weights_from_file(self):\n",
    "        reader = FilePersistenceHelper(\"iris.multilayer\")\n",
    "        print(\"Layer 1\")\n",
    "        reader.push_level(\"layer1\")\n",
    "        w = reader.get_numpy_array(\"w\")\n",
    "        b = reader.get_numpy_array(\"b\")\n",
    "        self._set_weights(self.dense1, w, b)\n",
    "        reader.pop_level()\n",
    "        \n",
    "        print(\"Layer 2\")\n",
    "        reader.push_level(\"layer2\")\n",
    "        w = reader.get_numpy_array(\"w\")\n",
    "        b = reader.get_numpy_array(\"b\")\n",
    "        self._set_weights(self.dense2, w, b)\n",
    "        reader.pop_level()\n",
    "        \n",
    "        print(\"Layer 3\")\n",
    "        reader.push_level(\"layer3\")\n",
    "        w = reader.get_numpy_array(\"w\")\n",
    "        b = reader.get_numpy_array(\"b\")\n",
    "        self._set_weights(self.dense3, w, b)\n",
    "        \n",
    "    def print_weights(self):\n",
    "        print(\"------------------  Dense 1 ---------------------\")\n",
    "        print(\"-------------------------------------------------\")\n",
    "        print(self.dense1.weight.data)\n",
    "        print(\"Bias:\")\n",
    "        print(self.dense1.bias.data)\n",
    "        print(\"------------------  Dense 2 ---------------------\")\n",
    "        print(\"-------------------------------------------------\")\n",
    "        print(self.dense2.weight.data)\n",
    "        print(\"Bias:\")\n",
    "        print(self.dense2.bias.data)\n",
    "        print(\"------------------  Dense 3 ---------------------\")\n",
    "        print(\"-------------------------------------------------\")\n",
    "        print(self.dense3.weight.data)\n",
    "        print(\"Bias:\")\n",
    "        print(self.dense3.bias.data)"
   ]
  },
  {
   "cell_type": "code",
   "execution_count": null,
   "metadata": {},
   "outputs": [],
   "source": [
    "input = torch.FloatTensor([[1, -1, 2,1]])\n",
    "print(input)\n",
    "net = Net() \n",
    "net.read_weights_from_file() \n",
    "output = net(input)\n",
    "print(output)\n",
    "net.print_weights()"
   ]
  },
  {
   "cell_type": "code",
   "execution_count": null,
   "metadata": {},
   "outputs": [],
   "source": [
    "target = torch.tensor([1])\n",
    "target = target.view(1, )\n",
    "criteria = nn.NLLLoss()\n",
    "loss = criteria(output, target)\n",
    "optimizer = torch.optim.SGD(net.parameters(), lr=.01)\n",
    "print(net)"
   ]
  },
  {
   "cell_type": "code",
   "execution_count": null,
   "metadata": {},
   "outputs": [],
   "source": [
    "epoch = 0\n",
    "total_epochs = 10000\n",
    "log_at_info() \n",
    "for x, y in iris.train_iterator(total_epochs,batch_size=1, one_hot=False): \n",
    "    torch_x = torch.from_numpy(x.T).float() \n",
    "    target_y = torch.from_numpy(y).long()  \n",
    "    #print(\"x={}, y={}\".format(torch_x, target_y.data))\n",
    "    predicted = net(torch_x) \n",
    "    loss = criteria(predicted, target_y )\n",
    "    if epoch %500==0 : \n",
    "        print(\"[{}] Loss:{}, Target:{}, predicted:{}\".format(epoch, loss, target_y.data, predicted.data))\n",
    "    epoch+=1\n",
    "    optimizer.zero_grad() \n",
    "    loss.backward() \n",
    "    optimizer.step() \n",
    "    \n",
    "print(\"[{}] Loss:{}\".format(epoch, loss))"
   ]
  },
  {
   "cell_type": "code",
   "execution_count": null,
   "metadata": {},
   "outputs": [],
   "source": [
    "num_correct = 0 \n",
    "test_indexes = list(iris.test_idx)\n",
    "for i in test_indexes: \n",
    "    x = torch.from_numpy(iris.data[i,:].reshape(-1,4)).float() \n",
    "    y_actual = iris.targets[i] \n",
    "    y_pred = net(x) \n",
    "    max_idx = torch.argmax(y_pred) \n",
    "    mark = \"x\"\n",
    "    if max_idx.data == y_actual : \n",
    "        mark = u'\\u2713'\n",
    "        num_correct+=1\n",
    "    print(\"X:{}, Target={}, Predicted:{}  {}\".format( x, y_actual, max_idx, mark))\n",
    "    #print(repr(value))\n",
    "\n",
    "        \n",
    "total = len(test_indexes)\n",
    "percent = num_correct*100.0/total\n",
    "print(percent)"
   ]
  },
  {
   "cell_type": "code",
   "execution_count": null,
   "metadata": {},
   "outputs": [],
   "source": []
  }
 ],
 "metadata": {
  "kernelspec": {
   "display_name": "Python 3",
   "language": "python",
   "name": "python3"
  },
  "language_info": {
   "codemirror_mode": {
    "name": "ipython",
    "version": 3
   },
   "file_extension": ".py",
   "mimetype": "text/x-python",
   "name": "python",
   "nbconvert_exporter": "python",
   "pygments_lexer": "ipython3",
   "version": "3.7.4"
  }
 },
 "nbformat": 4,
 "nbformat_minor": 4
}
