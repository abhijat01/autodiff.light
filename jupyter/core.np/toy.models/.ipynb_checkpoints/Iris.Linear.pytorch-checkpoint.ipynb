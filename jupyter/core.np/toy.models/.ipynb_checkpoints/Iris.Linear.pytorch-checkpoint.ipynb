{
 "cells": [
  {
   "cell_type": "code",
   "execution_count": 23,
   "metadata": {},
   "outputs": [],
   "source": [
    "import sklearn\n",
    "from sklearn import datasets\n",
    "import torch\n",
    "import torch.nn as nn\n",
    "import torch.nn.functional as F\n",
    "import numpy as np \n",
    "import torch.optim as optim \n",
    "import sys \n",
    "import os \n",
    "import matplotlib.pyplot as plt"
   ]
  },
  {
   "cell_type": "code",
   "execution_count": 24,
   "metadata": {},
   "outputs": [],
   "source": [
    "project_basedir=os.path.join('..','..','..')\n",
    "project_basedir = os.path.abspath(project_basedir)\n",
    "sys.path.insert(0,project_basedir)"
   ]
  },
  {
   "cell_type": "code",
   "execution_count": 51,
   "metadata": {},
   "outputs": [],
   "source": [
    "from core.np.datasets.IrisDataset import Iris \n",
    "import core.np.Nodes as node \n",
    "from core import debug, info, log_at_info\n",
    "import core.np.Nodes as node\n",
    "import core.np.Loss as loss\n",
    "import core.np.Activations as act\n",
    "from  core.np.utils import to_one_hot"
   ]
  },
  {
   "cell_type": "code",
   "execution_count": 29,
   "metadata": {},
   "outputs": [
    {
     "name": "stderr",
     "output_type": "stream",
     "text": [
      "Created Node named:x-5\n",
      "Created Node named:yt-6\n",
      "Created Node named:$Node-7\n",
      "Created Node named:$Node-8\n",
      "Created Node named:$Node-9\n",
      "Setting level for all handlers to INFO\n"
     ]
    }
   ],
   "source": [
    "iris = Iris()\n",
    "x_node = node.VarNode('x')\n",
    "yt_node = node.VarNode('yt')\n",
    "dense = node.DenseLayer(x_node, 3)\n",
    "softmax = act.Softmax( dense)\n",
    "cross_entropy = loss.CrossEntropy(softmax, yt_node)\n",
    "learning_rate = 0.01 \n",
    "def optimizer_func(x, grad):\n",
    "    return x - learning_rate*grad \n",
    "optimizer = node.OptimizerIterator([x_node, yt_node], cross_entropy, optimizer_func)\n",
    "log_at_info()"
   ]
  },
  {
   "cell_type": "code",
   "execution_count": 38,
   "metadata": {},
   "outputs": [
    {
     "name": "stderr",
     "output_type": "stream",
     "text": [
      "[0]\tloss_now = 1.5846420595483628, learning rate:0.0001\n",
      "[1000]\tloss_now = 1.7668563731168603, learning rate:0.0001\n",
      "[2000]\tloss_now = 1.7591283448886361, learning rate:0.0001\n",
      "[3000]\tloss_now = 1.7004581613413023, learning rate:0.0001\n",
      "[4000]\tloss_now = 1.6937260801153033, learning rate:0.0001\n",
      "[5000]\tloss_now = 1.8164212353952685, learning rate:0.0001\n"
     ]
    }
   ],
   "source": [
    "epoch = 0\n",
    "learning_rate=0.0001\n",
    "batch_size = 10 \n",
    "for x, y in iris.train_iterator(5000, 16):\n",
    "    var_map = {'x': x, 'yt': y}\n",
    "    loss_now = optimizer.step(var_map, 1.0)/batch_size \n",
    "    if epoch % 1000 == 0:\n",
    "        #learning_rate = learning_rate*0.5\n",
    "        info(\"[{}]\\tloss_now = {}, learning rate:{}\".format(epoch, loss_now, learning_rate))\n",
    "    epoch += 1\n",
    "info(\"[{}]\\tloss_now = {}, learning rate:{}\".format(epoch, loss_now, learning_rate))"
   ]
  },
  {
   "cell_type": "code",
   "execution_count": 33,
   "metadata": {},
   "outputs": [
    {
     "name": "stdout",
     "output_type": "stream",
     "text": [
      "20.926061757686792\n"
     ]
    }
   ],
   "source": [
    "print(loss_now)"
   ]
  },
  {
   "cell_type": "code",
   "execution_count": 39,
   "metadata": {},
   "outputs": [
    {
     "name": "stdout",
     "output_type": "stream",
     "text": [
      "[[0.42845321 0.38345378 0.61946771 0.36467224]\n",
      " [0.4190707  0.10259393 0.51820835 0.18850934]\n",
      " [0.37880561 0.19743295 0.68517383 0.80554457]]\n"
     ]
    }
   ],
   "source": [
    "print(dense.w)"
   ]
  },
  {
   "cell_type": "code",
   "execution_count": 40,
   "metadata": {},
   "outputs": [
    {
     "name": "stdout",
     "output_type": "stream",
     "text": [
      "[[0.42845321 0.38345378 0.61946771 0.36467224]\n",
      " [0.4190707  0.10259393 0.51820835 0.18850934]\n",
      " [0.37880561 0.19743295 0.68517383 0.80554457]]\n",
      "[[0.49111935]\n",
      " [0.95200764]\n",
      " [0.74109573]]\n"
     ]
    }
   ],
   "source": [
    "print(dense.get_w())\n",
    "print(dense.get_b())"
   ]
  },
  {
   "cell_type": "code",
   "execution_count": 58,
   "metadata": {},
   "outputs": [],
   "source": [
    "test_indexes = iris.test_idx\n",
    "test_indexes = list(test_indexes)\n",
    "class DummyNode:\n",
    "    def simple_name(self):\n",
    "        return \"JupyterNB\"\n",
    "dummy = DummyNode()  \n",
    "def forward(start_nodes, output_node, var_map): \n",
    "    for node in start_nodes:\n",
    "        node.reset_network_fwd()\n",
    "    for node in start_nodes: \n",
    "        node.forward(var_map, None, dummy) \n",
    "    return output_node.value(var_map)"
   ]
  },
  {
   "cell_type": "code",
   "execution_count": 66,
   "metadata": {},
   "outputs": [
    {
     "name": "stdout",
     "output_type": "stream",
     "text": [
      "45\n"
     ]
    }
   ],
   "source": [
    "print(len(test_indexes))"
   ]
  },
  {
   "cell_type": "code",
   "execution_count": 68,
   "metadata": {},
   "outputs": [
    {
     "name": "stdout",
     "output_type": "stream",
     "text": [
      "X:[[5.  3.6 1.4 0.2]], Target=0, Predicted:0  ✓\n",
      "X:[[6.4 2.8 5.6 2.2]], Target=2, Predicted:2  ✓\n",
      "X:[[4.8 3.4 1.6 0.2]], Target=0, Predicted:0  ✓\n",
      "X:[[4.8 3.  1.4 0.1]], Target=0, Predicted:0  ✓\n",
      "X:[[4.3 3.  1.1 0.1]], Target=0, Predicted:0  ✓\n",
      "X:[[5.8 4.  1.2 0.2]], Target=0, Predicted:0  ✓\n",
      "X:[[6.7 3.1 5.6 2.4]], Target=2, Predicted:2  ✓\n",
      "X:[[6.7 3.3 5.7 2.5]], Target=2, Predicted:2  ✓\n",
      "X:[[5.2 3.5 1.5 0.2]], Target=0, Predicted:0  ✓\n",
      "X:[[4.7 3.2 1.6 0.2]], Target=0, Predicted:0  ✓\n",
      "X:[[4.8 3.1 1.6 0.2]], Target=0, Predicted:0  ✓\n",
      "X:[[5.4 3.4 1.5 0.4]], Target=0, Predicted:0  ✓\n",
      "X:[[5.2 4.1 1.5 0.1]], Target=0, Predicted:0  ✓\n",
      "X:[[5.5 4.2 1.4 0.2]], Target=0, Predicted:0  ✓\n",
      "X:[[4.9 3.1 1.5 0.2]], Target=0, Predicted:0  ✓\n",
      "X:[[5.1 3.8 1.9 0.4]], Target=0, Predicted:0  ✓\n",
      "X:[[4.8 3.  1.4 0.3]], Target=0, Predicted:0  ✓\n",
      "X:[[5.3 3.7 1.5 0.2]], Target=0, Predicted:0  ✓\n",
      "X:[[7.  3.2 4.7 1.4]], Target=1, Predicted:2  x\n",
      "X:[[6.4 3.2 4.5 1.5]], Target=1, Predicted:2  x\n",
      "X:[[5.7 2.8 4.5 1.3]], Target=1, Predicted:2  x\n",
      "X:[[6.6 2.9 4.6 1.3]], Target=1, Predicted:2  x\n",
      "X:[[5.  2.  3.5 1. ]], Target=1, Predicted:2  x\n",
      "X:[[5.9 3.  4.2 1.5]], Target=1, Predicted:2  x\n",
      "X:[[6.1 2.9 4.7 1.4]], Target=1, Predicted:2  x\n",
      "X:[[5.6 3.  4.5 1.5]], Target=1, Predicted:2  x\n",
      "X:[[6.2 2.2 4.5 1.5]], Target=1, Predicted:2  x\n",
      "X:[[6.4 2.9 4.3 1.3]], Target=1, Predicted:2  x\n",
      "X:[[6.8 2.8 4.8 1.4]], Target=1, Predicted:2  x\n",
      "X:[[6.  2.9 4.5 1.5]], Target=1, Predicted:2  x\n",
      "X:[[5.8 2.7 3.9 1.2]], Target=1, Predicted:2  x\n",
      "X:[[6.  3.4 4.5 1.6]], Target=1, Predicted:2  x\n",
      "X:[[5.5 2.5 4.  1.3]], Target=1, Predicted:2  x\n",
      "X:[[5.5 2.6 4.4 1.2]], Target=1, Predicted:2  x\n",
      "X:[[5.6 2.7 4.2 1.3]], Target=1, Predicted:2  x\n",
      "X:[[5.7 3.  4.2 1.2]], Target=1, Predicted:2  x\n",
      "X:[[5.1 2.5 3.  1.1]], Target=1, Predicted:2  x\n",
      "X:[[5.7 2.8 4.1 1.3]], Target=1, Predicted:2  x\n",
      "X:[[6.7 2.5 5.8 1.8]], Target=2, Predicted:2  ✓\n",
      "X:[[6.5 3.2 5.1 2. ]], Target=2, Predicted:2  ✓\n",
      "X:[[6.4 2.7 5.3 1.9]], Target=2, Predicted:2  ✓\n",
      "X:[[5.7 2.5 5.  2. ]], Target=2, Predicted:2  ✓\n",
      "X:[[6.4 3.2 5.3 2.3]], Target=2, Predicted:2  ✓\n",
      "X:[[7.7 3.8 6.7 2.2]], Target=2, Predicted:2  ✓\n",
      "X:[[6.3 2.7 4.9 1.8]], Target=2, Predicted:2  ✓\n",
      "55.55555555555556\n"
     ]
    }
   ],
   "source": [
    "num_correct = 0 \n",
    "for i in test_indexes: \n",
    "    x = iris.data[i,:].reshape(4,1)\n",
    "    y = iris.targets[i] \n",
    "    var_map = {'x':x}\n",
    "    value = forward([x_node], softmax, var_map)\n",
    "    max_idx = np.argmax(value) \n",
    "    mark = \"x\"\n",
    "    if max_idx == y : \n",
    "        mark = u'\\u2713'\n",
    "    print(\"X:{}, Target={}, Predicted:{}  {}\".format( x.T, y, max_idx, mark))\n",
    "    #print(repr(value))\n",
    "    if max_idx == y: \n",
    "        num_correct+=1\n",
    "total = len(test_indexes)\n",
    "percent = num_correct*100.0/total\n",
    "print(percent)"
   ]
  },
  {
   "cell_type": "code",
   "execution_count": null,
   "metadata": {},
   "outputs": [],
   "source": []
  }
 ],
 "metadata": {
  "kernelspec": {
   "display_name": "Python 3",
   "language": "python",
   "name": "python3"
  },
  "language_info": {
   "codemirror_mode": {
    "name": "ipython",
    "version": 3
   },
   "file_extension": ".py",
   "mimetype": "text/x-python",
   "name": "python",
   "nbconvert_exporter": "python",
   "pygments_lexer": "ipython3",
   "version": "3.7.4"
  }
 },
 "nbformat": 4,
 "nbformat_minor": 4
}
