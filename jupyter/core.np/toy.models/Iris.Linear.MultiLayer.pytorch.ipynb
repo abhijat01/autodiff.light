{
 "cells": [
  {
   "cell_type": "code",
   "execution_count": 1,
   "metadata": {},
   "outputs": [],
   "source": [
    "import sklearn\n",
    "from sklearn import datasets\n",
    "import torch\n",
    "import torch.nn as nn\n",
    "import torch.nn.functional as F\n",
    "import numpy as np \n",
    "import torch.optim as optim \n",
    "import sys \n",
    "import os \n",
    "import matplotlib.pyplot as plt"
   ]
  },
  {
   "cell_type": "code",
   "execution_count": 2,
   "metadata": {},
   "outputs": [],
   "source": [
    "project_basedir=os.path.join('..','..','..')\n",
    "project_basedir = os.path.abspath(project_basedir)\n",
    "sys.path.insert(0,project_basedir)"
   ]
  },
  {
   "cell_type": "code",
   "execution_count": 3,
   "metadata": {},
   "outputs": [],
   "source": [
    "from core.np.datasets.IrisDataset import Iris \n",
    "import core.np.Nodes as node \n",
    "from core import debug, info, log_at_info\n",
    "import core.np.Nodes as node\n",
    "import core.np.Loss as loss\n",
    "import core.np.Activations as act\n",
    "from  core.np.utils import to_one_hot, FilePersistenceHelper"
   ]
  },
  {
   "cell_type": "code",
   "execution_count": 4,
   "metadata": {},
   "outputs": [],
   "source": [
    "iris = Iris()"
   ]
  },
  {
   "cell_type": "markdown",
   "metadata": {},
   "source": [
    "# Multilayer "
   ]
  },
  {
   "cell_type": "code",
   "execution_count": 5,
   "metadata": {},
   "outputs": [],
   "source": [
    "class Net(nn.Module):\n",
    "    def __init__(self):\n",
    "        super(Net, self).__init__()\n",
    "        self.dense1 = nn.Linear(4,16)\n",
    "        self.dense2 = nn.Linear(16,10)\n",
    "        self.dense3 = nn.Linear(10,3)\n",
    "        self.softmax = nn.Softmax(dim=1)\n",
    "\n",
    "    def forward(self, x):\n",
    "        x = torch.tanh( self.dense1(x)) \n",
    "        x = F.relu(self.dense2(x))\n",
    "        x = self.dense3(x) \n",
    "        x = self.softmax(x) \n",
    "        return x \n",
    "    \n",
    "    def _set_weights(self, layer, w, b):\n",
    "        if w is None:\n",
    "            print(\"Null w\")\n",
    "        wt = torch.from_numpy(w).float() \n",
    "        wp = nn.Parameter(wt)\n",
    "        bt = torch.from_numpy(b).float() \n",
    "        bp = nn.Parameter(bt)\n",
    "        layer.weight = wp \n",
    "        layer.bias = bp \n",
    "        \n",
    "    def read_weights_from_file(self):\n",
    "        reader = FilePersistenceHelper.read_from_file(\"iris.multilayer\")\n",
    "        \n",
    "        reader.push_level(\"layer1\")\n",
    "        w = reader.get_numpy_array(\"w\")\n",
    "        b = reader.get_numpy_array(\"b\")\n",
    "        self._set_weights(self.dense1, w, b)\n",
    "        reader.pop_level()\n",
    "        \n",
    "        reader.push_level(\"layer2\")\n",
    "        w = reader.get_numpy_array(\"w\")\n",
    "        b = reader.get_numpy_array(\"b\")\n",
    "        self._set_weights(self.dense2, w, b)\n",
    "        reader.pop_level()\n",
    "        \n",
    "        reader.push_level(\"layer3\")\n",
    "        w = reader.get_numpy_array(\"w\")\n",
    "        b = reader.get_numpy_array(\"b\")\n",
    "        self._set_weights(self.dense3, w, b)\n",
    "        \n",
    "    def print_weights(self):\n",
    "        print(\"------------------  Dense 1 ---------------------\")\n",
    "        print(\"-------------------------------------------------\")\n",
    "        print(self.dense1.weight.data)\n",
    "        print(\"Bias:\")\n",
    "        print(self.dense1.bias.data)\n",
    "        print(\"------------------  Dense 2 ---------------------\")\n",
    "        print(\"-------------------------------------------------\")\n",
    "        print(self.dense2.weight.data)\n",
    "        print(\"Bias:\")\n",
    "        print(self.dense2.bias.data)\n",
    "        print(\"------------------  Dense 3 ---------------------\")\n",
    "        print(\"-------------------------------------------------\")\n",
    "        print(self.dense3.weight.data)\n",
    "        print(\"Bias:\")\n",
    "        print(self.dense3.bias.data)"
   ]
  },
  {
   "cell_type": "code",
   "execution_count": 6,
   "metadata": {},
   "outputs": [
    {
     "name": "stdout",
     "output_type": "stream",
     "text": [
      "tensor([[ 1., -1.,  2.,  1.]])\n",
      "tensor([[0.3028, 0.3063, 0.3910]], grad_fn=<SoftmaxBackward>)\n"
     ]
    }
   ],
   "source": [
    "input = torch.FloatTensor([[1, -1, 2,1]])\n",
    "print(input)\n",
    "net = Net() \n",
    "net.read_weights_from_file() \n",
    "output = net(input)\n",
    "print(output)\n",
    "#net.print_weights()"
   ]
  },
  {
   "cell_type": "code",
   "execution_count": 7,
   "metadata": {},
   "outputs": [
    {
     "name": "stdout",
     "output_type": "stream",
     "text": [
      "Net(\n",
      "  (dense1): Linear(in_features=4, out_features=16, bias=True)\n",
      "  (dense2): Linear(in_features=16, out_features=10, bias=True)\n",
      "  (dense3): Linear(in_features=10, out_features=3, bias=True)\n",
      "  (softmax): Softmax(dim=1)\n",
      ")\n"
     ]
    }
   ],
   "source": [
    "target = torch.tensor([1])\n",
    "target = target.view(1, )\n",
    "criteria = nn.NLLLoss()\n",
    "loss = criteria(output, target)\n",
    "optimizer = torch.optim.SGD(net.parameters(), lr=.01)\n",
    "print(net)"
   ]
  },
  {
   "cell_type": "code",
   "execution_count": 8,
   "metadata": {},
   "outputs": [
    {
     "name": "stderr",
     "output_type": "stream",
     "text": [
      "Setting level for all handlers to INFO\n"
     ]
    },
    {
     "name": "stdout",
     "output_type": "stream",
     "text": [
      "[0] Loss:-0.40078672766685486, Target:tensor([2]), predicted:tensor([[0.2952, 0.3040, 0.4008]])\n",
      "[500] Loss:-0.2396797239780426, Target:tensor([1]), predicted:tensor([[0.2414, 0.2397, 0.5189]])\n",
      "[1000] Loss:-0.1419222205877304, Target:tensor([1]), predicted:tensor([[0.0468, 0.1419, 0.8113]])\n",
      "[1500] Loss:-0.9716880321502686, Target:tensor([0]), predicted:tensor([[0.9717, 0.0267, 0.0016]])\n",
      "[2000] Loss:-0.9135372638702393, Target:tensor([2]), predicted:tensor([[2.0418e-04, 8.6259e-02, 9.1354e-01]])\n",
      "[2500] Loss:-0.9635754823684692, Target:tensor([2]), predicted:tensor([[7.1971e-06, 3.6417e-02, 9.6358e-01]])\n",
      "[3000] Loss:-0.8674612641334534, Target:tensor([1]), predicted:tensor([[0.0017, 0.8675, 0.1308]])\n",
      "[3500] Loss:-0.9890978336334229, Target:tensor([0]), predicted:tensor([[9.8910e-01, 1.0902e-02, 4.6344e-09]])\n",
      "[4000] Loss:-0.9915999174118042, Target:tensor([0]), predicted:tensor([[9.9160e-01, 8.4001e-03, 7.5163e-10]])\n",
      "[4500] Loss:-0.9689174294471741, Target:tensor([2]), predicted:tensor([[2.0799e-07, 3.1082e-02, 9.6892e-01]])\n",
      "[5000] Loss:-0.9973151087760925, Target:tensor([2]), predicted:tensor([[1.7159e-09, 2.6849e-03, 9.9732e-01]])\n",
      "[5500] Loss:-0.9924629926681519, Target:tensor([0]), predicted:tensor([[9.9246e-01, 7.5370e-03, 9.6277e-12]])\n",
      "[6000] Loss:-0.8820732235908508, Target:tensor([2]), predicted:tensor([[2.7760e-07, 1.1793e-01, 8.8207e-01]])\n",
      "[6500] Loss:-0.9023320078849792, Target:tensor([1]), predicted:tensor([[1.7183e-05, 9.0233e-01, 9.7651e-02]])\n",
      "[7000] Loss:-0.9989615678787231, Target:tensor([2]), predicted:tensor([[4.7712e-11, 1.0384e-03, 9.9896e-01]])\n",
      "[7500] Loss:-0.9956473708152771, Target:tensor([0]), predicted:tensor([[9.9565e-01, 4.3526e-03, 1.9997e-13]])\n",
      "[8000] Loss:-0.9986388087272644, Target:tensor([2]), predicted:tensor([[6.1001e-11, 1.3611e-03, 9.9864e-01]])\n",
      "[8500] Loss:-0.998264729976654, Target:tensor([2]), predicted:tensor([[7.0742e-11, 1.7353e-03, 9.9826e-01]])\n",
      "[9000] Loss:-0.9569965600967407, Target:tensor([1]), predicted:tensor([[4.3003e-02, 9.5700e-01, 2.0521e-09]])\n",
      "[9500] Loss:-0.9976267218589783, Target:tensor([0]), predicted:tensor([[9.9763e-01, 2.3732e-03, 6.4953e-15]])\n",
      "[10000] Loss:-0.9868209958076477\n"
     ]
    }
   ],
   "source": [
    "epoch = 0\n",
    "total_epochs = 10000\n",
    "log_at_info() \n",
    "for x, y in iris.train_iterator(total_epochs,batch_size=1, one_hot=False): \n",
    "    torch_x = torch.from_numpy(x.T).float() \n",
    "    target_y = torch.from_numpy(y).long()  \n",
    "    #print(\"x={}, y={}\".format(torch_x, target_y.data))\n",
    "    predicted = net(torch_x) \n",
    "    loss = criteria(predicted, target_y )\n",
    "    if epoch %500==0 : \n",
    "        print(\"[{}] Loss:{}, Target:{}, predicted:{}\".format(epoch, loss, target_y.data, predicted.data))\n",
    "    epoch+=1\n",
    "    optimizer.zero_grad() \n",
    "    loss.backward() \n",
    "    optimizer.step() \n",
    "    \n",
    "print(\"[{}] Loss:{}\".format(epoch, loss))"
   ]
  },
  {
   "cell_type": "code",
   "execution_count": 9,
   "metadata": {},
   "outputs": [
    {
     "name": "stdout",
     "output_type": "stream",
     "text": [
      "X:tensor([[5.1000, 3.5000, 1.4000, 0.2000]]), Target=0, Predicted:0  ✓\n",
      "X:tensor([[4.7000, 3.2000, 1.3000, 0.2000]]), Target=0, Predicted:0  ✓\n",
      "X:tensor([[7.4000, 2.8000, 6.1000, 1.9000]]), Target=2, Predicted:2  ✓\n",
      "X:tensor([[5.4000, 3.9000, 1.7000, 0.4000]]), Target=0, Predicted:0  ✓\n",
      "X:tensor([[6.1000, 2.6000, 5.6000, 1.4000]]), Target=2, Predicted:2  ✓\n",
      "X:tensor([[6.3000, 3.4000, 5.6000, 2.4000]]), Target=2, Predicted:2  ✓\n",
      "X:tensor([[6.4000, 3.1000, 5.5000, 1.8000]]), Target=2, Predicted:2  ✓\n",
      "X:tensor([[4.8000, 3.4000, 1.6000, 0.2000]]), Target=0, Predicted:0  ✓\n",
      "X:tensor([[5.8000, 4.0000, 1.2000, 0.2000]]), Target=0, Predicted:0  ✓\n",
      "X:tensor([[5.8000, 2.7000, 5.1000, 1.9000]]), Target=2, Predicted:2  ✓\n",
      "X:tensor([[6.7000, 3.3000, 5.7000, 2.5000]]), Target=2, Predicted:2  ✓\n",
      "X:tensor([[5.1000, 3.5000, 1.4000, 0.3000]]), Target=0, Predicted:0  ✓\n",
      "X:tensor([[6.7000, 3.0000, 5.2000, 2.3000]]), Target=2, Predicted:2  ✓\n",
      "X:tensor([[5.1000, 3.8000, 1.5000, 0.3000]]), Target=0, Predicted:0  ✓\n",
      "X:tensor([[5.4000, 3.4000, 1.7000, 0.2000]]), Target=0, Predicted:0  ✓\n",
      "X:tensor([[4.8000, 3.4000, 1.9000, 0.2000]]), Target=0, Predicted:0  ✓\n",
      "X:tensor([[4.9000, 3.1000, 1.5000, 0.2000]]), Target=0, Predicted:0  ✓\n",
      "X:tensor([[5.5000, 3.5000, 1.3000, 0.2000]]), Target=0, Predicted:0  ✓\n",
      "X:tensor([[4.9000, 3.6000, 1.4000, 0.1000]]), Target=0, Predicted:0  ✓\n",
      "X:tensor([[5.0000, 3.5000, 1.3000, 0.3000]]), Target=0, Predicted:0  ✓\n",
      "X:tensor([[5.0000, 3.5000, 1.6000, 0.6000]]), Target=0, Predicted:0  ✓\n",
      "X:tensor([[5.1000, 3.8000, 1.9000, 0.4000]]), Target=0, Predicted:0  ✓\n",
      "X:tensor([[5.1000, 3.8000, 1.6000, 0.2000]]), Target=0, Predicted:0  ✓\n",
      "X:tensor([[4.6000, 3.2000, 1.4000, 0.2000]]), Target=0, Predicted:0  ✓\n",
      "X:tensor([[5.3000, 3.7000, 1.5000, 0.2000]]), Target=0, Predicted:0  ✓\n",
      "X:tensor([[6.4000, 3.2000, 4.5000, 1.5000]]), Target=1, Predicted:1  ✓\n",
      "X:tensor([[6.5000, 2.8000, 4.6000, 1.5000]]), Target=1, Predicted:1  ✓\n",
      "X:tensor([[5.7000, 2.8000, 4.5000, 1.3000]]), Target=1, Predicted:1  ✓\n",
      "X:tensor([[5.2000, 2.7000, 3.9000, 1.4000]]), Target=1, Predicted:1  ✓\n",
      "X:tensor([[5.9000, 3.2000, 4.8000, 1.8000]]), Target=1, Predicted:2  x\n",
      "X:tensor([[6.1000, 2.8000, 4.0000, 1.3000]]), Target=1, Predicted:1  ✓\n",
      "X:tensor([[6.3000, 2.5000, 4.9000, 1.5000]]), Target=1, Predicted:2  x\n",
      "X:tensor([[6.0000, 2.7000, 5.1000, 1.6000]]), Target=1, Predicted:2  x\n",
      "X:tensor([[6.0000, 3.4000, 4.5000, 1.6000]]), Target=1, Predicted:1  ✓\n",
      "X:tensor([[6.7000, 3.1000, 4.7000, 1.5000]]), Target=1, Predicted:1  ✓\n",
      "X:tensor([[5.6000, 3.0000, 4.1000, 1.3000]]), Target=1, Predicted:1  ✓\n",
      "X:tensor([[5.7000, 2.9000, 4.2000, 1.3000]]), Target=1, Predicted:1  ✓\n",
      "X:tensor([[5.7000, 2.8000, 4.1000, 1.3000]]), Target=1, Predicted:1  ✓\n",
      "X:tensor([[5.8000, 2.7000, 5.1000, 1.9000]]), Target=2, Predicted:2  ✓\n",
      "X:tensor([[7.1000, 3.0000, 5.9000, 2.1000]]), Target=2, Predicted:2  ✓\n",
      "X:tensor([[4.9000, 2.5000, 4.5000, 1.7000]]), Target=2, Predicted:2  ✓\n",
      "X:tensor([[5.7000, 2.5000, 5.0000, 2.0000]]), Target=2, Predicted:2  ✓\n",
      "X:tensor([[6.9000, 3.2000, 5.7000, 2.3000]]), Target=2, Predicted:2  ✓\n",
      "X:tensor([[7.7000, 2.8000, 6.7000, 2.0000]]), Target=2, Predicted:2  ✓\n",
      "X:tensor([[7.2000, 3.2000, 6.0000, 1.8000]]), Target=2, Predicted:2  ✓\n",
      "93.33333333333333\n"
     ]
    }
   ],
   "source": [
    "num_correct = 0 \n",
    "test_indexes = list(iris.test_idx)\n",
    "for i in test_indexes: \n",
    "    x = torch.from_numpy(iris.data[i,:].reshape(-1,4)).float() \n",
    "    y_actual = iris.targets[i] \n",
    "    y_pred = net(x) \n",
    "    max_idx = torch.argmax(y_pred) \n",
    "    mark = \"x\"\n",
    "    if max_idx.data == y_actual : \n",
    "        mark = u'\\u2713'\n",
    "        num_correct+=1\n",
    "    print(\"X:{}, Target={}, Predicted:{}  {}\".format( x, y_actual, max_idx, mark))\n",
    "    #print(repr(value))\n",
    "\n",
    "        \n",
    "total = len(test_indexes)\n",
    "percent = num_correct*100.0/total\n",
    "print(percent)"
   ]
  },
  {
   "cell_type": "code",
   "execution_count": null,
   "metadata": {},
   "outputs": [],
   "source": []
  }
 ],
 "metadata": {
  "kernelspec": {
   "display_name": "Python 3",
   "language": "python",
   "name": "python3"
  },
  "language_info": {
   "codemirror_mode": {
    "name": "ipython",
    "version": 3
   },
   "file_extension": ".py",
   "mimetype": "text/x-python",
   "name": "python",
   "nbconvert_exporter": "python",
   "pygments_lexer": "ipython3",
   "version": "3.7.4"
  }
 },
 "nbformat": 4,
 "nbformat_minor": 4
}
