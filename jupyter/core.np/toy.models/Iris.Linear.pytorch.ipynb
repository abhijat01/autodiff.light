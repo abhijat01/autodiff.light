{
 "cells": [
  {
   "cell_type": "code",
   "execution_count": 1,
   "metadata": {},
   "outputs": [],
   "source": [
    "import sklearn\n",
    "from sklearn import datasets\n",
    "import torch\n",
    "import torch.nn as nn\n",
    "import torch.nn.functional as F\n",
    "import numpy as np \n",
    "import torch.optim as optim \n",
    "import sys \n",
    "import os \n",
    "import matplotlib.pyplot as plt"
   ]
  },
  {
   "cell_type": "code",
   "execution_count": 2,
   "metadata": {},
   "outputs": [],
   "source": [
    "project_basedir=os.path.join('..','..','..')\n",
    "project_basedir = os.path.abspath(project_basedir)\n",
    "sys.path.insert(0,project_basedir)"
   ]
  },
  {
   "cell_type": "code",
   "execution_count": 3,
   "metadata": {},
   "outputs": [],
   "source": [
    "from core.np.datasets.IrisDataset import Iris \n",
    "import core.np.Nodes as node \n",
    "from core import debug, info, log_at_info\n",
    "import core.np.Nodes as node\n",
    "import core.np.Loss as loss\n",
    "import core.np.Activations as act\n",
    "from  core.np.utils import to_one_hot"
   ]
  },
  {
   "cell_type": "code",
   "execution_count": 4,
   "metadata": {},
   "outputs": [],
   "source": [
    "iris = Iris()\n",
    "learning_rate = 0.01 "
   ]
  },
  {
   "cell_type": "code",
   "execution_count": 5,
   "metadata": {},
   "outputs": [],
   "source": [
    "class Net(nn.Module):\n",
    "    def __init__(self):\n",
    "        super(Net, self).__init__()\n",
    "        self.dense =  nn.Linear(4,3)\n",
    "        self.softmax = nn.Softmax(dim=1)\n",
    "\n",
    "    def forward(self, x):\n",
    "        x = self.dense(x) \n",
    "        x = self.softmax(x)\n",
    "        return x "
   ]
  },
  {
   "cell_type": "code",
   "execution_count": 6,
   "metadata": {},
   "outputs": [
    {
     "name": "stdout",
     "output_type": "stream",
     "text": [
      "tensor([[ 1., -1.,  2.,  1.]])\n",
      "tensor([[0.3310, 0.5128, 0.1562]], grad_fn=<SoftmaxBackward>)\n"
     ]
    }
   ],
   "source": [
    "input = torch.FloatTensor([[1, -1, 2,1]])\n",
    "print(input)\n",
    "net = Net() \n",
    "output = net(input)\n",
    "print(output)"
   ]
  },
  {
   "cell_type": "code",
   "execution_count": 7,
   "metadata": {},
   "outputs": [],
   "source": [
    "target = torch.tensor([1])\n",
    "target = target.view(1, )\n",
    "criteria = nn.NLLLoss()\n",
    "loss = criteria(output, target)\n",
    "optimizer = torch.optim.SGD(net.parameters(), lr=.01)"
   ]
  },
  {
   "cell_type": "code",
   "execution_count": 22,
   "metadata": {},
   "outputs": [
    {
     "name": "stdout",
     "output_type": "stream",
     "text": [
      "x=tensor([[5.1000, 3.5000, 1.4000, 0.2000]]), y=tensor([1])\n",
      "[0] Loss:-0.9835102558135986\n"
     ]
    }
   ],
   "source": [
    "epoch = 0 \n",
    "log_at_info() \n",
    "for x, y in iris.train_iterator(1,batch_size=1, one_hot=False): \n",
    "    torch_x = torch.from_numpy(x.T).float() \n",
    "    target_y = torch.from_numpy(y).long()  \n",
    "    print(\"x={}, y={}\".format(torch_x, target_y.data))\n",
    "    predicted = net(torch_x) \n",
    "    loss = criteria(predicted, target_y )\n",
    "    if epoch %1000==0 : \n",
    "        print(\"[{}] Loss:{}\".format(epoch, loss))\n",
    "    epoch+=1\n",
    "    optimizer.zero_grad() \n",
    "    loss.backward() \n",
    "    optimizer.step() "
   ]
  },
  {
   "cell_type": "code",
   "execution_count": 28,
   "metadata": {},
   "outputs": [
    {
     "name": "stdout",
     "output_type": "stream",
     "text": [
      "X:tensor([[4.9000, 3.0000, 1.4000, 0.2000]]), Target=0, Predicted:1  x\n",
      "X:tensor([[7.9000, 3.8000, 6.4000, 2.0000]]), Target=2, Predicted:1  x\n",
      "X:tensor([[4.6000, 3.4000, 1.4000, 0.3000]]), Target=0, Predicted:1  x\n",
      "X:tensor([[5.4000, 3.7000, 1.5000, 0.2000]]), Target=0, Predicted:1  x\n",
      "X:tensor([[4.3000, 3.0000, 1.1000, 0.1000]]), Target=0, Predicted:1  x\n",
      "X:tensor([[5.8000, 4.0000, 1.2000, 0.2000]]), Target=0, Predicted:1  x\n",
      "X:tensor([[5.1000, 3.5000, 1.4000, 0.3000]]), Target=0, Predicted:1  x\n",
      "X:tensor([[5.7000, 3.8000, 1.7000, 0.3000]]), Target=0, Predicted:1  x\n",
      "X:tensor([[6.7000, 3.0000, 5.2000, 2.3000]]), Target=2, Predicted:1  x\n",
      "X:tensor([[6.3000, 2.5000, 5.0000, 1.9000]]), Target=2, Predicted:1  x\n",
      "X:tensor([[5.1000, 3.7000, 1.5000, 0.4000]]), Target=0, Predicted:1  x\n",
      "X:tensor([[6.5000, 3.0000, 5.2000, 2.0000]]), Target=2, Predicted:1  x\n",
      "X:tensor([[6.2000, 3.4000, 5.4000, 2.3000]]), Target=2, Predicted:1  x\n",
      "X:tensor([[4.8000, 3.4000, 1.9000, 0.2000]]), Target=0, Predicted:1  x\n",
      "X:tensor([[5.0000, 3.4000, 1.6000, 0.4000]]), Target=0, Predicted:1  x\n",
      "X:tensor([[5.4000, 3.4000, 1.5000, 0.4000]]), Target=0, Predicted:1  x\n",
      "X:tensor([[5.2000, 4.1000, 1.5000, 0.1000]]), Target=0, Predicted:1  x\n",
      "X:tensor([[4.9000, 3.1000, 1.5000, 0.2000]]), Target=0, Predicted:1  x\n",
      "X:tensor([[5.5000, 3.5000, 1.3000, 0.2000]]), Target=0, Predicted:1  x\n",
      "X:tensor([[4.4000, 3.0000, 1.3000, 0.2000]]), Target=0, Predicted:1  x\n",
      "X:tensor([[4.5000, 2.3000, 1.3000, 0.3000]]), Target=0, Predicted:1  x\n",
      "X:tensor([[4.4000, 3.2000, 1.3000, 0.2000]]), Target=0, Predicted:1  x\n",
      "X:tensor([[4.8000, 3.0000, 1.4000, 0.3000]]), Target=0, Predicted:1  x\n",
      "X:tensor([[5.1000, 3.8000, 1.6000, 0.2000]]), Target=0, Predicted:1  x\n",
      "X:tensor([[6.4000, 3.2000, 4.5000, 1.5000]]), Target=1, Predicted:1  ✓\n",
      "X:tensor([[5.7000, 2.8000, 4.5000, 1.3000]]), Target=1, Predicted:1  ✓\n",
      "X:tensor([[6.3000, 3.3000, 4.7000, 1.6000]]), Target=1, Predicted:1  ✓\n",
      "X:tensor([[4.9000, 2.4000, 3.3000, 1.0000]]), Target=1, Predicted:1  ✓\n",
      "X:tensor([[5.2000, 2.7000, 3.9000, 1.4000]]), Target=1, Predicted:1  ✓\n",
      "X:tensor([[6.2000, 2.2000, 4.5000, 1.5000]]), Target=1, Predicted:1  ✓\n",
      "X:tensor([[6.3000, 2.5000, 4.9000, 1.5000]]), Target=1, Predicted:1  ✓\n",
      "X:tensor([[5.8000, 2.7000, 3.9000, 1.2000]]), Target=1, Predicted:1  ✓\n",
      "X:tensor([[6.0000, 3.4000, 4.5000, 1.6000]]), Target=1, Predicted:1  ✓\n",
      "X:tensor([[6.7000, 3.1000, 4.7000, 1.5000]]), Target=1, Predicted:1  ✓\n",
      "X:tensor([[5.5000, 2.5000, 4.0000, 1.3000]]), Target=1, Predicted:1  ✓\n",
      "X:tensor([[5.8000, 2.6000, 4.0000, 1.2000]]), Target=1, Predicted:1  ✓\n",
      "X:tensor([[6.5000, 3.0000, 5.8000, 2.2000]]), Target=2, Predicted:1  x\n",
      "X:tensor([[7.6000, 3.0000, 6.6000, 2.1000]]), Target=2, Predicted:1  x\n",
      "X:tensor([[7.3000, 2.9000, 6.3000, 1.8000]]), Target=2, Predicted:1  x\n",
      "X:tensor([[6.7000, 2.5000, 5.8000, 1.8000]]), Target=2, Predicted:1  x\n",
      "X:tensor([[7.2000, 3.6000, 6.1000, 2.5000]]), Target=2, Predicted:1  x\n",
      "X:tensor([[6.4000, 2.7000, 5.3000, 1.9000]]), Target=2, Predicted:1  x\n",
      "X:tensor([[6.8000, 3.0000, 5.5000, 2.1000]]), Target=2, Predicted:1  x\n",
      "X:tensor([[6.5000, 3.0000, 5.5000, 1.8000]]), Target=2, Predicted:1  x\n",
      "X:tensor([[5.6000, 2.8000, 4.9000, 2.0000]]), Target=2, Predicted:1  x\n",
      "26.666666666666668\n"
     ]
    }
   ],
   "source": [
    "num_correct = 0 \n",
    "test_indexes = list(iris.test_idx)\n",
    "for i in test_indexes: \n",
    "    x = torch.from_numpy(iris.data[i,:].reshape(-1,4)).float() \n",
    "    y_actual = iris.targets[i] \n",
    "    y_pred = net(x) \n",
    "    max_idx = torch.argmax(y_pred) \n",
    "    mark = \"x\"\n",
    "    if max_idx.data == y_actual : \n",
    "        mark = u'\\u2713'\n",
    "        num_correct+=1\n",
    "    print(\"X:{}, Target={}, Predicted:{}  {}\".format( x, y_actual, max_idx, mark))\n",
    "    #print(repr(value))\n",
    "\n",
    "        \n",
    "total = len(test_indexes)\n",
    "percent = num_correct*100.0/total\n",
    "print(percent)"
   ]
  },
  {
   "cell_type": "code",
   "execution_count": null,
   "metadata": {},
   "outputs": [],
   "source": []
  }
 ],
 "metadata": {
  "kernelspec": {
   "display_name": "Python 3",
   "language": "python",
   "name": "python3"
  },
  "language_info": {
   "codemirror_mode": {
    "name": "ipython",
    "version": 3
   },
   "file_extension": ".py",
   "mimetype": "text/x-python",
   "name": "python",
   "nbconvert_exporter": "python",
   "pygments_lexer": "ipython3",
   "version": "3.7.4"
  }
 },
 "nbformat": 4,
 "nbformat_minor": 4
}
