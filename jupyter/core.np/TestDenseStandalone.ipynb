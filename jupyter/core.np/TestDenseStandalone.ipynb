{
 "cells": [
  {
   "cell_type": "code",
   "execution_count": 1,
   "metadata": {},
   "outputs": [],
   "source": [
    "import torch\n",
    "import torch.nn as nn\n",
    "import torch.nn.functional as F\n",
    "import numpy as np \n",
    "import torch.optim as optim \n",
    "import sys \n",
    "import os \n",
    "import matplotlib.pyplot as plt"
   ]
  },
  {
   "cell_type": "code",
   "execution_count": 2,
   "metadata": {},
   "outputs": [],
   "source": [
    "class Net(nn.Module):\n",
    "    def __init__(self):\n",
    "        super(Net, self).__init__()\n",
    "        self.dense =  nn.Linear(3,2)\n",
    "\n",
    "    def forward(self, x):\n",
    "        return self.dense(x) "
   ]
  },
  {
   "cell_type": "code",
   "execution_count": 3,
   "metadata": {},
   "outputs": [
    {
     "name": "stdout",
     "output_type": "stream",
     "text": [
      "Printing dense layer weights...\n",
      "tensor([[ 0.3501,  0.5441, -0.5003],\n",
      "        [-0.2972,  0.4666, -0.1532]])\n",
      "tensor([0.2086, 0.3761])\n",
      "finished printing dense layer weights\n",
      "------ \n",
      "model_w=np.array([[ 1,  3, -1],\n",
      "       [ 0, -4,  2]])\n",
      "------ \n",
      "x=np.array([[ 1,  2, -1],\n",
      "       [-1,  3, -2]])\n",
      "----->>\n",
      "b=np.array([-3,  2])\n",
      "---- expected final value (directly computed)----\n",
      "array([[  5,  -8],\n",
      "       [  7, -14]])\n",
      "tensor([-3.,  2.])\n"
     ]
    }
   ],
   "source": [
    "net = Net() \n",
    "print(\"Printing dense layer weights...\")\n",
    "print(net.dense.weight.data)\n",
    "print(net.dense.bias.data)\n",
    "print(\"finished printing dense layer weights\")\n",
    "model_w = np.array([[1, 3, -1], [0, -4, 2]])\n",
    "model_b = np.array([-3, 2])\n",
    "w_tensor = torch.from_numpy(model_w).float()\n",
    "b_tensor = torch.from_numpy(model_b).float() \n",
    "w = nn.Parameter(w_tensor)\n",
    "b = nn.Parameter(b_tensor)\n",
    "net.dense.weight  = w \n",
    "net.dense.bias = b\n",
    "x = np.array([[1, -1], [2, 3], [-1, -2]]).T\n",
    "print(\"------ \")\n",
    "print(\"model_w=np.{}\".format(repr(model_w)))\n",
    "print(\"------ \")\n",
    "print(\"x=np.{}\".format(repr(x)))\n",
    "print(\"----->>\")\n",
    "print(\"b=np.{}\".format(repr(model_b)))\n",
    "yy = x@model_w.T + model_b \n",
    "print(\"---- expected final value (directly computed)----\")\n",
    "print(repr(yy))\n",
    "print(net.dense.bias.data)"
   ]
  },
  {
   "cell_type": "code",
   "execution_count": 8,
   "metadata": {},
   "outputs": [
    {
     "name": "stdout",
     "output_type": "stream",
     "text": [
      "Input Shape:torch.Size([2, 3])\n",
      "Output:tensor([[  5.,  -8.],\n",
      "        [  7., -14.]])\n",
      "Printing target  >>>>\n",
      "tensor([[-1., -3.],\n",
      "        [ 1., -1.]])\n"
     ]
    }
   ],
   "source": [
    "input = torch.from_numpy(x).float() \n",
    "print(\"Input Shape:{}\".format(input.shape))\n",
    "output = net(input)\n",
    "print(\"Output:{}\".format(output.data))\n",
    "y = np.array([[-1, 1], [-3, -1]]).T\n",
    "target = torch.from_numpy(y).float()\n",
    "print(\"Printing target  >>>>\")\n",
    "print(target.data)"
   ]
  },
  {
   "cell_type": "code",
   "execution_count": 9,
   "metadata": {},
   "outputs": [
    {
     "name": "stdout",
     "output_type": "stream",
     "text": [
      "loss: 66.5\n"
     ]
    }
   ],
   "source": [
    "criteria = nn.MSELoss()\n",
    "loss = criteria(output, target)\n",
    "print(\"loss: {}\".format(loss))\n",
    "optimizer = torch.optim.SGD(net.parameters(), lr=.001)"
   ]
  },
  {
   "cell_type": "code",
   "execution_count": 10,
   "metadata": {},
   "outputs": [],
   "source": [
    "optimizer.zero_grad()\n",
    "# perform a backward pass (backpropagation)\n",
    "loss.backward()\n",
    "# Update the parameters\n",
    "optimizer.step()"
   ]
  },
  {
   "cell_type": "code",
   "execution_count": 16,
   "metadata": {},
   "outputs": [
    {
     "name": "stdout",
     "output_type": "stream",
     "text": [
      "Printing the wight and weight gradient after one step\n",
      "Weight:tensor([[ 1.0000,  2.9850, -0.9910],\n",
      "        [-0.0040, -3.9755,  1.9845]])\n",
      "W Grad:tensor([[  0.0000,  15.0000,  -9.0000],\n",
      "        [  4.0000, -24.5000,  15.5000]])\n",
      "\n",
      "Printing bias and bias gradient after one step\n",
      "Bias:tensor([-3.0060,  2.0090])\n",
      "B grad:tensor([ 6., -9.])\n"
     ]
    }
   ],
   "source": [
    "print(\"Printing the wight and weight gradient after one step\")\n",
    "print(\"Weight:{}\".format(net.dense.weight.data))\n",
    "print(\"W Grad:{}\".format(net.dense.weight.grad.data))\n",
    "print(\"\\nPrinting bias and bias gradient after one step\")\n",
    "print(\"Bias:{}\".format(net.dense.bias.data))\n",
    "print(\"B grad:{}\".format(net.dense.bias.grad.data))"
   ]
  },
  {
   "cell_type": "code",
   "execution_count": null,
   "metadata": {},
   "outputs": [],
   "source": [
    "print(grad_back)"
   ]
  },
  {
   "cell_type": "code",
   "execution_count": null,
   "metadata": {},
   "outputs": [],
   "source": [
    "print(\"Bias gradient:{}\".format(net.conv.bias.grad))\n",
    "print(\"Bias after update:{}\".format(net.conv.bias.data))"
   ]
  },
  {
   "cell_type": "code",
   "execution_count": null,
   "metadata": {},
   "outputs": [],
   "source": [
    "W=np.array([[ 1,  3, -1],\n",
    "       [ 0, -4,  2]])\n",
    "B=np.array([[-3],\n",
    "       [ 2]])\n",
    "X=np.array([[ 1, -1],\n",
    "       [ 2,  3],\n",
    "       [-1, -2]])"
   ]
  },
  {
   "cell_type": "code",
   "execution_count": null,
   "metadata": {},
   "outputs": [],
   "source": [
    "W@X+B"
   ]
  },
  {
   "cell_type": "code",
   "execution_count": null,
   "metadata": {},
   "outputs": [],
   "source": [
    "X.T@W.T + B.T"
   ]
  },
  {
   "cell_type": "code",
   "execution_count": null,
   "metadata": {},
   "outputs": [],
   "source": [
    "F.linear(input, w, b)"
   ]
  },
  {
   "cell_type": "code",
   "execution_count": null,
   "metadata": {},
   "outputs": [],
   "source": []
  }
 ],
 "metadata": {
  "kernelspec": {
   "display_name": "Python 3",
   "language": "python",
   "name": "python3"
  },
  "language_info": {
   "codemirror_mode": {
    "name": "ipython",
    "version": 3
   },
   "file_extension": ".py",
   "mimetype": "text/x-python",
   "name": "python",
   "nbconvert_exporter": "python",
   "pygments_lexer": "ipython3",
   "version": "3.7.4"
  }
 },
 "nbformat": 4,
 "nbformat_minor": 4
}
