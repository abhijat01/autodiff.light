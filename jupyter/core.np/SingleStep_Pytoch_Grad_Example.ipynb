{
 "cells": [
  {
   "cell_type": "markdown",
   "metadata": {},
   "source": [
    "## Pytorch gradient calculation example \n",
    "Keeping this code around as pytorch reference for a really simple piece of code \n",
    "to caculate gradients across a layer. Useful for comparing with autodiff.light code \n",
    "\n",
    "**Uses np by design - it is easier to copy correctly and run in numpy based code**"
   ]
  },
  {
   "cell_type": "code",
   "execution_count": 1,
   "metadata": {},
   "outputs": [],
   "source": [
    "import torch\n",
    "import torch.nn as nn\n",
    "import torch.autograd \n",
    "import numpy as np"
   ]
  },
  {
   "cell_type": "code",
   "execution_count": 3,
   "metadata": {},
   "outputs": [],
   "source": [
    "dense = nn.Linear(3,2)\n",
    "model_w = np.array([[1, 3, -1], [0, -4, 2]])\n",
    "model_b = np.array([-3, 2])\n",
    "w_tensor = torch.from_numpy(model_w).float()\n",
    "b_tensor = torch.from_numpy(model_b).float() \n",
    "w = nn.Parameter(w_tensor)\n",
    "b = nn.Parameter(b_tensor)\n",
    "dense.weight  = w \n",
    "dense.bias = b"
   ]
  },
  {
   "cell_type": "code",
   "execution_count": 4,
   "metadata": {},
   "outputs": [],
   "source": [
    "x = np.array([[1, -1], [2, 3.], [-1, -2.]]).T\n",
    "input = torch.tensor([[1, -1], [2, 3.], [-1, -2.]], requires_grad=True).T\n",
    "output = dense(input) \n",
    "output.backward(torch.ones_like(output))"
   ]
  },
  {
   "cell_type": "code",
   "execution_count": 6,
   "metadata": {},
   "outputs": [
    {
     "name": "stdout",
     "output_type": "stream",
     "text": [
      "---------------------------------\n",
      "-----  Input transpose ----------\n",
      "[[ 1. -1.]\n",
      " [ 2.  3.]\n",
      " [-1. -2.]]\n",
      "----------- Output --------------\n",
      "tensor([[  5.,  -8.],\n",
      "        [  7., -14.]], grad_fn=<AddmmBackward>)\n",
      "-------- Weight gradient --------\n",
      "tensor([[ 0.,  5., -3.],\n",
      "        [ 0.,  5., -3.]])\n",
      "-------- Bias gradient ----------\n",
      "tensor([2., 2.])\n"
     ]
    }
   ],
   "source": [
    "print(\"---------------------------------\")\n",
    "print(\"-----  Input transpose ----------\")\n",
    "print(x.T) \n",
    "print(\"----------- Output --------------\")\n",
    "print(output)\n",
    "print(\"-------- Weight gradient --------\")\n",
    "print(dense.weight.grad)\n",
    "print(\"-------- Bias gradient ----------\")\n",
    "print(dense.bias.grad)"
   ]
  },
  {
   "cell_type": "code",
   "execution_count": null,
   "metadata": {},
   "outputs": [],
   "source": []
  }
 ],
 "metadata": {
  "kernelspec": {
   "display_name": "Python 3",
   "language": "python",
   "name": "python3"
  },
  "language_info": {
   "codemirror_mode": {
    "name": "ipython",
    "version": 3
   },
   "file_extension": ".py",
   "mimetype": "text/x-python",
   "name": "python",
   "nbconvert_exporter": "python",
   "pygments_lexer": "ipython3",
   "version": "3.7.6"
  }
 },
 "nbformat": 4,
 "nbformat_minor": 4
}
