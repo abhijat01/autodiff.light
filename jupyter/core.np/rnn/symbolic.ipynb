{
 "cells": [
  {
   "cell_type": "code",
   "execution_count": 1,
   "metadata": {},
   "outputs": [],
   "source": [
    "from  sympy import * "
   ]
  },
  {
   "cell_type": "code",
   "execution_count": 17,
   "metadata": {},
   "outputs": [],
   "source": [
    "x=MatrixSymbol('x',3,1)\n",
    "h=MatrixSymbol('h',2,1)"
   ]
  },
  {
   "cell_type": "code",
   "execution_count": 18,
   "metadata": {},
   "outputs": [
    {
     "data": {
      "text/latex": [
       "$\\displaystyle \\left[\\begin{array}{c}x_{0, 0}\\\\x_{1, 0}\\\\x_{2, 0}\\end{array}\\right]$"
      ],
      "text/plain": [
       "Matrix([\n",
       "[x[0, 0]],\n",
       "[x[1, 0]],\n",
       "[x[2, 0]]])"
      ]
     },
     "execution_count": 18,
     "metadata": {},
     "output_type": "execute_result"
    }
   ],
   "source": [
    "x=Matrix(x)\n",
    "h=Matrix(h)\n",
    "x"
   ]
  },
  {
   "cell_type": "code",
   "execution_count": 19,
   "metadata": {},
   "outputs": [
    {
     "data": {
      "text/latex": [
       "$\\displaystyle \\left[\\begin{array}{c}h_{0, 0}\\\\h_{1, 0}\\end{array}\\right]$"
      ],
      "text/plain": [
       "Matrix([\n",
       "[h[0, 0]],\n",
       "[h[1, 0]]])"
      ]
     },
     "execution_count": 19,
     "metadata": {},
     "output_type": "execute_result"
    }
   ],
   "source": [
    "h"
   ]
  },
  {
   "cell_type": "code",
   "execution_count": 21,
   "metadata": {},
   "outputs": [
    {
     "data": {
      "text/latex": [
       "$\\displaystyle \\left[\\begin{array}{ccccc}w_{0, 0} & w_{0, 1} & w_{0, 2} & w_{0, 3} & w_{0, 4}\\\\w_{1, 0} & w_{1, 1} & w_{1, 2} & w_{1, 3} & w_{1, 4}\\\\w_{2, 0} & w_{2, 1} & w_{2, 2} & w_{2, 3} & w_{2, 4}\\end{array}\\right]$"
      ],
      "text/plain": [
       "Matrix([\n",
       "[w[0, 0], w[0, 1], w[0, 2], w[0, 3], w[0, 4]],\n",
       "[w[1, 0], w[1, 1], w[1, 2], w[1, 3], w[1, 4]],\n",
       "[w[2, 0], w[2, 1], w[2, 2], w[2, 3], w[2, 4]]])"
      ]
     },
     "execution_count": 21,
     "metadata": {},
     "output_type": "execute_result"
    }
   ],
   "source": [
    "w=MatrixSymbol('w', 3,5)\n",
    "w=Matrix(w) \n",
    "w"
   ]
  },
  {
   "cell_type": "code",
   "execution_count": 22,
   "metadata": {},
   "outputs": [
    {
     "data": {
      "text/latex": [
       "$\\displaystyle \\left[\\begin{array}{ccccc}u_{0, 0} & u_{0, 1} & u_{0, 2} & u_{0, 3} & u_{0, 4}\\\\u_{1, 0} & u_{1, 1} & u_{1, 2} & u_{1, 3} & u_{1, 4}\\end{array}\\right]$"
      ],
      "text/plain": [
       "Matrix([\n",
       "[u[0, 0], u[0, 1], u[0, 2], u[0, 3], u[0, 4]],\n",
       "[u[1, 0], u[1, 1], u[1, 2], u[1, 3], u[1, 4]]])"
      ]
     },
     "execution_count": 22,
     "metadata": {},
     "output_type": "execute_result"
    }
   ],
   "source": [
    "u = MatrixSymbol('u', 2,5)\n",
    "u = Matrix(u) \n",
    "u"
   ]
  },
  {
   "cell_type": "code",
   "execution_count": 26,
   "metadata": {},
   "outputs": [
    {
     "data": {
      "text/latex": [
       "$\\displaystyle \\left[\\begin{matrix}\\left[\\begin{matrix}x_{0, 0}\\\\x_{1, 0}\\\\x_{2, 0}\\end{matrix}\\right]\\\\\\left[\\begin{matrix}h_{0, 0}\\\\h_{1, 0}\\end{matrix}\\right]\\end{matrix}\\right]$"
      ],
      "text/plain": [
       "Matrix([\n",
       "[Matrix([\n",
       "[x[0, 0]],\n",
       "[x[1, 0]],\n",
       "[x[2, 0]]])],\n",
       "[           Matrix([\n",
       "[h[0, 0]],\n",
       "[h[1, 0]]])]])"
      ]
     },
     "execution_count": 26,
     "metadata": {},
     "output_type": "execute_result"
    }
   ],
   "source": [
    "xh = BlockMatrix([[x],[h]])\n",
    "xh"
   ]
  },
  {
   "cell_type": "code",
   "execution_count": 28,
   "metadata": {},
   "outputs": [
    {
     "data": {
      "text/latex": [
       "$\\displaystyle \\left[\\begin{array}{c}b_{0, 0}\\\\b_{1, 0}\\\\b_{2, 0}\\end{array}\\right]$"
      ],
      "text/plain": [
       "Matrix([\n",
       "[b[0, 0]],\n",
       "[b[1, 0]],\n",
       "[b[2, 0]]])"
      ]
     },
     "execution_count": 28,
     "metadata": {},
     "output_type": "execute_result"
    }
   ],
   "source": [
    "b = MatrixSymbol('b', 3,1)\n",
    "b = Matrix(b)\n",
    "b"
   ]
  },
  {
   "cell_type": "code",
   "execution_count": 31,
   "metadata": {},
   "outputs": [
    {
     "data": {
      "text/latex": [
       "$\\displaystyle \\left[\\begin{matrix}w_{0, 0} & w_{0, 1} & w_{0, 2} & w_{0, 3} & w_{0, 4}\\\\w_{1, 0} & w_{1, 1} & w_{1, 2} & w_{1, 3} & w_{1, 4}\\\\w_{2, 0} & w_{2, 1} & w_{2, 2} & w_{2, 3} & w_{2, 4}\\end{matrix}\\right] \\left[\\begin{matrix}\\left[\\begin{matrix}x_{0, 0}\\\\x_{1, 0}\\\\x_{2, 0}\\end{matrix}\\right]\\\\\\left[\\begin{matrix}h_{0, 0}\\\\h_{1, 0}\\end{matrix}\\right]\\end{matrix}\\right]$"
      ],
      "text/plain": [
       "Matrix([\n",
       "[w[0, 0], w[0, 1], w[0, 2], w[0, 3], w[0, 4]],\n",
       "[w[1, 0], w[1, 1], w[1, 2], w[1, 3], w[1, 4]],\n",
       "[w[2, 0], w[2, 1], w[2, 2], w[2, 3], w[2, 4]]])*Matrix([\n",
       "[Matrix([\n",
       "[x[0, 0]],\n",
       "[x[1, 0]],\n",
       "[x[2, 0]]])],\n",
       "[           Matrix([\n",
       "[h[0, 0]],\n",
       "[h[1, 0]]])]])"
      ]
     },
     "execution_count": 31,
     "metadata": {},
     "output_type": "execute_result"
    }
   ],
   "source": [
    "p1 = w*xh \n",
    "p1"
   ]
  },
  {
   "cell_type": "code",
   "execution_count": 32,
   "metadata": {},
   "outputs": [
    {
     "data": {
      "text/latex": [
       "$\\displaystyle \\left[\\begin{array}{c}c_{0, 0}\\\\c_{1, 0}\\\\c_{2, 0}\\\\c_{3, 0}\\\\c_{4, 0}\\end{array}\\right]$"
      ],
      "text/plain": [
       "Matrix([\n",
       "[c[0, 0]],\n",
       "[c[1, 0]],\n",
       "[c[2, 0]],\n",
       "[c[3, 0]],\n",
       "[c[4, 0]]])"
      ]
     },
     "execution_count": 32,
     "metadata": {},
     "output_type": "execute_result"
    }
   ],
   "source": [
    "xh = MatrixSymbol('c', 5,1)\n",
    "xh = Matrix(xh)\n",
    "xh"
   ]
  },
  {
   "cell_type": "code",
   "execution_count": 35,
   "metadata": {},
   "outputs": [
    {
     "data": {
      "text/latex": [
       "$\\displaystyle \\left[\\begin{array}{c}b_{0, 0} + c_{0, 0} w_{0, 0} + c_{1, 0} w_{0, 1} + c_{2, 0} w_{0, 2} + c_{3, 0} w_{0, 3} + c_{4, 0} w_{0, 4}\\\\b_{1, 0} + c_{0, 0} w_{1, 0} + c_{1, 0} w_{1, 1} + c_{2, 0} w_{1, 2} + c_{3, 0} w_{1, 3} + c_{4, 0} w_{1, 4}\\\\b_{2, 0} + c_{0, 0} w_{2, 0} + c_{1, 0} w_{2, 1} + c_{2, 0} w_{2, 2} + c_{3, 0} w_{2, 3} + c_{4, 0} w_{2, 4}\\end{array}\\right]$"
      ],
      "text/plain": [
       "Matrix([\n",
       "[b[0, 0] + c[0, 0]*w[0, 0] + c[1, 0]*w[0, 1] + c[2, 0]*w[0, 2] + c[3, 0]*w[0, 3] + c[4, 0]*w[0, 4]],\n",
       "[b[1, 0] + c[0, 0]*w[1, 0] + c[1, 0]*w[1, 1] + c[2, 0]*w[1, 2] + c[3, 0]*w[1, 3] + c[4, 0]*w[1, 4]],\n",
       "[b[2, 0] + c[0, 0]*w[2, 0] + c[1, 0]*w[2, 1] + c[2, 0]*w[2, 2] + c[3, 0]*w[2, 3] + c[4, 0]*w[2, 4]]])"
      ]
     },
     "execution_count": 35,
     "metadata": {},
     "output_type": "execute_result"
    }
   ],
   "source": [
    "xp=w@xh+b\n",
    "xp"
   ]
  },
  {
   "cell_type": "code",
   "execution_count": 36,
   "metadata": {},
   "outputs": [
    {
     "data": {
      "text/latex": [
       "$\\displaystyle \\left[\\begin{matrix}b_{0, 0} + c_{0, 0} w_{0, 0} + c_{1, 0} w_{0, 1} + c_{2, 0} w_{0, 2} + c_{3, 0} w_{0, 3} + c_{4, 0} w_{0, 4}\\\\b_{1, 0} + c_{0, 0} w_{1, 0} + c_{1, 0} w_{1, 1} + c_{2, 0} w_{1, 2} + c_{3, 0} w_{1, 3} + c_{4, 0} w_{1, 4}\\\\b_{2, 0} + c_{0, 0} w_{2, 0} + c_{1, 0} w_{2, 1} + c_{2, 0} w_{2, 2} + c_{3, 0} w_{2, 3} + c_{4, 0} w_{2, 4}\\end{matrix}\\right]$"
      ],
      "text/plain": [
       "Matrix([\n",
       "[b[0, 0] + c[0, 0]*w[0, 0] + c[1, 0]*w[0, 1] + c[2, 0]*w[0, 2] + c[3, 0]*w[0, 3] + c[4, 0]*w[0, 4]],\n",
       "[b[1, 0] + c[0, 0]*w[1, 0] + c[1, 0]*w[1, 1] + c[2, 0]*w[1, 2] + c[3, 0]*w[1, 3] + c[4, 0]*w[1, 4]],\n",
       "[b[2, 0] + c[0, 0]*w[2, 0] + c[1, 0]*w[2, 1] + c[2, 0]*w[2, 2] + c[3, 0]*w[2, 3] + c[4, 0]*w[2, 4]]])"
      ]
     },
     "execution_count": 36,
     "metadata": {},
     "output_type": "execute_result"
    }
   ],
   "source": [
    "xp[:,0:3]"
   ]
  },
  {
   "cell_type": "code",
   "execution_count": 3,
   "metadata": {},
   "outputs": [
    {
     "data": {
      "text/latex": [
       "$\\displaystyle \\left[\\begin{array}{c}a_{0, 0}\\\\a_{1, 0}\\\\a_{2, 0}\\\\a_{3, 0}\\end{array}\\right]$"
      ],
      "text/plain": [
       "Matrix([\n",
       "[a[0, 0]],\n",
       "[a[1, 0]],\n",
       "[a[2, 0]],\n",
       "[a[3, 0]]])"
      ]
     },
     "execution_count": 3,
     "metadata": {},
     "output_type": "execute_result"
    }
   ],
   "source": [
    "A=MatrixSymbol('a',4,1)\n",
    "A=Matrix(A)\n",
    "A"
   ]
  },
  {
   "cell_type": "code",
   "execution_count": 20,
   "metadata": {},
   "outputs": [
    {
     "data": {
      "text/latex": [
       "$\\displaystyle \\left[\\begin{matrix}a_{0, 0}\\\\a_{1, 0}\\\\a_{2, 0}\\\\a_{3, 0}\\end{matrix}\\right]$"
      ],
      "text/plain": [
       "Matrix([\n",
       "[a[0, 0]],\n",
       "[a[1, 0]],\n",
       "[a[2, 0]],\n",
       "[a[3, 0]]])"
      ]
     },
     "execution_count": 20,
     "metadata": {},
     "output_type": "execute_result"
    }
   ],
   "source": [
    "C=-A*A.T\n",
    "diag(A)"
   ]
  },
  {
   "cell_type": "code",
   "execution_count": 14,
   "metadata": {},
   "outputs": [
    {
     "data": {
      "text/latex": [
       "$\\displaystyle \\left[\\begin{matrix}1 & 0 & 0 & 0\\\\0 & 1 & 0 & 0\\\\0 & 0 & 1 & 0\\\\0 & 0 & 0 & 1\\end{matrix}\\right]$"
      ],
      "text/plain": [
       "Matrix([\n",
       "[1, 0, 0, 0],\n",
       "[0, 1, 0, 0],\n",
       "[0, 0, 1, 0],\n",
       "[0, 0, 0, 1]])"
      ]
     },
     "execution_count": 14,
     "metadata": {},
     "output_type": "execute_result"
    }
   ],
   "source": [
    "IM=Matrix([[1,0,0,0], [0,1,0,0],[0,0,1,0],[0,0,0,1]])\n",
    "IM.T"
   ]
  },
  {
   "cell_type": "code",
   "execution_count": 15,
   "metadata": {},
   "outputs": [
    {
     "data": {
      "text/latex": [
       "$\\displaystyle \\left[\\begin{array}{c}a_{0, 0}\\\\a_{1, 0}\\\\a_{2, 0}\\\\a_{3, 0}\\end{array}\\right]$"
      ],
      "text/plain": [
       "Matrix([\n",
       "[a[0, 0]],\n",
       "[a[1, 0]],\n",
       "[a[2, 0]],\n",
       "[a[3, 0]]])"
      ]
     },
     "execution_count": 15,
     "metadata": {},
     "output_type": "execute_result"
    }
   ],
   "source": [
    "(IM.T)*A"
   ]
  },
  {
   "cell_type": "code",
   "execution_count": 16,
   "metadata": {},
   "outputs": [
    {
     "name": "stderr",
     "output_type": "stream",
     "text": [
      "C:\\Anaconda3\\envs\\pytorch\\lib\\site-packages\\sympy\\deprecated\\class_registry.py:38: SymPyDeprecationWarning: \n",
      "\n",
      "C, including its class ClassRegistry, has been deprecated since SymPy\n",
      "1.0. It will be last supported in SymPy version 1.0. Use direct\n",
      "imports from the defining module instead. See\n",
      "https://github.com/sympy/sympy/issues/9371 for more info.\n",
      "\n",
      "  deprecated_since_version='1.0').warn(stacklevel=2)\n"
     ]
    },
    {
     "data": {
      "text/plain": [
       "<sympy.deprecated.class_registry.ClassRegistry at 0x8a181e0>"
      ]
     },
     "execution_count": 16,
     "metadata": {},
     "output_type": "execute_result"
    }
   ],
   "source": []
  },
  {
   "cell_type": "code",
   "execution_count": null,
   "metadata": {},
   "outputs": [],
   "source": []
  }
 ],
 "metadata": {
  "kernelspec": {
   "display_name": "Python 3",
   "language": "python",
   "name": "python3"
  },
  "language_info": {
   "codemirror_mode": {
    "name": "ipython",
    "version": 3
   },
   "file_extension": ".py",
   "mimetype": "text/x-python",
   "name": "python",
   "nbconvert_exporter": "python",
   "pygments_lexer": "ipython3",
   "version": "3.7.4"
  }
 },
 "nbformat": 4,
 "nbformat_minor": 4
}
