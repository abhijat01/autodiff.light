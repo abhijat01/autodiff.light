{
 "cells": [
  {
   "cell_type": "markdown",
   "metadata": {},
   "source": [
    "# TestFullNetwork.FullNetworkWithSigmoid\n",
    "## test_transform1"
   ]
  },
  {
   "cell_type": "code",
   "execution_count": 1,
   "metadata": {},
   "outputs": [],
   "source": [
    "import torch\n",
    "import torch.nn as nn\n",
    "import torch.nn.functional as F\n",
    "import numpy as np \n",
    "import torch.optim as optim \n",
    "import sys \n",
    "import os \n",
    "import matplotlib.pyplot as plt"
   ]
  },
  {
   "cell_type": "code",
   "execution_count": 2,
   "metadata": {},
   "outputs": [],
   "source": [
    "project_basedir=os.path.join('..','..')\n",
    "project_basedir = os.path.abspath(project_basedir)\n",
    "sys.path.insert(0,project_basedir)\n",
    "import tests.core.np.TestModels as models"
   ]
  },
  {
   "cell_type": "code",
   "execution_count": 3,
   "metadata": {},
   "outputs": [],
   "source": [
    "class Net(nn.Module):\n",
    "\n",
    "    def __init__(self):\n",
    "        super(Net, self).__init__()\n",
    "        # an affine operation: y = Wx + b\n",
    "        self.fc1 = nn.Linear(2,2) \n",
    "        self.fc2 = nn.Linear(2,2)\n",
    "\n",
    "    def forward(self, x):\n",
    "        x = F.sigmoid(self.fc1(x))\n",
    "        x = self.fc2(x) \n",
    "        return x"
   ]
  },
  {
   "cell_type": "markdown",
   "metadata": {},
   "source": [
    "Setting wieghts from the pyunit test code "
   ]
  },
  {
   "cell_type": "code",
   "execution_count": 4,
   "metadata": {},
   "outputs": [],
   "source": [
    "w = np.array([[1, 3], [0, 1]])\n",
    "b = np.array([[-2, -3]]).T\n",
    "y_act = np.array([[.5, .7]]).T\n",
    "w2 = np.array([[.1, .2], [.3, .07]])\n",
    "b2 = np.array([[.02, .3]]).T"
   ]
  },
  {
   "cell_type": "code",
   "execution_count": 5,
   "metadata": {},
   "outputs": [
    {
     "name": "stdout",
     "output_type": "stream",
     "text": [
      "tensor([[ 1., -1.]])\n"
     ]
    }
   ],
   "source": [
    "input = torch.FloatTensor([[1, -1]])\n",
    "print(input)\n",
    "net = Net() \n",
    "net.fc1.weight = nn.Parameter( torch.FloatTensor([[1, 3], [0, 1]]))\n",
    "net.fc1.bias   = nn.Parameter(torch.FloatTensor([[-2, -3]]))\n",
    "net.fc2.weight = nn.Parameter(torch.FloatTensor([[.1, .2], [.3, .07]]))\n",
    "net.fc2.bias   = nn.Parameter(torch.FloatTensor([[.02, .3]]))"
   ]
  },
  {
   "cell_type": "code",
   "execution_count": 6,
   "metadata": {},
   "outputs": [
    {
     "name": "stdout",
     "output_type": "stream",
     "text": [
      "tensor([[0.0254, 0.3067]], grad_fn=<AddmmBackward>)\n"
     ]
    },
    {
     "name": "stderr",
     "output_type": "stream",
     "text": [
      "C:\\Anaconda3\\envs\\pytorch\\lib\\site-packages\\torch\\nn\\functional.py:1351: UserWarning: nn.functional.sigmoid is deprecated. Use torch.sigmoid instead.\n",
      "  warnings.warn(\"nn.functional.sigmoid is deprecated. Use torch.sigmoid instead.\")\n"
     ]
    }
   ],
   "source": [
    "output = net(input)\n",
    "print(output)"
   ]
  },
  {
   "cell_type": "code",
   "execution_count": 7,
   "metadata": {},
   "outputs": [],
   "source": [
    "target = torch.FloatTensor([[.5, .7]])\n",
    "target = target.view(1, -1)\n",
    "criteria = nn.MSELoss()\n",
    "loss = criteria(output, target)\n",
    "optimizer = torch.optim.SGD(net.parameters(), lr=.001)"
   ]
  },
  {
   "cell_type": "code",
   "execution_count": 8,
   "metadata": {},
   "outputs": [],
   "source": [
    "model = models.Transform1()"
   ]
  },
  {
   "cell_type": "code",
   "execution_count": 9,
   "metadata": {},
   "outputs": [
    {
     "name": "stderr",
     "output_type": "stream",
     "text": [
      "C:\\Anaconda3\\envs\\pytorch\\lib\\site-packages\\torch\\nn\\functional.py:1351: UserWarning: nn.functional.sigmoid is deprecated. Use torch.sigmoid instead.\n",
      "  warnings.warn(\"nn.functional.sigmoid is deprecated. Use torch.sigmoid instead.\")\n"
     ]
    },
    {
     "name": "stdout",
     "output_type": "stream",
     "text": [
      "epoch:  500  loss:  0.9270384907722473\n",
      "epoch:  1000  loss:  0.32296431064605713\n",
      "epoch:  1500  loss:  0.16144955158233643\n",
      "epoch:  2000  loss:  0.45164430141448975\n",
      "epoch:  2500  loss:  0.4925996661186218\n",
      "epoch:  3000  loss:  0.21543672680854797\n",
      "epoch:  3500  loss:  0.23326066136360168\n",
      "epoch:  4000  loss:  0.06841116398572922\n",
      "epoch:  4500  loss:  0.07545400410890579\n",
      "epoch:  5000  loss:  0.19448907673358917\n",
      "epoch:  5500  loss:  0.13613452017307281\n",
      "epoch:  6000  loss:  0.0004751661908812821\n",
      "epoch:  6500  loss:  0.08019828796386719\n",
      "epoch:  7000  loss:  0.6934555172920227\n",
      "epoch:  7500  loss:  0.6875044703483582\n",
      "epoch:  8000  loss:  0.30673056840896606\n",
      "epoch:  8500  loss:  0.06791895627975464\n",
      "epoch:  9000  loss:  0.0750700905919075\n",
      "epoch:  9500  loss:  0.03832416981458664\n",
      "epoch:  10000  loss:  0.014643879607319832\n",
      "epoch:  10500  loss:  0.7028822898864746\n",
      "epoch:  11000  loss:  0.40688878297805786\n",
      "epoch:  11500  loss:  0.0067593250423669815\n",
      "epoch:  12000  loss:  0.0028567109256982803\n",
      "epoch:  12500  loss:  0.2799508571624756\n",
      "epoch:  13000  loss:  0.4294552206993103\n",
      "epoch:  13500  loss:  0.02873264253139496\n",
      "epoch:  14000  loss:  0.3577892780303955\n",
      "epoch:  14500  loss:  0.44530221819877625\n",
      "epoch:  15000  loss:  0.28349003195762634\n",
      "Final loss:0.28349003195762634\n",
      "epoch:  15000  loss:  0.28349003195762634\n"
     ]
    }
   ],
   "source": [
    "epoch = 0 \n",
    "losses = [] \n",
    "av = [] \n",
    "x_axis=[] \n",
    "for x,y in model.data(15000):\n",
    "    x_axis.append(epoch)\n",
    "    epoch+=1\n",
    "    # Forward Propagation\n",
    "    pyx = torch.from_numpy(x.T).float() \n",
    "    pyy = torch.from_numpy(y.T).float()\n",
    "    y_pred = net(pyx)\n",
    "    # Compute and print loss\n",
    "    loss = criteria(y_pred, pyy)\n",
    "    losses.append(loss.item()) \n",
    "    if epoch %500 ==0 :\n",
    "        last_100 = losses[-100:]\n",
    "        average_l100 = sum(last_100) / len(last_100)\n",
    "        av.append([epoch, average_l100])\n",
    "        print('epoch: ', epoch,' loss: ', loss.item())\n",
    "    # Zero the gradients\n",
    "    optimizer.zero_grad()\n",
    "    \n",
    "    # perform a backward pass (backpropagation)\n",
    "    loss.backward()\n",
    "    \n",
    "    # Update the parameters\n",
    "    optimizer.step()\n",
    "print(\"Final loss:{}\".format(loss))\n",
    "    \n",
    "print('epoch: ', epoch,' loss: ', loss.item())"
   ]
  },
  {
   "cell_type": "code",
   "execution_count": 10,
   "metadata": {},
   "outputs": [
    {
     "data": {
      "image/png": "[encoded data removed]",
      "text/plain": [
       "<Figure size 432x288 with 1 Axes>"
      ]
     },
     "metadata": {
      "needs_background": "light"
     },
     "output_type": "display_data"
    }
   ],
   "source": [
    "plt.scatter(x_axis, losses)\n",
    "av_np = np.array(av)\n",
    "plt.plot(av_np[:,0], av_np[:,1], 'r')\n",
    "plt.show()"
   ]
  },
  {
   "cell_type": "code",
   "execution_count": 11,
   "metadata": {},
   "outputs": [
    {
     "name": "stdout",
     "output_type": "stream",
     "text": [
      "tensor([[1.1293, 2.9703],\n",
      "        [0.0053, 0.9880]])\n",
      "------------\n",
      "tensor([[-2.0695, -3.0058]])\n"
     ]
    }
   ],
   "source": [
    "print(net.fc1.weight.data)\n",
    "print(\"------------\")\n",
    "print(net.fc1.bias.data)\n"
   ]
  },
  {
   "cell_type": "code",
   "execution_count": 12,
   "metadata": {},
   "outputs": [
    {
     "name": "stdout",
     "output_type": "stream",
     "text": [
      "tensor([[-0.1740,  0.1745],\n",
      "        [ 0.4355,  0.0159]])\n",
      "------------\n",
      "tensor([[ 0.0455, -0.0999]])\n"
     ]
    }
   ],
   "source": [
    "print(net.fc2.weight.data)\n",
    "print(\"------------\")\n",
    "print(net.fc2.bias.data)"
   ]
  },
  {
   "cell_type": "code",
   "execution_count": null,
   "metadata": {},
   "outputs": [],
   "source": []
  }
 ],
 "metadata": {
  "kernelspec": {
   "display_name": "Python 3",
   "language": "python",
   "name": "python3"
  },
  "language_info": {
   "codemirror_mode": {
    "name": "ipython",
    "version": 3
   },
   "file_extension": ".py",
   "mimetype": "text/x-python",
   "name": "python",
   "nbconvert_exporter": "python",
   "pygments_lexer": "ipython3",
   "version": "3.7.6"
  }
 },
 "nbformat": 4,
 "nbformat_minor": 4
}
