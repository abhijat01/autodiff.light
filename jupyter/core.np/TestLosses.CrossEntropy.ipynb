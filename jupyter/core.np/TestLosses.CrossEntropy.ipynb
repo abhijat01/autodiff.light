{
 "cells": [
  {
   "cell_type": "code",
   "execution_count": 1,
   "metadata": {},
   "outputs": [],
   "source": [
    "import torch\n",
    "import torch.nn as nn\n",
    "import numpy as np "
   ]
  },
  {
   "cell_type": "code",
   "execution_count": 24,
   "metadata": {},
   "outputs": [
    {
     "name": "stdout",
     "output_type": "stream",
     "text": [
      "tensor([1, 3])\n",
      "Cross entropy loss:6.18811559677124\n",
      "tensor([[ 1.,  3., -1.,  0.],\n",
      "        [ 0.,  9.,  1.,  3.]], requires_grad=True)\n"
     ]
    }
   ],
   "source": [
    "cross_entropy = nn.CrossEntropyLoss(reduction='sum')\n",
    "predicted =  torch.tensor([[1, 3, -1, 0], [0, 9, 1, 3.]], requires_grad=True )\n",
    "#predicted =  torch.tensor([[1, 3, -1., 0]], requires_grad=True )\n",
    "target = torch.tensor([1,3])\n",
    "#target = torch.tensor([1])\n",
    "print(target)\n",
    "output = cross_entropy(predicted, target)\n",
    "print(\"Cross entropy loss:{}\".format(output))\n",
    "print(predicted)"
   ]
  },
  {
   "cell_type": "code",
   "execution_count": 21,
   "metadata": {},
   "outputs": [],
   "source": [
    "output.backward()"
   ]
  },
  {
   "cell_type": "code",
   "execution_count": 22,
   "metadata": {},
   "outputs": [
    {
     "data": {
      "text/plain": [
       "tensor([[ 1.1246e-01, -1.6905e-01,  1.5219e-02,  4.1371e-02],\n",
       "        [ 1.2305e-04,  9.9707e-01,  3.3448e-04, -9.9753e-01]])"
      ]
     },
     "execution_count": 22,
     "metadata": {},
     "output_type": "execute_result"
    }
   ],
   "source": [
    "predicted.grad"
   ]
  },
  {
   "cell_type": "code",
   "execution_count": null,
   "metadata": {},
   "outputs": [],
   "source": [
    "predicted = np.array([1, 3, -1, 0]).reshape(-1,1)\n",
    "def softmax(predicted):\n",
    "    numerator = np.exp(predicted)\n",
    "    denominator=np.sum(numerator)\n",
    "    return numerator/denominator "
   ]
  },
  {
   "cell_type": "code",
   "execution_count": null,
   "metadata": {},
   "outputs": [],
   "source": [
    "soft=softmax(predicted)\n",
    "soft"
   ]
  },
  {
   "cell_type": "code",
   "execution_count": null,
   "metadata": {},
   "outputs": [],
   "source": [
    "target = np.array([0,0,1,0]).reshape(-1,1)\n",
    "def x_entropy(soft_probs, target):\n",
    "    logs = np.log(soft_probs)\n",
    "    return logs - target\n",
    "x_ent = x_entropy(soft, target)"
   ]
  },
  {
   "cell_type": "code",
   "execution_count": null,
   "metadata": {},
   "outputs": [],
   "source": [
    "x_ent "
   ]
  },
  {
   "cell_type": "code",
   "execution_count": null,
   "metadata": {},
   "outputs": [],
   "source": [
    "probs=np.array([.2,.3,.5]).reshape(3,1)\n",
    "target=np.array([0,1,0]).reshape(3,1)\n",
    "x_ent = x_entropy(probs, target)\n",
    "x_ent "
   ]
  },
  {
   "cell_type": "code",
   "execution_count": 11,
   "metadata": {},
   "outputs": [
    {
     "name": "stdout",
     "output_type": "stream",
     "text": [
      "[ 0.1125 -0.169   0.0152  0.0414]\n",
      "[ 0.02287807 -0.69561738  0.12011585  0.09396459]\n"
     ]
    }
   ],
   "source": [
    "a=np.array([[ 0.1125, -0.1690,  0.0152,  0.0414]]).reshape(-1)\n",
    "b=np.array([[ 0.02287807],\n",
    "       [-0.69561738],\n",
    "       [ 0.12011585],\n",
    "       [ 0.09396459]]).reshape(-1)\n",
    "print(a)\n",
    "print(b)"
   ]
  },
  {
   "cell_type": "code",
   "execution_count": 12,
   "metadata": {},
   "outputs": [
    {
     "data": {
      "text/plain": [
       "array([4.91737284, 0.24294965, 0.1265445 , 0.4405915 ])"
      ]
     },
     "execution_count": 12,
     "metadata": {},
     "output_type": "execute_result"
    }
   ],
   "source": [
    "a/b"
   ]
  },
  {
   "cell_type": "code",
   "execution_count": 17,
   "metadata": {},
   "outputs": [
    {
     "data": {
      "text/plain": [
       "array([[ 0.1125    , -0.169     ,  0.0152    ,  0.0414    ],\n",
       "       [ 0.02287807, -0.69561738,  0.12011585,  0.09396459]])"
      ]
     },
     "execution_count": 17,
     "metadata": {},
     "output_type": "execute_result"
    }
   ],
   "source": [
    "c=np.array([a,b])\n",
    "c"
   ]
  },
  {
   "cell_type": "code",
   "execution_count": 18,
   "metadata": {},
   "outputs": [
    {
     "data": {
      "text/plain": [
       "array([ 0.1125    , -0.169     ,  0.12011585,  0.09396459])"
      ]
     },
     "execution_count": 18,
     "metadata": {},
     "output_type": "execute_result"
    }
   ],
   "source": [
    "np.max(c, axis=0)"
   ]
  },
  {
   "cell_type": "code",
   "execution_count": 19,
   "metadata": {},
   "outputs": [
    {
     "data": {
      "text/plain": [
       "array([[ 0.        ,  0.        , -0.10491585, -0.05256459],\n",
       "       [-0.08962193, -0.52661738,  0.        ,  0.        ]])"
      ]
     },
     "execution_count": 19,
     "metadata": {},
     "output_type": "execute_result"
    }
   ],
   "source": [
    "c-np.max(c, axis=0)"
   ]
  },
  {
   "cell_type": "code",
   "execution_count": 23,
   "metadata": {},
   "outputs": [
    {
     "data": {
      "text/plain": [
       "array([[ 1.,  3.],\n",
       "       [-1.,  0.],\n",
       "       [ 0.,  9.],\n",
       "       [ 1.,  3.]])"
      ]
     },
     "execution_count": 23,
     "metadata": {},
     "output_type": "execute_result"
    }
   ],
   "source": [
    "predicted = np.array([[1, 3, -1, 0], [0, 9, 1, 3.]]).reshape(-1,2)\n",
    "predicted"
   ]
  },
  {
   "cell_type": "code",
   "execution_count": null,
   "metadata": {},
   "outputs": [],
   "source": []
  }
 ],
 "metadata": {
  "kernelspec": {
   "display_name": "Python 3",
   "language": "python",
   "name": "python3"
  },
  "language_info": {
   "codemirror_mode": {
    "name": "ipython",
    "version": 3
   },
   "file_extension": ".py",
   "mimetype": "text/x-python",
   "name": "python",
   "nbconvert_exporter": "python",
   "pygments_lexer": "ipython3",
   "version": "3.7.6"
  }
 },
 "nbformat": 4,
 "nbformat_minor": 4
}
