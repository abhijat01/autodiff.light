{
 "cells": [
  {
   "cell_type": "markdown",
   "metadata": {},
   "source": [
    "# test_full_sgmoid_node"
   ]
  },
  {
   "cell_type": "code",
   "execution_count": 1,
   "metadata": {},
   "outputs": [],
   "source": [
    "import torch\n",
    "import torch.nn as nn\n",
    "import torch.nn.functional as F\n",
    "import numpy as np \n",
    "import torch.optim as optim "
   ]
  },
  {
   "cell_type": "code",
   "execution_count": 13,
   "metadata": {},
   "outputs": [],
   "source": [
    "class Net(nn.Module):\n",
    "\n",
    "    def __init__(self):\n",
    "        super(Net, self).__init__()\n",
    "        # an affine operation: y = Wx + b\n",
    "        self.fc1 = nn.Linear(3,2)  \n",
    "\n",
    "    def forward(self, x):\n",
    "        # Max pooling over a (2, 2) window\n",
    "        x = F.sigmoid(self.fc1(x))\n",
    "        return x"
   ]
  },
  {
   "cell_type": "markdown",
   "metadata": {},
   "source": [
    "Setting wieghts from the pyunit test code "
   ]
  },
  {
   "cell_type": "code",
   "execution_count": 14,
   "metadata": {},
   "outputs": [],
   "source": [
    "w = np.array([[1, 3, 0], [0, 1, -1]])\n",
    "x = (np.array([[1, -1, 2]])).T\n",
    "b = np.array([[-2, -3]]).T\n",
    "y_act = np.array([[.5, .7]]).T"
   ]
  },
  {
   "cell_type": "code",
   "execution_count": 15,
   "metadata": {},
   "outputs": [
    {
     "name": "stdout",
     "output_type": "stream",
     "text": [
      "tensor([[ 1., -1.,  2.]])\n"
     ]
    }
   ],
   "source": [
    "input = torch.FloatTensor([[1, -1, 2]])\n",
    "print(input)\n",
    "net = Net() \n",
    "net.fc1.weight = nn.Parameter( torch.FloatTensor([[1, 3, 0], [0, 1, -1]]))\n",
    "net.fc1.bias   = nn.Parameter(torch.FloatTensor([[-2, -3]]))"
   ]
  },
  {
   "cell_type": "code",
   "execution_count": 16,
   "metadata": {},
   "outputs": [
    {
     "name": "stdout",
     "output_type": "stream",
     "text": [
      "tensor([[0.0180, 0.0025]], grad_fn=<SigmoidBackward>)\n"
     ]
    }
   ],
   "source": [
    "output = net(input)\n",
    "print(output)"
   ]
  },
  {
   "cell_type": "code",
   "execution_count": 17,
   "metadata": {},
   "outputs": [],
   "source": [
    "target = torch.FloatTensor([[.5, .7]])\n",
    "target = target.view(1, -1)\n",
    "criteria = nn.MSELoss()\n",
    "loss = criteria(output, target)\n",
    "optimizer = torch.optim.SGD(net.parameters(), lr=1)"
   ]
  },
  {
   "cell_type": "code",
   "execution_count": 18,
   "metadata": {},
   "outputs": [
    {
     "name": "stdout",
     "output_type": "stream",
     "text": [
      "epoch:  0  loss:  0.3594408631324768\n",
      "epoch:  10  loss:  0.3490174412727356\n",
      "epoch:  20  loss:  0.2693570554256439\n",
      "epoch:  30  loss:  0.24231596291065216\n",
      "epoch:  40  loss:  0.24171258509159088\n",
      "epoch:  46  loss:  0.24120347201824188\n",
      "epoch:  47  loss:  0.2411031872034073\n",
      "epoch:  48  loss:  0.2409975230693817\n",
      "epoch:  49  loss:  0.24088606238365173\n",
      "epoch:  50  loss:  0.24076837301254272\n",
      "epoch:  51  loss:  0.24064379930496216\n",
      "epoch:  52  loss:  0.24051186442375183\n",
      "epoch:  53  loss:  0.24037183821201324\n",
      "epoch:  54  loss:  0.2402229905128479\n",
      "epoch:  55  loss:  0.24006445705890656\n",
      "epoch:  56  loss:  0.23989523947238922\n",
      "epoch:  57  loss:  0.23971426486968994\n",
      "epoch:  58  loss:  0.2395203411579132\n",
      "epoch:  59  loss:  0.23931196331977844\n",
      "epoch:  60  loss:  0.2390875369310379\n",
      "epoch:  61  loss:  0.23884515464305878\n",
      "epoch:  62  loss:  0.2385825663805008\n",
      "epoch:  63  loss:  0.23829728364944458\n",
      "epoch:  64  loss:  0.23798620700836182\n",
      "epoch:  65  loss:  0.23764580488204956\n",
      "epoch:  66  loss:  0.2372717708349228\n",
      "epoch:  67  loss:  0.2368590533733368\n",
      "epoch:  68  loss:  0.23640139400959015\n",
      "epoch:  69  loss:  0.23589134216308594\n",
      "epoch:  70  loss:  0.235319584608078\n",
      "epoch:  71  loss:  0.23467452824115753\n",
      "epoch:  72  loss:  0.23394162952899933\n",
      "epoch:  73  loss:  0.23310230672359467\n",
      "epoch:  74  loss:  0.23213255405426025\n",
      "epoch:  75  loss:  0.23100079596042633\n",
      "epoch:  76  loss:  0.22966472804546356\n",
      "epoch:  77  loss:  0.22806669771671295\n",
      "epoch:  78  loss:  0.22612620890140533\n",
      "epoch:  79  loss:  0.22372804582118988\n",
      "epoch:  80  loss:  0.22070245444774628\n",
      "epoch:  81  loss:  0.21679146587848663\n",
      "epoch:  82  loss:  0.21158850193023682\n",
      "epoch:  83  loss:  0.20442868769168854\n",
      "epoch:  84  loss:  0.19418562948703766\n",
      "epoch:  85  loss:  0.1789139360189438\n",
      "epoch:  86  loss:  0.1553790420293808\n",
      "epoch:  87  loss:  0.11943614482879639\n",
      "epoch:  88  loss:  0.07166662067174911\n",
      "epoch:  89  loss:  0.029336661100387573\n",
      "epoch:  90  loss:  0.009444634430110455\n",
      "epoch:  91  loss:  0.0032232531812042\n",
      "epoch:  92  loss:  0.0012303907424211502\n",
      "epoch:  93  loss:  0.0005079341935925186\n",
      "epoch:  94  loss:  0.0002204167249146849\n",
      "epoch:  95  loss:  9.876416152110323e-05\n",
      "epoch:  96  loss:  4.519096182775684e-05\n",
      "epoch:  97  loss:  2.0967647287761793e-05\n",
      "epoch:  98  loss:  9.819827027968131e-06\n",
      "epoch:  99  loss:  4.6282798393804114e-06\n",
      "epoch:  99  loss:  4.6282798393804114e-06\n"
     ]
    }
   ],
   "source": [
    "for epoch in range(100):\n",
    "    # Forward Propagation\n",
    "    y_pred = net(input)\n",
    "    # Compute and print loss\n",
    "    loss = criteria(y_pred, target)\n",
    "    if epoch %10 ==0 or epoch > 45:\n",
    "        print('epoch: ', epoch,' loss: ', loss.item())\n",
    "    # Zero the gradients\n",
    "    optimizer.zero_grad()\n",
    "    \n",
    "    # perform a backward pass (backpropagation)\n",
    "    loss.backward()\n",
    "    \n",
    "    # Update the parameters\n",
    "    optimizer.step()\n",
    "    \n",
    "print('epoch: ', epoch,' loss: ', loss.item())"
   ]
  },
  {
   "cell_type": "code",
   "execution_count": 19,
   "metadata": {},
   "outputs": [
    {
     "name": "stdout",
     "output_type": "stream",
     "text": [
      "tensor([[1.5714, 2.4286, 1.1429],\n",
      "        [0.9768, 0.0232, 0.9535]])\n"
     ]
    }
   ],
   "source": [
    "print(net.fc1.weight.data)"
   ]
  },
  {
   "cell_type": "code",
   "execution_count": 20,
   "metadata": {},
   "outputs": [
    {
     "name": "stdout",
     "output_type": "stream",
     "text": [
      "tensor([[-1.4286, -2.0232]])\n"
     ]
    }
   ],
   "source": [
    "print(net.fc1.bias.data)"
   ]
  },
  {
   "cell_type": "code",
   "execution_count": null,
   "metadata": {},
   "outputs": [],
   "source": []
  }
 ],
 "metadata": {
  "kernelspec": {
   "display_name": "Python 3",
   "language": "python",
   "name": "python3"
  },
  "language_info": {
   "codemirror_mode": {
    "name": "ipython",
    "version": 3
   },
   "file_extension": ".py",
   "mimetype": "text/x-python",
   "name": "python",
   "nbconvert_exporter": "python",
   "pygments_lexer": "ipython3",
   "version": "3.7.4"
  }
 },
 "nbformat": 4,
 "nbformat_minor": 4
}
