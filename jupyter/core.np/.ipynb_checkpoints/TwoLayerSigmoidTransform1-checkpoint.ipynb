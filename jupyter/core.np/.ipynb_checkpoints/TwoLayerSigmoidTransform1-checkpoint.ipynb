{
 "cells": [
  {
   "cell_type": "markdown",
   "metadata": {},
   "source": [
    "# test_full_sgmoid_node"
   ]
  },
  {
   "cell_type": "code",
   "execution_count": 1,
   "metadata": {},
   "outputs": [],
   "source": [
    "import torch\n",
    "import torch.nn as nn\n",
    "import torch.nn.functional as F\n",
    "import numpy as np \n",
    "import torch.optim as optim \n",
    "import sys \n",
    "import os \n",
    "import matplotlib.pyplot as plt"
   ]
  },
  {
   "cell_type": "code",
   "execution_count": 2,
   "metadata": {},
   "outputs": [],
   "source": [
    "project_basedir=os.path.join('..','..')\n",
    "project_basedir = os.path.abspath(project_basedir)\n",
    "sys.path.insert(0,project_basedir)\n",
    "import tests.core.np.TestModels as models"
   ]
  },
  {
   "cell_type": "code",
   "execution_count": 3,
   "metadata": {},
   "outputs": [],
   "source": [
    "class Net(nn.Module):\n",
    "\n",
    "    def __init__(self):\n",
    "        super(Net, self).__init__()\n",
    "        # an affine operation: y = Wx + b\n",
    "        self.fc1 = nn.Linear(2,2) \n",
    "        self.fc2 = nn.Linear(2,2)\n",
    "\n",
    "    def forward(self, x):\n",
    "        x = F.sigmoid(self.fc1(x))\n",
    "        x = self.fc2(x) \n",
    "        return x"
   ]
  },
  {
   "cell_type": "markdown",
   "metadata": {},
   "source": [
    "Setting wieghts from the pyunit test code "
   ]
  },
  {
   "cell_type": "code",
   "execution_count": 4,
   "metadata": {},
   "outputs": [],
   "source": [
    "w = np.array([[1, 3], [0, 1]])\n",
    "b = np.array([[-2, -3]]).T\n",
    "y_act = np.array([[.5, .7]]).T\n",
    "w2 = np.array([[.1, .2], [.3, .07]])\n",
    "b2 = np.array([[.02, .3]]).T"
   ]
  },
  {
   "cell_type": "code",
   "execution_count": 5,
   "metadata": {},
   "outputs": [
    {
     "name": "stdout",
     "output_type": "stream",
     "text": [
      "tensor([[ 1., -1.]])\n"
     ]
    }
   ],
   "source": [
    "input = torch.FloatTensor([[1, -1]])\n",
    "print(input)\n",
    "net = Net() \n",
    "net.fc1.weight = nn.Parameter( torch.FloatTensor([[1, 3], [0, 1]]))\n",
    "net.fc1.bias   = nn.Parameter(torch.FloatTensor([[-2, -3]]))\n",
    "net.fc2.weight = nn.Parameter(torch.FloatTensor([[.1, .2], [.3, .07]]))\n",
    "net.fc2.bias   = nn.Parameter(torch.FloatTensor([[.02, .3]]))"
   ]
  },
  {
   "cell_type": "code",
   "execution_count": 6,
   "metadata": {},
   "outputs": [
    {
     "name": "stdout",
     "output_type": "stream",
     "text": [
      "tensor([[0.0254, 0.3067]], grad_fn=<AddmmBackward>)\n"
     ]
    },
    {
     "name": "stderr",
     "output_type": "stream",
     "text": [
      "C:\\Anaconda3\\envs\\pytorch\\lib\\site-packages\\torch\\nn\\functional.py:1351: UserWarning: nn.functional.sigmoid is deprecated. Use torch.sigmoid instead.\n",
      "  warnings.warn(\"nn.functional.sigmoid is deprecated. Use torch.sigmoid instead.\")\n"
     ]
    }
   ],
   "source": [
    "output = net(input)\n",
    "print(output)"
   ]
  },
  {
   "cell_type": "code",
   "execution_count": 7,
   "metadata": {},
   "outputs": [],
   "source": [
    "target = torch.FloatTensor([[.5, .7]])\n",
    "target = target.view(1, -1)\n",
    "criteria = nn.MSELoss()\n",
    "loss = criteria(output, target)\n",
    "optimizer = torch.optim.SGD(net.parameters(), lr=.001)"
   ]
  },
  {
   "cell_type": "code",
   "execution_count": 8,
   "metadata": {},
   "outputs": [],
   "source": [
    "model = models.Parabola() "
   ]
  },
  {
   "cell_type": "code",
   "execution_count": 9,
   "metadata": {},
   "outputs": [
    {
     "name": "stdout",
     "output_type": "stream",
     "text": [
      "epoch:  500  loss:  58.47936248779297\n",
      "epoch:  1000  loss:  18.098785400390625\n",
      "epoch:  1500  loss:  5.335322856903076\n",
      "epoch:  2000  loss:  8.10538387298584\n",
      "epoch:  2500  loss:  1.327664852142334\n",
      "epoch:  3000  loss:  1.501863956451416\n",
      "epoch:  3500  loss:  1.5734519958496094\n",
      "epoch:  4000  loss:  0.8402082920074463\n",
      "epoch:  4500  loss:  0.2476699948310852\n",
      "epoch:  5000  loss:  0.49541959166526794\n",
      "epoch:  5500  loss:  0.06177728250622749\n",
      "epoch:  6000  loss:  0.2959670424461365\n",
      "epoch:  6500  loss:  0.263895720243454\n",
      "epoch:  7000  loss:  0.40018364787101746\n",
      "epoch:  7500  loss:  0.28536051511764526\n",
      "epoch:  8000  loss:  0.44587334990501404\n",
      "epoch:  8500  loss:  0.35906195640563965\n",
      "epoch:  9000  loss:  0.48518311977386475\n",
      "epoch:  9500  loss:  0.6514193415641785\n",
      "epoch:  10000  loss:  0.7209324836730957\n",
      "epoch:  10500  loss:  0.2577740550041199\n",
      "epoch:  11000  loss:  0.361796498298645\n",
      "epoch:  11500  loss:  3.3190841674804688\n",
      "epoch:  12000  loss:  0.3951565623283386\n",
      "epoch:  12500  loss:  0.47204747796058655\n",
      "epoch:  13000  loss:  0.3161108195781708\n",
      "epoch:  13500  loss:  0.42711642384529114\n",
      "epoch:  14000  loss:  0.15114398300647736\n",
      "epoch:  14500  loss:  0.3368554711341858\n",
      "epoch:  15000  loss:  0.23609629273414612\n",
      "Final loss:0.23609629273414612\n",
      "epoch:  15000  loss:  0.23609629273414612\n"
     ]
    }
   ],
   "source": [
    "epoch = 0 \n",
    "losses = [] \n",
    "av = [] \n",
    "x_axis=[] \n",
    "for x,y in model.data(15000):\n",
    "    x_axis.append(epoch)\n",
    "    epoch+=1\n",
    "    # Forward Propagation\n",
    "    pyx = torch.from_numpy(x.T).float() \n",
    "    pyy = torch.from_numpy(y.T).float()\n",
    "    y_pred = net(pyx)\n",
    "    # Compute and print loss\n",
    "    loss = criteria(y_pred, pyy)\n",
    "    losses.append(loss.item()) \n",
    "    if epoch %500 ==0 :\n",
    "        last_100 = losses[-100:]\n",
    "        average_l100 = sum(last_100) / len(last_100)\n",
    "        av.append([epoch, average_l100])\n",
    "        print('epoch: ', epoch,' loss: ', loss.item())\n",
    "    # Zero the gradients\n",
    "    optimizer.zero_grad()\n",
    "    \n",
    "    # perform a backward pass (backpropagation)\n",
    "    loss.backward()\n",
    "    \n",
    "    # Update the parameters\n",
    "    optimizer.step()\n",
    "print(\"Final loss:{}\".format(loss))\n",
    "    \n",
    "print('epoch: ', epoch,' loss: ', loss.item())"
   ]
  },
  {
   "cell_type": "code",
   "execution_count": 10,
   "metadata": {},
   "outputs": [
    {
     "data": {
      "image/png": "[encoded data removed]",
      "text/plain": [
       "<Figure size 432x288 with 1 Axes>"
      ]
     },
     "metadata": {
      "needs_background": "light"
     },
     "output_type": "display_data"
    }
   ],
   "source": [
    "plt.scatter(x_axis, losses)\n",
    "av_np = np.array(av)\n",
    "plt.plot(av_np[:,0], av_np[:,1], 'r')\n",
    "plt.show()"
   ]
  },
  {
   "cell_type": "code",
   "execution_count": 11,
   "metadata": {},
   "outputs": [
    {
     "name": "stdout",
     "output_type": "stream",
     "text": [
      "tensor([[ 0.6573,  0.9468],\n",
      "        [-0.0949,  0.5083]])\n",
      "------------\n",
      "tensor([[-3.7141, -4.9019]])\n"
     ]
    }
   ],
   "source": [
    "print(net.fc1.weight.data)\n",
    "print(\"------------\")\n",
    "print(net.fc1.bias.data)\n"
   ]
  },
  {
   "cell_type": "code",
   "execution_count": 12,
   "metadata": {},
   "outputs": [
    {
     "name": "stdout",
     "output_type": "stream",
     "text": [
      "tensor([[ 0.0367, -0.0550],\n",
      "        [ 5.1841,  7.6652]])\n",
      "------------\n",
      "tensor([[-0.0342,  0.7624]])\n"
     ]
    }
   ],
   "source": [
    "print(net.fc2.weight.data)\n",
    "print(\"------------\")\n",
    "print(net.fc2.bias.data)"
   ]
  },
  {
   "cell_type": "code",
   "execution_count": null,
   "metadata": {},
   "outputs": [],
   "source": []
  }
 ],
 "metadata": {
  "kernelspec": {
   "display_name": "Python 3",
   "language": "python",
   "name": "python3"
  },
  "language_info": {
   "codemirror_mode": {
    "name": "ipython",
    "version": 3
   },
   "file_extension": ".py",
   "mimetype": "text/x-python",
   "name": "python",
   "nbconvert_exporter": "python",
   "pygments_lexer": "ipython3",
   "version": "3.7.4"
  }
 },
 "nbformat": 4,
 "nbformat_minor": 4
}
