{
 "cells": [
  {
   "cell_type": "code",
   "execution_count": 1,
   "metadata": {},
   "outputs": [],
   "source": [
    "import torch\n",
    "import torch.nn as nn\n",
    "import torch.nn.functional as F\n",
    "import numpy as np \n",
    "import torch.optim as optim \n",
    "import sys \n",
    "import os \n",
    "import matplotlib.pyplot as plt"
   ]
  },
  {
   "cell_type": "code",
   "execution_count": 2,
   "metadata": {},
   "outputs": [],
   "source": [
    "project_basedir=os.path.join('..','..')\n",
    "project_basedir = os.path.abspath(project_basedir)\n",
    "sys.path.insert(0,project_basedir)"
   ]
  },
  {
   "cell_type": "code",
   "execution_count": 3,
   "metadata": {},
   "outputs": [],
   "source": [
    "from  tests.core.np import LinearModel \n",
    "model_w = np.array([[1, 3, -1], [0, -4, 2]])\n",
    "model_b = np.array([[-3, 2]]).reshape((model_w.shape[0], 1))\n",
    "model = LinearModel(model_w, model_b)"
   ]
  },
  {
   "cell_type": "code",
   "execution_count": 7,
   "metadata": {},
   "outputs": [],
   "source": [
    "class Net(nn.Module):\n",
    "    def __init__(self):\n",
    "        super(Net, self).__init__()\n",
    "        self.fc1 = nn.Linear(3,2) \n",
    "\n",
    "    def forward(self, x):\n",
    "        return self.fc1(x) "
   ]
  },
  {
   "cell_type": "code",
   "execution_count": 22,
   "metadata": {},
   "outputs": [],
   "source": [
    "net = Net() \n",
    "input = torch.FloatTensor([[1, -1, 0]])\n",
    "output = net(input)\n",
    "target = torch.FloatTensor([[.5, .7]])\n",
    "target = target.view(1, -1)\n",
    "criteria = nn.MSELoss()\n",
    "loss = criteria(output, target)\n",
    "optimizer = torch.optim.SGD(net.parameters(), lr=.001)"
   ]
  },
  {
   "cell_type": "code",
   "execution_count": 23,
   "metadata": {},
   "outputs": [
    {
     "name": "stdout",
     "output_type": "stream",
     "text": [
      "epoch:  0  loss:  4.228579044342041\n",
      "epoch:  5000  loss:  0.6942269802093506\n",
      "epoch:  10000  loss:  0.3205326795578003\n",
      "epoch:  15000  loss:  0.15745969116687775\n",
      "epoch:  20000  loss:  0.08910714834928513\n",
      "epoch:  25000  loss:  0.04625396430492401\n",
      "epoch:  30000  loss:  0.023423083126544952\n",
      "epoch:  35000  loss:  0.015068013221025467\n",
      "Final loss:0.008450839668512344\n",
      "epoch:  40000  loss:  0.008450839668512344\n"
     ]
    }
   ],
   "source": [
    "epoch = 0 \n",
    "losses = [] \n",
    "av = [] \n",
    "x_axis=[] \n",
    "x_losses = [] \n",
    "for x,y in model.data(40000,400):\n",
    "    # Forward Propagation\n",
    "    pyx = torch.from_numpy(x.T).float() \n",
    "    pyy = torch.from_numpy(y.T).float()\n",
    "    y_pred = net(pyx)\n",
    "    # Compute and print loss\n",
    "    loss = criteria(y_pred, pyy)\n",
    "    losses.append(loss.item()) \n",
    "    \n",
    "    if epoch % 1 == 0 :\n",
    "        x_axis.append(epoch)\n",
    "        x_losses.append(loss.item())\n",
    "        \n",
    "    if epoch %5000 == 0 :\n",
    "        last_100 = losses[-100:]\n",
    "        average_l100 = sum(last_100) / len(last_100)\n",
    "        av.append([epoch, average_l100])\n",
    "        print('epoch: ', epoch,' loss: ', loss.item())\n",
    "    # Zero the gradients\n",
    "    optimizer.zero_grad()\n",
    "    \n",
    "    # perform a backward pass (backpropagation)\n",
    "    loss.backward()\n",
    "    \n",
    "    # Update the parameters\n",
    "    optimizer.step()\n",
    "    epoch+=1\n",
    "    \n",
    "last_100 = losses[-100:]\n",
    "average_l100 = sum(last_100) / len(last_100)\n",
    "av.append([epoch, average_l100])\n",
    "print(\"Final loss:{}\".format(loss))\n",
    "    \n",
    "print('epoch: ', epoch,' loss: ', loss.item())"
   ]
  },
  {
   "cell_type": "code",
   "execution_count": 31,
   "metadata": {},
   "outputs": [
    {
     "data": {
      "image/png": "[encoded data removed]",
      "text/plain": [
       "<Figure size 432x288 with 1 Axes>"
      ]
     },
     "metadata": {
      "needs_background": "light"
     },
     "output_type": "display_data"
    }
   ],
   "source": [
    "plt.scatter(x_axis, x_losses, s=.1)\n",
    "av_np = np.array(av)\n",
    "plt.scatter(av_np[:,0], av_np[:,1], s=3)\n",
    "plt.show()"
   ]
  },
  {
   "cell_type": "code",
   "execution_count": null,
   "metadata": {},
   "outputs": [],
   "source": []
  }
 ],
 "metadata": {
  "kernelspec": {
   "display_name": "Python 3",
   "language": "python",
   "name": "python3"
  },
  "language_info": {
   "codemirror_mode": {
    "name": "ipython",
    "version": 3
   },
   "file_extension": ".py",
   "mimetype": "text/x-python",
   "name": "python",
   "nbconvert_exporter": "python",
   "pygments_lexer": "ipython3",
   "version": "3.7.4"
  }
 },
 "nbformat": 4,
 "nbformat_minor": 4
}
