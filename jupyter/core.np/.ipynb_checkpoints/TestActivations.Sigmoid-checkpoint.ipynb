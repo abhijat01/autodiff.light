{
 "cells": [
  {
   "cell_type": "code",
   "execution_count": 120,
   "metadata": {},
   "outputs": [],
   "source": [
    "import torch\n",
    "import torch.nn as nn"
   ]
  },
  {
   "cell_type": "code",
   "execution_count": 127,
   "metadata": {},
   "outputs": [],
   "source": [
    "class Net(nn.Module):\n",
    "    def __init__(self):\n",
    "        super(Net, self).__init__()\n",
    "        self.layer =  nn.Softmax(1)\n",
    "\n",
    "    def forward(self, x):\n",
    "        return self.layer(x) \n",
    "net = Net()  \n",
    "x = torch.tensor([[1, 3, -1, 0], [0, 9, 1, 3.0]], requires_grad=True )"
   ]
  },
  {
   "cell_type": "code",
   "execution_count": 128,
   "metadata": {},
   "outputs": [
    {
     "name": "stdout",
     "output_type": "stream",
     "text": [
      "tensor([[1.1246e-01, 8.3095e-01, 1.5219e-02, 4.1371e-02],\n",
      "        [1.2305e-04, 9.9707e-01, 3.3448e-04, 2.4715e-03]])\n"
     ]
    }
   ],
   "source": [
    "x = nn.Parameter(x) \n",
    "y=net(x)\n",
    "print(y.data)"
   ]
  },
  {
   "cell_type": "code",
   "execution_count": 129,
   "metadata": {},
   "outputs": [],
   "source": [
    "target = torch.zeros_like(y) \n",
    "loss_function = nn.MSELoss() \n",
    "loss = loss_function(y, target)\n",
    "optimizer = torch.optim.SGD([x], lr=.001)"
   ]
  },
  {
   "cell_type": "code",
   "execution_count": 130,
   "metadata": {},
   "outputs": [],
   "source": [
    "optimizer.zero_grad()\n",
    "loss.backward()\n",
    "optimizer.step()"
   ]
  },
  {
   "cell_type": "code",
   "execution_count": 131,
   "metadata": {},
   "outputs": [
    {
     "name": "stdout",
     "output_type": "stream",
     "text": [
      "tensor(0.2124, grad_fn=<MseLossBackward>)\n",
      "tensor([[-1.6661e-02,  2.6150e-02, -2.6248e-03, -6.8644e-03],\n",
      "        [-3.0579e-05,  7.2641e-04, -8.3103e-05, -6.1274e-04]])\n"
     ]
    }
   ],
   "source": [
    "torch.set_printoptions(sci_mode=False)\n",
    "print(loss)\n",
    "print(x.grad) "
   ]
  },
  {
   "cell_type": "code",
   "execution_count": null,
   "metadata": {},
   "outputs": [],
   "source": []
  }
 ],
 "metadata": {
  "kernelspec": {
   "display_name": "Python 3",
   "language": "python",
   "name": "python3"
  },
  "language_info": {
   "codemirror_mode": {
    "name": "ipython",
    "version": 3
   },
   "file_extension": ".py",
   "mimetype": "text/x-python",
   "name": "python",
   "nbconvert_exporter": "python",
   "pygments_lexer": "ipython3",
   "version": "3.7.4"
  }
 },
 "nbformat": 4,
 "nbformat_minor": 4
}
