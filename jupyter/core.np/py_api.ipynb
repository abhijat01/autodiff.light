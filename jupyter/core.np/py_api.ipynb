{
 "cells": [
  {
   "cell_type": "code",
   "execution_count": 2,
   "metadata": {},
   "outputs": [],
   "source": [
    "import numpy as np "
   ]
  },
  {
   "cell_type": "code",
   "execution_count": 3,
   "metadata": {},
   "outputs": [
    {
     "name": "stdout",
     "output_type": "stream",
     "text": [
      "[[ 1  2  3  4]\n",
      " [ 3  4  5  6]\n",
      " [-1  0  1  3]]\n"
     ]
    }
   ],
   "source": [
    "import numpy as np\n",
    "a=np.array([[1,2,3,4],[3,4,5,6],[-1,0,1,3]])\n",
    "print(a)"
   ]
  },
  {
   "cell_type": "code",
   "execution_count": 4,
   "metadata": {},
   "outputs": [],
   "source": [
    "def sig(x):\n",
    "    return 1.0/(1+np.exp(-x))"
   ]
  },
  {
   "cell_type": "code",
   "execution_count": 53,
   "metadata": {},
   "outputs": [
    {
     "name": "stdout",
     "output_type": "stream",
     "text": [
      "array([[ 1,  0],\n",
      "       [ 3,  9],\n",
      "       [-1,  1],\n",
      "       [ 0,  3]])\n"
     ]
    }
   ],
   "source": [
    "y_p=np.array([[1,3,-1,0],[0,9,1,3]]).T\n",
    "print(repr(y_p))"
   ]
  },
  {
   "cell_type": "code",
   "execution_count": 58,
   "metadata": {},
   "outputs": [],
   "source": [
    "def softmax(input):\n",
    "    e = np.exp(input)\n",
    "    s = np.sum(e, axis=0) \n",
    "    return e/s "
   ]
  },
  {
   "cell_type": "code",
   "execution_count": 59,
   "metadata": {},
   "outputs": [
    {
     "name": "stdout",
     "output_type": "stream",
     "text": [
      "array([[1.12457214e-01, 1.23048334e-04],\n",
      "       [8.30952661e-01, 9.97070980e-01],\n",
      "       [1.52194289e-02, 3.34480051e-04],\n",
      "       [4.13706969e-02, 2.47149186e-03]])\n"
     ]
    }
   ],
   "source": [
    "sx = softmax(y_p)\n",
    "print(repr(sx))"
   ]
  },
  {
   "cell_type": "code",
   "execution_count": 8,
   "metadata": {},
   "outputs": [
    {
     "name": "stdout",
     "output_type": "stream",
     "text": [
      "array([[0.11245721],\n",
      "       [0.83095266],\n",
      "       [0.01521943],\n",
      "       [0.0413707 ]])\n"
     ]
    }
   ],
   "source": [
    "print(repr(sx))"
   ]
  },
  {
   "cell_type": "code",
   "execution_count": 45,
   "metadata": {},
   "outputs": [
    {
     "name": "stdout",
     "output_type": "stream",
     "text": [
      "array([[0, 1],\n",
      "       [0, 0],\n",
      "       [1, 0],\n",
      "       [0, 0]])\n"
     ]
    }
   ],
   "source": [
    "yt=np.array([[0,0,1,0],[1,0,0,0]]).T\n",
    "print(repr(yt))"
   ]
  },
  {
   "cell_type": "code",
   "execution_count": 46,
   "metadata": {},
   "outputs": [
    {
     "name": "stdout",
     "output_type": "stream",
     "text": [
      "array([[False,  True],\n",
      "       [False, False],\n",
      "       [ True, False],\n",
      "       [False, False]])\n"
     ]
    }
   ],
   "source": [
    "print(repr(yt>0))"
   ]
  },
  {
   "cell_type": "code",
   "execution_count": 47,
   "metadata": {},
   "outputs": [
    {
     "name": "stdout",
     "output_type": "stream",
     "text": [
      "(array([0, 1], dtype=int64),)\n"
     ]
    }
   ],
   "source": [
    "print(repr(np.where(np.any(yt>0, axis=0))))"
   ]
  },
  {
   "cell_type": "code",
   "execution_count": 48,
   "metadata": {},
   "outputs": [],
   "source": [
    "i,j = np.nonzero(yt) "
   ]
  },
  {
   "cell_type": "code",
   "execution_count": 49,
   "metadata": {},
   "outputs": [
    {
     "name": "stdout",
     "output_type": "stream",
     "text": [
      "[0 2] [1 0]\n"
     ]
    }
   ],
   "source": [
    "print(i,j)"
   ]
  },
  {
   "cell_type": "code",
   "execution_count": 50,
   "metadata": {},
   "outputs": [
    {
     "data": {
      "text/plain": [
       "array([2, 0], dtype=int64)"
      ]
     },
     "execution_count": 50,
     "metadata": {},
     "output_type": "execute_result"
    }
   ],
   "source": [
    "(yt>0).argmax(axis=0)"
   ]
  },
  {
   "cell_type": "code",
   "execution_count": 60,
   "metadata": {},
   "outputs": [
    {
     "name": "stdout",
     "output_type": "stream",
     "text": [
      "array([list([1, -3, 5, 0]), list([0, 3, -4, 2.9, 1e-10])], dtype=object)\n"
     ]
    }
   ],
   "source": [
    "x=np.array([[1,-3,5,0],[0,3,-4,2.9, 0.0000000001]])\n",
    "print(repr(x))"
   ]
  },
  {
   "cell_type": "code",
   "execution_count": 61,
   "metadata": {},
   "outputs": [],
   "source": [
    "x[x==0]= 0.00000001"
   ]
  },
  {
   "cell_type": "code",
   "execution_count": 62,
   "metadata": {},
   "outputs": [
    {
     "name": "stdout",
     "output_type": "stream",
     "text": [
      "array([list([1, -3, 5, 0]), list([0, 3, -4, 2.9, 1e-10])], dtype=object)\n"
     ]
    }
   ],
   "source": [
    "print(repr(x))"
   ]
  },
  {
   "cell_type": "code",
   "execution_count": null,
   "metadata": {},
   "outputs": [],
   "source": []
  }
 ],
 "metadata": {
  "kernelspec": {
   "display_name": "Python 3",
   "language": "python",
   "name": "python3"
  },
  "language_info": {
   "codemirror_mode": {
    "name": "ipython",
    "version": 3
   },
   "file_extension": ".py",
   "mimetype": "text/x-python",
   "name": "python",
   "nbconvert_exporter": "python",
   "pygments_lexer": "ipython3",
   "version": "3.7.4"
  }
 },
 "nbformat": 4,
 "nbformat_minor": 4
}
