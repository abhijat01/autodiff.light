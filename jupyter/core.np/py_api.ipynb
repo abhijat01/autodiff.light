{
 "cells": [
  {
   "cell_type": "code",
   "execution_count": 3,
   "metadata": {},
   "outputs": [],
   "source": [
    "import numpy as np "
   ]
  },
  {
   "cell_type": "code",
   "execution_count": 2,
   "metadata": {},
   "outputs": [
    {
     "name": "stdout",
     "output_type": "stream",
     "text": [
      "[[ 1  2  3  4]\n",
      " [ 3  4  5  6]\n",
      " [-1  0  1  3]]\n"
     ]
    }
   ],
   "source": [
    "a=np.array([[1,2,3,4],[3,4,5,6],[-1,0,1,3]])\n",
    "print(a)"
   ]
  },
  {
   "cell_type": "code",
   "execution_count": 4,
   "metadata": {},
   "outputs": [],
   "source": [
    "def sig(x):\n",
    "    return 1.0/(1+np.exp(-x))"
   ]
  },
  {
   "cell_type": "code",
   "execution_count": 53,
   "metadata": {},
   "outputs": [
    {
     "name": "stdout",
     "output_type": "stream",
     "text": [
      "array([[ 1,  0],\n",
      "       [ 3,  9],\n",
      "       [-1,  1],\n",
      "       [ 0,  3]])\n"
     ]
    }
   ],
   "source": [
    "y_p=np.array([[1,3,-1,0],[0,9,1,3]]).T\n",
    "print(repr(y_p))"
   ]
  },
  {
   "cell_type": "code",
   "execution_count": 58,
   "metadata": {},
   "outputs": [],
   "source": [
    "def softmax(input):\n",
    "    e = np.exp(input)\n",
    "    s = np.sum(e, axis=0) \n",
    "    return e/s "
   ]
  },
  {
   "cell_type": "code",
   "execution_count": 59,
   "metadata": {},
   "outputs": [
    {
     "name": "stdout",
     "output_type": "stream",
     "text": [
      "array([[1.12457214e-01, 1.23048334e-04],\n",
      "       [8.30952661e-01, 9.97070980e-01],\n",
      "       [1.52194289e-02, 3.34480051e-04],\n",
      "       [4.13706969e-02, 2.47149186e-03]])\n"
     ]
    }
   ],
   "source": [
    "sx = softmax(y_p)\n",
    "print(repr(sx))"
   ]
  },
  {
   "cell_type": "code",
   "execution_count": 8,
   "metadata": {},
   "outputs": [
    {
     "name": "stdout",
     "output_type": "stream",
     "text": [
      "array([[0.11245721],\n",
      "       [0.83095266],\n",
      "       [0.01521943],\n",
      "       [0.0413707 ]])\n"
     ]
    }
   ],
   "source": [
    "print(repr(sx))"
   ]
  },
  {
   "cell_type": "code",
   "execution_count": 45,
   "metadata": {},
   "outputs": [
    {
     "name": "stdout",
     "output_type": "stream",
     "text": [
      "array([[0, 1],\n",
      "       [0, 0],\n",
      "       [1, 0],\n",
      "       [0, 0]])\n"
     ]
    }
   ],
   "source": [
    "yt=np.array([[0,0,1,0],[1,0,0,0]]).T\n",
    "print(repr(yt))"
   ]
  },
  {
   "cell_type": "code",
   "execution_count": 46,
   "metadata": {},
   "outputs": [
    {
     "name": "stdout",
     "output_type": "stream",
     "text": [
      "array([[False,  True],\n",
      "       [False, False],\n",
      "       [ True, False],\n",
      "       [False, False]])\n"
     ]
    }
   ],
   "source": [
    "print(repr(yt>0))"
   ]
  },
  {
   "cell_type": "code",
   "execution_count": 47,
   "metadata": {},
   "outputs": [
    {
     "name": "stdout",
     "output_type": "stream",
     "text": [
      "(array([0, 1], dtype=int64),)\n"
     ]
    }
   ],
   "source": [
    "print(repr(np.where(np.any(yt>0, axis=0))))"
   ]
  },
  {
   "cell_type": "code",
   "execution_count": 48,
   "metadata": {},
   "outputs": [],
   "source": [
    "i,j = np.nonzero(yt) "
   ]
  },
  {
   "cell_type": "code",
   "execution_count": 49,
   "metadata": {},
   "outputs": [
    {
     "name": "stdout",
     "output_type": "stream",
     "text": [
      "[0 2] [1 0]\n"
     ]
    }
   ],
   "source": [
    "print(i,j)"
   ]
  },
  {
   "cell_type": "code",
   "execution_count": 50,
   "metadata": {},
   "outputs": [
    {
     "data": {
      "text/plain": [
       "array([2, 0], dtype=int64)"
      ]
     },
     "execution_count": 50,
     "metadata": {},
     "output_type": "execute_result"
    }
   ],
   "source": [
    "(yt>0).argmax(axis=0)"
   ]
  },
  {
   "cell_type": "code",
   "execution_count": 60,
   "metadata": {},
   "outputs": [
    {
     "name": "stdout",
     "output_type": "stream",
     "text": [
      "array([list([1, -3, 5, 0]), list([0, 3, -4, 2.9, 1e-10])], dtype=object)\n"
     ]
    }
   ],
   "source": [
    "x=np.array([[1,-3,5,0],[0,3,-4,2.9, 0.0000000001]])\n",
    "print(repr(x))"
   ]
  },
  {
   "cell_type": "code",
   "execution_count": 61,
   "metadata": {},
   "outputs": [],
   "source": [
    "x[x==0]= 0.00000001"
   ]
  },
  {
   "cell_type": "code",
   "execution_count": 62,
   "metadata": {},
   "outputs": [
    {
     "name": "stdout",
     "output_type": "stream",
     "text": [
      "array([list([1, -3, 5, 0]), list([0, 3, -4, 2.9, 1e-10])], dtype=object)\n"
     ]
    }
   ],
   "source": [
    "print(repr(x))"
   ]
  },
  {
   "cell_type": "code",
   "execution_count": 3,
   "metadata": {},
   "outputs": [],
   "source": [
    "yt=np.array([0,2])"
   ]
  },
  {
   "cell_type": "code",
   "execution_count": 10,
   "metadata": {},
   "outputs": [
    {
     "name": "stdout",
     "output_type": "stream",
     "text": [
      "[0 2]\n",
      "[[ 1  2  3  4]\n",
      " [ 3  4  5  6]\n",
      " [-1  0  1  3]]\n"
     ]
    },
    {
     "data": {
      "text/plain": [
       "array([[ 1,  2,  3,  4],\n",
       "       [-1,  0,  1,  3]])"
      ]
     },
     "execution_count": 10,
     "metadata": {},
     "output_type": "execute_result"
    }
   ],
   "source": [
    "print(yt)\n",
    "print(a)\n",
    "a[yt]"
   ]
  },
  {
   "cell_type": "code",
   "execution_count": 22,
   "metadata": {},
   "outputs": [
    {
     "name": "stdout",
     "output_type": "stream",
     "text": [
      "20\n",
      "{1, 2, 8, 12, 16, 17, 20, 21, 25, 28}\n",
      "[23  3 19 10 27 14 26  0  6  7 18  5  4 22 29 13 24  9 15 11]\n"
     ]
    }
   ],
   "source": [
    "train=np.random.choice(range(30), 20, replace=False)\n",
    "print(len(train))\n",
    "full=set(range(30))\n",
    "print(full-set(train))\n",
    "\n",
    "print(train)"
   ]
  },
  {
   "cell_type": "code",
   "execution_count": 11,
   "metadata": {},
   "outputs": [
    {
     "name": "stdout",
     "output_type": "stream",
     "text": [
      "array([[  4. ,   2.1,  16. ],\n",
      "       [  2. ,   1.6, -14. ]])\n"
     ]
    }
   ],
   "source": [
    "w = np.array([[1, 3, -1], [0, -4, 2]])\n",
    "b = np.array([[1, 2]]).reshape((w.shape[0], 1))\n",
    "x=np.array([[1,2,4],[.4,.5,.8],[3,4,0]]).T\n",
    "y=w@x+b\n",
    "print(repr(y))"
   ]
  },
  {
   "cell_type": "code",
   "execution_count": 14,
   "metadata": {},
   "outputs": [
    {
     "data": {
      "text/plain": [
       "array([[ 17.61333333,  24.35      ,   5.89333333],\n",
       "       [-13.12      , -17.06666667,   3.09333333]])"
      ]
     },
     "execution_count": 14,
     "metadata": {},
     "output_type": "execute_result"
    }
   ],
   "source": [
    "y@x.T/y.shape[1]"
   ]
  },
  {
   "cell_type": "code",
   "execution_count": 16,
   "metadata": {},
   "outputs": [
    {
     "data": {
      "text/plain": [
       "array([[ 7.36666667],\n",
       "       [-3.46666667]])"
      ]
     },
     "execution_count": 16,
     "metadata": {},
     "output_type": "execute_result"
    }
   ],
   "source": [
    "np.average(y, axis=1).reshape(-1,1)"
   ]
  },
  {
   "cell_type": "code",
   "execution_count": 19,
   "metadata": {},
   "outputs": [
    {
     "data": {
      "text/plain": [
       "array([[ 4.00e+00,  2.10e+00,  1.60e+01],\n",
       "       [ 4.00e+00, -1.00e-01,  1.04e+02],\n",
       "       [ 0.00e+00,  1.10e+00, -4.40e+01]])"
      ]
     },
     "execution_count": 19,
     "metadata": {},
     "output_type": "execute_result"
    }
   ],
   "source": [
    "w.T@y"
   ]
  },
  {
   "cell_type": "code",
   "execution_count": 21,
   "metadata": {},
   "outputs": [],
   "source": [
    "x=np.array([[1,2,4]]).T"
   ]
  },
  {
   "cell_type": "code",
   "execution_count": 22,
   "metadata": {},
   "outputs": [
    {
     "name": "stdout",
     "output_type": "stream",
     "text": [
      "--- y ---\n",
      "[[4]\n",
      " [2]]\n",
      "--- y@x.T\n",
      "[[ 4  8 16]\n",
      " [ 2  4  8]]\n",
      "--- w.T@y\n",
      "[[4]\n",
      " [4]\n",
      " [0]]\n"
     ]
    }
   ],
   "source": [
    "y=w@x+b\n",
    "print(\"--- y ---\")\n",
    "print(y) \n",
    "print(\"--- y@x.T\")\n",
    "print(y@x.T)\n",
    "print(\"--- w.T@y\")\n",
    "print(w.T@y)"
   ]
  },
  {
   "cell_type": "code",
   "execution_count": 26,
   "metadata": {},
   "outputs": [
    {
     "data": {
      "text/plain": [
       "1024"
      ]
     },
     "execution_count": 26,
     "metadata": {},
     "output_type": "execute_result"
    }
   ],
   "source": [
    "np.power(2,10)"
   ]
  },
  {
   "cell_type": "code",
   "execution_count": 40,
   "metadata": {},
   "outputs": [
    {
     "name": "stdout",
     "output_type": "stream",
     "text": [
      "[[[0.4497591  0.89818251]\n",
      "  [0.78391262 0.96498873]\n",
      "  [0.58190934 0.1667085 ]]\n",
      "\n",
      " [[0.40008163 0.48082138]\n",
      "  [0.12866614 0.2912605 ]\n",
      "  [0.23851323 0.62142716]]\n",
      "\n",
      " [[0.82959211 0.97989429]\n",
      "  [0.70430402 0.24843739]\n",
      "  [0.03746294 0.29855781]]]\n",
      "-------------------\n",
      "B -----------\n",
      "[[[ 1]\n",
      "  [-1]\n",
      "  [ 1]]\n",
      "\n",
      " [[ 0]\n",
      "  [ 0]\n",
      "  [ 1]]\n",
      "\n",
      " [[ 1]\n",
      "  [ 0]\n",
      "  [ 0]]]\n",
      "a*b --------------\n",
      "[[[ 0.4497591   0.89818251]\n",
      "  [-0.78391262 -0.96498873]\n",
      "  [ 0.58190934  0.1667085 ]]\n",
      "\n",
      " [[ 0.          0.        ]\n",
      "  [ 0.          0.        ]\n",
      "  [ 0.23851323  0.62142716]]\n",
      "\n",
      " [[ 0.82959211  0.97989429]\n",
      "  [ 0.          0.        ]\n",
      "  [ 0.          0.        ]]]\n",
      "--------------------------------------\n",
      "--------------A[:,:,0] ---------------\n",
      "[[0.4497591  0.78391262 0.58190934]\n",
      " [0.40008163 0.12866614 0.23851323]\n",
      " [0.82959211 0.70430402 0.03746294]]\n",
      "--------------------------------------\n",
      "--------------b[:,:,0] ---------------\n",
      "[[ 1 -1  1]\n",
      " [ 0  0  1]\n",
      " [ 1  0  0]]\n",
      "--------------------------------------\n",
      "--------------c[:,:,0] ---------------\n",
      "[[ 0.4497591  -0.78391262  0.58190934]\n",
      " [ 0.          0.          0.23851323]\n",
      " [ 0.82959211  0.          0.        ]]\n"
     ]
    }
   ],
   "source": [
    "a=np.random.rand(3,3,2)\n",
    "print(a)\n",
    "print(\"-------------------\")\n",
    "b = np.array([[1,-1,1],[0,0,1],[1,0,0]]).reshape(3,3,1)\n",
    "print(\"B -----------\")\n",
    "print(b) \n",
    "print(\"a*b --------------\")\n",
    "print(a*b)\n",
    "c=a*b\n",
    "print(\"--------------------------------------\")\n",
    "print(\"--------------A[:,:,0] ---------------\")\n",
    "print(a[:,:,0])\n",
    "print(\"--------------------------------------\")\n",
    "print(\"--------------b[:,:,0] ---------------\")\n",
    "print(b[:,:,0])\n",
    "print(\"--------------------------------------\")\n",
    "print(\"--------------c[:,:,0] ---------------\")\n",
    "print(c[:,:,0])\n"
   ]
  },
  {
   "cell_type": "code",
   "execution_count": 46,
   "metadata": {},
   "outputs": [
    {
     "name": "stdout",
     "output_type": "stream",
     "text": [
      "[[ 1  0 -1]\n",
      " [ 2  1  4]\n",
      " [ 5  5  5]]\n"
     ]
    },
    {
     "data": {
      "text/plain": [
       "array([0.        , 2.33333333, 5.        ])"
      ]
     },
     "execution_count": 46,
     "metadata": {},
     "output_type": "execute_result"
    }
   ],
   "source": [
    "b=np.array([[1,0,-1],[2,1,4],[5,5,5]])\n",
    "print(b)\n",
    "np.average(b, axis=1)"
   ]
  },
  {
   "cell_type": "code",
   "execution_count": 53,
   "metadata": {},
   "outputs": [
    {
     "name": "stdout",
     "output_type": "stream",
     "text": [
      "96.5\n"
     ]
    }
   ],
   "source": [
    "yp=np.array([[  5.,   7.],\n",
    "       [ -8., -14.]])\n",
    "yt=np.array([[-1.,  1.],\n",
    "       [-3., -1.]]).T\n",
    "err=np.sum(np.square(yp-yt))/yp.size\n",
    "print(err)"
   ]
  },
  {
   "cell_type": "code",
   "execution_count": 51,
   "metadata": {},
   "outputs": [],
   "source": [
    "w=np.array([[ 1.,  3., -1.],\n",
    "       [ 0., -4.,  2.]])\n",
    "b=np.array([[-3.],\n",
    "       [ 2.]])\n",
    "x = np.array([[1, -1], [2, 3], [-1, -2]], dtype=np.float)"
   ]
  },
  {
   "cell_type": "code",
   "execution_count": 52,
   "metadata": {},
   "outputs": [
    {
     "name": "stdout",
     "output_type": "stream",
     "text": [
      "[[  5.   7.]\n",
      " [ -8. -14.]]\n"
     ]
    }
   ],
   "source": [
    "y=w@x+b\n",
    "print(y) "
   ]
  },
  {
   "cell_type": "code",
   "execution_count": 42,
   "metadata": {},
   "outputs": [],
   "source": [
    "w = np.array([[1, 3, -1], [0, -4, 2]])\n",
    "b = np.array([[-3, 2]]).T\n",
    "x = np.array([[1], [2], [-1]])\n",
    "def y(x):\n",
    "    return w@x + b"
   ]
  },
  {
   "cell_type": "code",
   "execution_count": 43,
   "metadata": {},
   "outputs": [
    {
     "name": "stdout",
     "output_type": "stream",
     "text": [
      "------ W ---------\n",
      "[[ 1  3 -1]\n",
      " [ 0 -4  2]]\n",
      "------ B ---------\n",
      "[[-3]\n",
      " [ 2]]\n",
      "------ X ----------\n",
      "[[ 1]\n",
      " [ 2]\n",
      " [-1]]\n",
      "------------------\n",
      "[[ 5]\n",
      " [-8]]\n"
     ]
    }
   ],
   "source": [
    "print(\"------ W ---------\")\n",
    "print(w)\n",
    "print(\"------ B ---------\")\n",
    "print(b)\n",
    "print(\"------ X ----------\")\n",
    "print(x) \n",
    "print(\"------------------\")\n",
    "yp=y(x)\n",
    "print(yp)"
   ]
  },
  {
   "cell_type": "code",
   "execution_count": 45,
   "metadata": {},
   "outputs": [
    {
     "data": {
      "text/plain": [
       "array([[  5,  -8],\n",
       "       [ 10, -16],\n",
       "       [ -5,   8]])"
      ]
     },
     "execution_count": 45,
     "metadata": {},
     "output_type": "execute_result"
    }
   ],
   "source": [
    "x@yp.T"
   ]
  },
  {
   "cell_type": "code",
   "execution_count": 13,
   "metadata": {},
   "outputs": [
    {
     "name": "stdout",
     "output_type": "stream",
     "text": [
      "[  8.5 -13.5]\n"
     ]
    }
   ],
   "source": [
    "g=np.average(yp, axis=1)\n",
    "print(g) "
   ]
  },
  {
   "cell_type": "code",
   "execution_count": 15,
   "metadata": {},
   "outputs": [
    {
     "data": {
      "text/plain": [
       "array([ 22. , -23.5,  18.5])"
      ]
     },
     "execution_count": 15,
     "metadata": {},
     "output_type": "execute_result"
    }
   ],
   "source": [
    "x@g"
   ]
  },
  {
   "cell_type": "code",
   "execution_count": null,
   "metadata": {},
   "outputs": [],
   "source": []
  }
 ],
 "metadata": {
  "kernelspec": {
   "display_name": "Python 3",
   "language": "python",
   "name": "python3"
  },
  "language_info": {
   "codemirror_mode": {
    "name": "ipython",
    "version": 3
   },
   "file_extension": ".py",
   "mimetype": "text/x-python",
   "name": "python",
   "nbconvert_exporter": "python",
   "pygments_lexer": "ipython3",
   "version": "3.7.4"
  }
 },
 "nbformat": 4,
 "nbformat_minor": 4
}
