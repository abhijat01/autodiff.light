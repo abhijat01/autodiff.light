{
 "cells": [
  {
   "cell_type": "code",
   "execution_count": 1,
   "metadata": {},
   "outputs": [
    {
     "name": "stdout",
     "output_type": "stream",
     "text": [
      "[[ 1  2  1]\n",
      " [-1  0  2]]\n",
      "[[ 2]\n",
      " [-1]]\n"
     ]
    }
   ],
   "source": [
    "import numpy as np \n",
    "a=np.array([[1,2,1],[-1,0,2]])\n",
    "print(a)\n",
    "x=np.array([[2,-1]]).T\n",
    "print(x)"
   ]
  },
  {
   "cell_type": "code",
   "execution_count": 2,
   "metadata": {},
   "outputs": [
    {
     "data": {
      "text/plain": [
       "array([[ 2,  4,  2],\n",
       "       [ 1,  0, -2]])"
      ]
     },
     "execution_count": 2,
     "metadata": {},
     "output_type": "execute_result"
    }
   ],
   "source": [
    "a*x"
   ]
  },
  {
   "cell_type": "code",
   "execution_count": 3,
   "metadata": {},
   "outputs": [
    {
     "name": "stdout",
     "output_type": "stream",
     "text": [
      "[[1. 1. 1. 1. 1.]\n",
      " [1. 1. 1. 1. 1.]\n",
      " [1. 1. 1. 1. 1.]]\n"
     ]
    }
   ],
   "source": [
    "ones = np.ones((3,5))\n",
    "print(ones)"
   ]
  },
  {
   "cell_type": "code",
   "execution_count": 7,
   "metadata": {},
   "outputs": [],
   "source": [
    "r = np.random.rand(ones.size).reshape(ones.shape)"
   ]
  },
  {
   "cell_type": "code",
   "execution_count": 11,
   "metadata": {},
   "outputs": [
    {
     "name": "stdout",
     "output_type": "stream",
     "text": [
      "[[ 1  2  1]\n",
      " [-1  0  2]]\n"
     ]
    },
    {
     "data": {
      "text/plain": [
       "array([[1.33333333],\n",
       "       [0.33333333]])"
      ]
     },
     "execution_count": 11,
     "metadata": {},
     "output_type": "execute_result"
    }
   ],
   "source": [
    "print(a)\n",
    "np.average(a, axis=1).reshape(2,1)"
   ]
  },
  {
   "cell_type": "code",
   "execution_count": 15,
   "metadata": {},
   "outputs": [
    {
     "name": "stdout",
     "output_type": "stream",
     "text": [
      "None\n",
      "Not inited\n"
     ]
    }
   ],
   "source": [
    "x=None \n",
    "value = x and ones \n",
    "if value : \n",
    "    print(\"value  ..\")\n",
    "else:\n",
    "    print('Not inited')"
   ]
  },
  {
   "cell_type": "code",
   "execution_count": 22,
   "metadata": {},
   "outputs": [
    {
     "name": "stdout",
     "output_type": "stream",
     "text": [
      "[[0.27324892 0.20794064 0.40709614 0.57989882 0.66002588]\n",
      " [0.40336112 0.00177118 0.09311274 0.07630574 0.41911615]\n",
      " [0.37670757 0.49653544 0.46344111 0.57995388 0.43835633]]\n",
      "[[-1.89337527 -3.28328124 -2.77700675 -2.77113786 -1.520982  ]\n",
      " [ 1.13997064  2.98598614  2.55443125  2.85468483  1.20024805]]\n"
     ]
    }
   ],
   "source": [
    "x=np.random.rand(3,5)\n",
    "print(x)\n",
    "w = np.array([[1, 3, -1], [0, -4, 2]])\n",
    "b = np.array([[-3,2]]).reshape((w.shape[0],1))\n",
    "y = w@x + b \n",
    "print(y)"
   ]
  },
  {
   "cell_type": "code",
   "execution_count": null,
   "metadata": {},
   "outputs": [],
   "source": []
  }
 ],
 "metadata": {
  "kernelspec": {
   "display_name": "Python 3",
   "language": "python",
   "name": "python3"
  },
  "language_info": {
   "codemirror_mode": {
    "name": "ipython",
    "version": 3
   },
   "file_extension": ".py",
   "mimetype": "text/x-python",
   "name": "python",
   "nbconvert_exporter": "python",
   "pygments_lexer": "ipython3",
   "version": "3.7.4"
  }
 },
 "nbformat": 4,
 "nbformat_minor": 4
}
