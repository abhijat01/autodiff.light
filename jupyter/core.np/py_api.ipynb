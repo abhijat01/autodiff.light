{
 "cells": [
  {
   "cell_type": "code",
   "execution_count": null,
   "metadata": {},
   "outputs": [],
   "source": [
    "import numpy as np \n",
    "a=np.array([[1,2,1],[-1,0,2]])\n",
    "print(a)\n",
    "x=np.array([[2,-1]]).T\n",
    "print(x)"
   ]
  },
  {
   "cell_type": "code",
   "execution_count": null,
   "metadata": {},
   "outputs": [],
   "source": [
    "a*x"
   ]
  },
  {
   "cell_type": "code",
   "execution_count": null,
   "metadata": {},
   "outputs": [],
   "source": [
    "ones = np.ones((3,5))\n",
    "print(ones)"
   ]
  },
  {
   "cell_type": "code",
   "execution_count": null,
   "metadata": {},
   "outputs": [],
   "source": [
    "r = np.random.rand(ones.size).reshape(ones.shape)"
   ]
  },
  {
   "cell_type": "code",
   "execution_count": null,
   "metadata": {},
   "outputs": [],
   "source": [
    "print(a)\n",
    "np.average(a, axis=1).reshape(2,1)"
   ]
  },
  {
   "cell_type": "code",
   "execution_count": null,
   "metadata": {},
   "outputs": [],
   "source": [
    "x=None \n",
    "value = x and ones \n",
    "if value : \n",
    "    print(\"value  ..\")\n",
    "else:\n",
    "    print('Not inited')"
   ]
  },
  {
   "cell_type": "code",
   "execution_count": null,
   "metadata": {},
   "outputs": [],
   "source": [
    "x=np.random.rand(3,5)\n",
    "print(x)\n",
    "w = np.array([[1, 3, -1], [0, -4, 2]])\n",
    "b = np.array([[-3,2]]).reshape((w.shape[0],1))\n",
    "y = w@x + b \n",
    "print(y)"
   ]
  },
  {
   "cell_type": "code",
   "execution_count": null,
   "metadata": {},
   "outputs": [],
   "source": [
    "m,n=20,30 \n",
    "k=2\n",
    "end_i = m-k\n",
    "end_j = n-k\n",
    "for i in range(end_i):\n",
    "    for j in range(end_j):\n",
    "        i_idx = (i, i+k)\n",
    "        j_idx = (j, j+k)\n",
    "        print(\"[{}][{}]\".format(i_idx, j_idx))"
   ]
  },
  {
   "cell_type": "code",
   "execution_count": 2,
   "metadata": {},
   "outputs": [],
   "source": [
    "import numpy as np\n",
    "a=np.array([[1,2,3,4],[3,4,5,6],[-1,0,1,3]])"
   ]
  },
  {
   "cell_type": "code",
   "execution_count": 3,
   "metadata": {},
   "outputs": [
    {
     "name": "stdout",
     "output_type": "stream",
     "text": [
      "[[ 1  2  3  4]\n",
      " [ 3  4  5  6]\n",
      " [-1  0  1  3]]\n"
     ]
    }
   ],
   "source": [
    "print(a)"
   ]
  },
  {
   "cell_type": "code",
   "execution_count": 4,
   "metadata": {},
   "outputs": [],
   "source": [
    "w=np.array([[-10,-12],[-9,-15]])"
   ]
  },
  {
   "cell_type": "code",
   "execution_count": 6,
   "metadata": {},
   "outputs": [
    {
     "name": "stdout",
     "output_type": "stream",
     "text": [
      "array([[-10, -12],\n",
      "       [ -9, -15]])\n",
      "array([[ 1,  2,  3,  4],\n",
      "       [ 3,  4,  5,  6],\n",
      "       [-1,  0,  1,  3]])\n"
     ]
    }
   ],
   "source": [
    "print(repr(w))\n",
    "print(repr(a))"
   ]
  },
  {
   "cell_type": "code",
   "execution_count": 14,
   "metadata": {},
   "outputs": [
    {
     "ename": "SyntaxError",
     "evalue": "invalid syntax (<ipython-input-14-a1504144563c>, line 1)",
     "output_type": "error",
     "traceback": [
      "\u001b[1;36m  File \u001b[1;32m\"<ipython-input-14-a1504144563c>\"\u001b[1;36m, line \u001b[1;32m1\u001b[0m\n\u001b[1;33m    ranges=((1:3),(2:4))\u001b[0m\n\u001b[1;37m              ^\u001b[0m\n\u001b[1;31mSyntaxError\u001b[0m\u001b[1;31m:\u001b[0m invalid syntax\n"
     ]
    }
   ],
   "source": [
    "ranges=((1:3),(2:4))\n",
    "a[ranges[0],ranges[1]]+=w"
   ]
  },
  {
   "cell_type": "code",
   "execution_count": 12,
   "metadata": {},
   "outputs": [
    {
     "name": "stdout",
     "output_type": "stream",
     "text": [
      "array([[  1,   2,   3,   4],\n",
      "       [  3,   4,  -5,  -6],\n",
      "       [ -1,   0,  -8, -12]])\n"
     ]
    }
   ],
   "source": [
    "print(repr(a))"
   ]
  },
  {
   "cell_type": "code",
   "execution_count": 22,
   "metadata": {},
   "outputs": [
    {
     "name": "stdout",
     "output_type": "stream",
     "text": [
      "[0, 1, 2]\n",
      "[1, 2, 3]\n"
     ]
    }
   ],
   "source": [
    "k=2\n",
    "i=1\n",
    "x_idx=[x for x in range(i-1, i+k)]\n",
    "print(x_idx)\n",
    "j=2\n",
    "y_idx=[x for x in range(j-1,j+k)]\n",
    "print(y_idx)"
   ]
  },
  {
   "cell_type": "code",
   "execution_count": 24,
   "metadata": {},
   "outputs": [
    {
     "name": "stdout",
     "output_type": "stream",
     "text": [
      "3\n"
     ]
    }
   ],
   "source": [
    "print(np.argmax(a))"
   ]
  },
  {
   "cell_type": "code",
   "execution_count": 30,
   "metadata": {},
   "outputs": [
    {
     "data": {
      "text/plain": [
       "-5"
      ]
     },
     "execution_count": 30,
     "metadata": {},
     "output_type": "execute_result"
    }
   ],
   "source": [
    "a[1][2]"
   ]
  },
  {
   "cell_type": "code",
   "execution_count": 28,
   "metadata": {},
   "outputs": [
    {
     "name": "stdout",
     "output_type": "stream",
     "text": [
      "4\n",
      "5\n",
      "6\n"
     ]
    }
   ],
   "source": [
    "k=3 \n",
    "i_start=4\n",
    "\n",
    "for i in range(i_start,i_start+k):\n",
    "    print(i) "
   ]
  },
  {
   "cell_type": "code",
   "execution_count": null,
   "metadata": {},
   "outputs": [],
   "source": []
  }
 ],
 "metadata": {
  "kernelspec": {
   "display_name": "Python 3",
   "language": "python",
   "name": "python3"
  },
  "language_info": {
   "codemirror_mode": {
    "name": "ipython",
    "version": 3
   },
   "file_extension": ".py",
   "mimetype": "text/x-python",
   "name": "python",
   "nbconvert_exporter": "python",
   "pygments_lexer": "ipython3",
   "version": "3.7.4"
  }
 },
 "nbformat": 4,
 "nbformat_minor": 4
}
