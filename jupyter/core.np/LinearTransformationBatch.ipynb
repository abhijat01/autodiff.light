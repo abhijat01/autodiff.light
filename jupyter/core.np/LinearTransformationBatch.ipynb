{
 "cells": [
  {
   "cell_type": "code",
   "execution_count": 47,
   "metadata": {},
   "outputs": [],
   "source": [
    "import numpy as np \n",
    "np.random.seed(100)"
   ]
  },
  {
   "cell_type": "code",
   "execution_count": 48,
   "metadata": {},
   "outputs": [
    {
     "name": "stdout",
     "output_type": "stream",
     "text": [
      "[[ 1  2  1]\n",
      " [ 2  0 -1]]\n",
      "x=np.array([[0.54340494, 0.27836939, 0.42451759, 0.84477613, 0.00471886],\n",
      "       [0.12156912, 0.67074908, 0.82585276, 0.13670659, 0.57509333],\n",
      "       [0.89132195, 0.20920212, 0.18532822, 0.10837689, 0.21969749]])\n"
     ]
    }
   ],
   "source": [
    "w=np.array([[1,2,1],[2,0,-1]])\n",
    "print(w)\n",
    "x=np.random.rand(3,5)\n",
    "print(\"x=np.\"+repr(x)) "
   ]
  },
  {
   "cell_type": "code",
   "execution_count": 49,
   "metadata": {},
   "outputs": [
    {
     "data": {
      "text/plain": [
       "array([[ 1.67786514,  1.82906968,  2.26155132,  1.2265662 ,  1.37460301],\n",
       "       [ 0.19548793,  0.34753665,  0.66370696,  1.58117537, -0.21025978]])"
      ]
     },
     "execution_count": 49,
     "metadata": {},
     "output_type": "execute_result"
    }
   ],
   "source": [
    "w@x"
   ]
  },
  {
   "cell_type": "code",
   "execution_count": 46,
   "metadata": {},
   "outputs": [
    {
     "name": "stdout",
     "output_type": "stream",
     "text": [
      "y_pre=np.array([[0.97862378, 0.81168315, 0.17194101, 0.81622475, 0.27407375],\n",
      "       [0.43170418, 0.94002982, 0.81764938, 0.33611195, 0.17541045]])\n"
     ]
    }
   ],
   "source": [
    "y_pred=np.random.rand(2,5)\n",
    "print(\"y_pre=np.\"+repr(y_pred))"
   ]
  },
  {
   "cell_type": "code",
   "execution_count": 16,
   "metadata": {},
   "outputs": [],
   "source": [
    "err_y = y_pred-w@x"
   ]
  },
  {
   "cell_type": "code",
   "execution_count": 17,
   "metadata": {},
   "outputs": [
    {
     "data": {
      "text/plain": [
       "array([[-2.90744166, -2.76690973, -1.09443327, -1.28127583, -0.92800047],\n",
       "       [-0.75209635,  1.12543011,  0.55214063,  0.50130161, -0.22750847]])"
      ]
     },
     "execution_count": 17,
     "metadata": {},
     "output_type": "execute_result"
    }
   ],
   "source": [
    "err_y"
   ]
  },
  {
   "cell_type": "code",
   "execution_count": 18,
   "metadata": {},
   "outputs": [
    {
     "data": {
      "text/plain": [
       "array([[-9.53720444, -7.67152905, -1.47404798, -2.66113089, -0.87534149],\n",
       "       [-1.01603683, -0.58705313, -0.24680296, -0.05983444, -0.06005872]])"
      ]
     },
     "execution_count": 18,
     "metadata": {},
     "output_type": "execute_result"
    }
   ],
   "source": [
    "(w@x)*err_y"
   ]
  },
  {
   "cell_type": "code",
   "execution_count": 22,
   "metadata": {},
   "outputs": [],
   "source": [
    "delw=(w@x)*err_y"
   ]
  },
  {
   "cell_type": "code",
   "execution_count": 23,
   "metadata": {},
   "outputs": [],
   "source": [
    "delw=delw.sum(axis=1)"
   ]
  },
  {
   "cell_type": "code",
   "execution_count": 40,
   "metadata": {},
   "outputs": [
    {
     "name": "stdout",
     "output_type": "stream",
     "text": [
      "Shape of delw:(1, 2). delw:[[-22.21925386  -1.96978609]]\n"
     ]
    }
   ],
   "source": [
    "delw=delw.reshape((-1, len(delw) ))\n",
    "print(\"Shape of delw:{}. delw:{}\".format(delw.shape, delw))"
   ]
  },
  {
   "cell_type": "code",
   "execution_count": 36,
   "metadata": {},
   "outputs": [
    {
     "name": "stdout",
     "output_type": "stream",
     "text": [
      "[[1.]\n",
      " [1.]\n",
      " [1.]]\n"
     ]
    }
   ],
   "source": [
    "ones = np.ones((w.shape[1],1))\n",
    "print(ones)"
   ]
  },
  {
   "cell_type": "code",
   "execution_count": 38,
   "metadata": {},
   "outputs": [
    {
     "data": {
      "text/plain": [
       "array([[-22.21925386,  -1.96978609],\n",
       "       [-22.21925386,  -1.96978609],\n",
       "       [-22.21925386,  -1.96978609]])"
      ]
     },
     "execution_count": 38,
     "metadata": {},
     "output_type": "execute_result"
    }
   ],
   "source": [
    "ones@delw"
   ]
  },
  {
   "cell_type": "code",
   "execution_count": 51,
   "metadata": {},
   "outputs": [
    {
     "name": "stdout",
     "output_type": "stream",
     "text": [
      "6\n"
     ]
    }
   ],
   "source": [
    "print(w.size)"
   ]
  },
  {
   "cell_type": "code",
   "execution_count": null,
   "metadata": {},
   "outputs": [],
   "source": []
  }
 ],
 "metadata": {
  "kernelspec": {
   "display_name": "Python 3",
   "language": "python",
   "name": "python3"
  },
  "language_info": {
   "codemirror_mode": {
    "name": "ipython",
    "version": 3
   },
   "file_extension": ".py",
   "mimetype": "text/x-python",
   "name": "python",
   "nbconvert_exporter": "python",
   "pygments_lexer": "ipython3",
   "version": "3.7.4"
  }
 },
 "nbformat": 4,
 "nbformat_minor": 4
}
